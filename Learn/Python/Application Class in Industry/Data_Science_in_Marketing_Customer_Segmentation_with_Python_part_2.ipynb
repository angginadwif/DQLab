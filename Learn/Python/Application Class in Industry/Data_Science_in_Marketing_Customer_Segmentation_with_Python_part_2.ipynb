{
  "nbformat": 4,
  "nbformat_minor": 0,
  "metadata": {
    "colab": {
      "name": "Data Science in Marketing : Customer Segmentation with Python part 2.ipynb",
      "provenance": [],
      "collapsed_sections": []
    },
    "kernelspec": {
      "name": "python3",
      "display_name": "Python 3"
    }
  },
  "cells": [
    {
      "cell_type": "markdown",
      "metadata": {
        "id": "BQL4bAhObopX"
      },
      "source": [
        "Apa itu Clustering dan Algoritma K-Prototypes\r\n",
        "\r\n",
        "Clustering adalah proses pembagian objek-objek ke dalam beberapa kelompok (cluster) berdasarkan tingkat kemiripan antara satu objek dengan yang lain.\r\n",
        "\r\n",
        "Terdapat beberapa algoritma untuk melakukan clustering ini. Salah satu yang populer adalah k-means.\r\n",
        "\r\n",
        "K-means itu sendiri biasa nya hanya digunakan untuk data-data yang bersifat numerik. Sedangkan untuk yang bersifat kategorikal saja, kita bisa menggunakan k-modes.\r\n",
        "\r\n",
        "Lalu bagaimana apabila di data kita terdapat gabungan kategorikal dan numerikal variabel? Jawabannya kita bisa menggunakan algoritma k-prototype yang merupakan gabungan dari k-means dan k-modes. Hal ini bisa di lakukan dengan menggunakan library k-modes yang di dalamnya terdapat modul kprototype."
      ]
    },
    {
      "cell_type": "code",
      "metadata": {
        "colab": {
          "base_uri": "https://localhost:8080/"
        },
        "id": "12ho4qxLk-bj",
        "outputId": "01398992-c499-4444-ba9e-bbe3d663dbc0"
      },
      "source": [
        "!pip install kmodes"
      ],
      "execution_count": 7,
      "outputs": [
        {
          "output_type": "stream",
          "text": [
            "Collecting kmodes\n",
            "  Downloading https://files.pythonhosted.org/packages/9b/34/fffc601aa4d44b94e945a7cc72f477e09dffa7dce888898f2ffd9f4e343e/kmodes-0.11.0-py2.py3-none-any.whl\n",
            "Requirement already satisfied: joblib>=0.11 in /usr/local/lib/python3.6/dist-packages (from kmodes) (1.0.0)\n",
            "Requirement already satisfied: scikit-learn>=0.22.0 in /usr/local/lib/python3.6/dist-packages (from kmodes) (0.22.2.post1)\n",
            "Requirement already satisfied: numpy>=1.10.4 in /usr/local/lib/python3.6/dist-packages (from kmodes) (1.19.5)\n",
            "Requirement already satisfied: scipy>=0.13.3 in /usr/local/lib/python3.6/dist-packages (from kmodes) (1.4.1)\n",
            "Installing collected packages: kmodes\n",
            "Successfully installed kmodes-0.11.0\n"
          ],
          "name": "stdout"
        }
      ]
    },
    {
      "cell_type": "markdown",
      "metadata": {
        "id": "09BvA0zsgOX1"
      },
      "source": [
        "Mencari Jumlah Cluster yang Optimal"
      ]
    },
    {
      "cell_type": "code",
      "metadata": {
        "colab": {
          "base_uri": "https://localhost:8080/",
          "height": 265
        },
        "id": "3dPC-3I6kujp",
        "outputId": "9a182548-2cc5-4e46-9fb6-fbada339fe68"
      },
      "source": [
        "from kmodes.kmodes import KModes  \r\n",
        "from kmodes.kprototypes import KPrototypes  \r\n",
        "import pandas as pd\r\n",
        "import seaborn as sns\r\n",
        "import matplotlib.pyplot as plt \r\n",
        "df_model = pd.read_csv('https://dqlab-dataset.s3-ap-southeast-1.amazonaws.com/df-customer-segmentation.csv')\r\n",
        "\r\n",
        "# Melakukan Iterasi untuk Mendapatkan nilai Cost  \r\n",
        "cost = {}  \r\n",
        "for k in range(2,10):  \r\n",
        "    kproto = KPrototypes (n_clusters = k,random_state=75)  \r\n",
        "    kproto.fit_predict(df_model, categorical=[0,1,2])  \r\n",
        "    cost [k]= kproto.cost_  \r\n",
        "  \r\n",
        "# Memvisualisasikan Elbow Plot  \r\n",
        "sns.pointplot(x=list(cost.keys()), y=list(cost.values()))  \r\n",
        "plt.show()\r\n"
      ],
      "execution_count": 8,
      "outputs": [
        {
          "output_type": "display_data",
          "data": {
            "image/png": "[encoded data removed]",
            "text/plain": [
              "<Figure size 432x288 with 1 Axes>"
            ]
          },
          "metadata": {
            "tags": [],
            "needs_background": "light"
          }
        }
      ]
    },
    {
      "cell_type": "markdown",
      "metadata": {
        "id": "5GBGzte6lQr5"
      },
      "source": [
        "Membuat Model\r\n",
        "\r\n",
        "Selanjutnya kamu dapat melakukan pembuatan model dengan jumlah kluster yang sudah di dapat pada tahap sebelumnya yaitu 5 dan menyimpan hasilnya sebagai pickle file.\r\n",
        "\r\n",
        "Tugas:\r\n",
        "\r\n",
        "Buatlah model Kprototypes dengan nilai k = 5 dan random state 75. Kemudian simpan hasilnya dalam bentuk pickle."
      ]
    },
    {
      "cell_type": "code",
      "metadata": {
        "id": "Knd4MGwGmfEz"
      },
      "source": [
        "import pickle\r\n",
        "from kmodes.kmodes import Kmodes \r\n",
        "from kmodes.kprototypes import KPrototypes  \r\n",
        "  \r\n",
        "kproto = KPrototypes(n_clusters= 5, random_state = 75)  \r\n",
        "kproto = kproto.fit(df_model, categorical=[0,1,2])  \r\n",
        "  \r\n",
        "#Save Model  \r\n",
        "pickle.dump(kproto, open('cluster.pkl', 'wb'))  "
      ],
      "execution_count": null,
      "outputs": []
    },
    {
      "cell_type": "markdown",
      "metadata": {
        "id": "cOsxOMjimZAH"
      },
      "source": [
        "Menggunakan Model\r\n",
        "\r\n",
        "Tugas:\r\n",
        "\r\n",
        "Tentukan cluster setiap pelanggan yang ada di dataset menggunakan model kproto yang sudah di buat sebelumnya. Kemudian gabungkan hasil prediksi tersebut dengan data awal (df) sehingga kita mendapatkan data pelanggan beserta nama cluster nya."
      ]
    },
    {
      "cell_type": "code",
      "metadata": {
        "colab": {
          "base_uri": "https://localhost:8080/"
        },
        "id": "O4vEhArXmvmZ",
        "outputId": "b907382f-6354-446f-ee22-bb1070562b4b"
      },
      "source": [
        "import pandas as pd\r\n",
        "df = pd.read_csv(\"https://dqlab-dataset.s3-ap-southeast-1.amazonaws.com/customer_segments.txt\", sep=\"\\t\") \r\n",
        "# Menentukan segmen tiap pelanggan    \r\n",
        "clusters =  kproto.predict(df_model, categorical=[0,1,2])    \r\n",
        "print('segmen pelanggan: {}\\n'.format(clusters))    \r\n",
        "    \r\n",
        "# Menggabungkan data awal dan segmen pelanggan    \r\n",
        "df_final = df.copy()    \r\n",
        "df_final['cluster'] = clusters\r\n",
        "print(df_final.head())   \r\n"
      ],
      "execution_count": 16,
      "outputs": [
        {
          "output_type": "stream",
          "text": [
            "segmen pelanggan: [8 3 5 5 6 2 8 5 2 2 5 5 8 8 1 2 2 5 6 3 6 5 2 6 1 5 6 0 5 0 4 7 4 1 0 6 2\n",
            " 7 2 3 2 1 2 1 2 1 5 7 0 7]\n",
            "\n",
            "  Customer_ID       Nama Pelanggan  ... NilaiBelanjaSetahun  cluster\n",
            "0    CUST-001         Budi Anggara  ...             9497927        8\n",
            "1    CUST-002     Shirley Ratuwati  ...             2722700        3\n",
            "2    CUST-003         Agus Cahyono  ...             5286429        5\n",
            "3    CUST-004     Antonius Winarta  ...             5204498        5\n",
            "4    CUST-005  Ibu Sri Wahyuni, IR  ...            10615206        6\n",
            "\n",
            "[5 rows x 8 columns]\n"
          ],
          "name": "stdout"
        }
      ]
    },
    {
      "cell_type": "markdown",
      "metadata": {
        "id": "t5ufEmLFnhC4"
      },
      "source": [
        "Menampilkan Cluster Tiap Pelanggan\r\n",
        "\r\n",
        "Tugas:\r\n",
        "\r\n",
        "Tampilkan data pelanggan yang di kelompokkan berdasarkan nomor clusternya"
      ]
    },
    {
      "cell_type": "code",
      "metadata": {
        "colab": {
          "base_uri": "https://localhost:8080/"
        },
        "id": "dhT47Ohnnlvm",
        "outputId": "9c55fcd2-4c7b-480b-b97f-5138849c0346"
      },
      "source": [
        "# Menampilkan data pelanggan berdasarkan cluster nya  \r\n",
        "for i in range (0,5):  \r\n",
        "    print('\\nPelanggan cluster: {}\\n'.format(i))  \r\n",
        "    print(df_final[df_final['cluster']== i])\r\n"
      ],
      "execution_count": 17,
      "outputs": [
        {
          "output_type": "stream",
          "text": [
            "\n",
            "Pelanggan cluster: 0\n",
            "\n",
            "   Customer_ID   Nama Pelanggan  ... NilaiBelanjaSetahun  cluster\n",
            "27    CUST-028    Adeline Huang  ...             6631680        0\n",
            "29    CUST-030   Rosita Saragih  ...             5020976        0\n",
            "34    CUST-035          Ida Ayu  ...             5962575        0\n",
            "48    CUST-049  Josephine Wahab  ...             4992585        0\n",
            "\n",
            "[4 rows x 8 columns]\n",
            "\n",
            "Pelanggan cluster: 1\n",
            "\n",
            "   Customer_ID    Nama Pelanggan  ... NilaiBelanjaSetahun  cluster\n",
            "14    CUST-015  Shirley Ratuwati  ...            10365668        1\n",
            "24    CUST-025    Julia Setiawan  ...            10721998        1\n",
            "33    CUST-034    Deasy Arisandi  ...             9759822        1\n",
            "41    CUST-042      Yuliana Wati  ...             9880607        1\n",
            "43    CUST-044              Anna  ...             9339737        1\n",
            "45    CUST-046      Elfira Surya  ...            10099807        1\n",
            "\n",
            "[6 rows x 8 columns]\n",
            "\n",
            "Pelanggan cluster: 2\n",
            "\n",
            "   Customer_ID         Nama Pelanggan  ... NilaiBelanjaSetahun  cluster\n",
            "5     CUST-006        Rosalina Kurnia  ...             5215541        2\n",
            "8     CUST-009  Elisabeth Suryadinata  ...             5993218        2\n",
            "9     CUST-010         Mario Setiawan  ...             5257448        2\n",
            "15    CUST-016           Bambang Rudi  ...             5262521        2\n",
            "16    CUST-017              Yuni Sari  ...             5677762        2\n",
            "22    CUST-023        Denny Amiruddin  ...             5239290        2\n",
            "36    CUST-037       Felicia Tandiono  ...             5972787        2\n",
            "38    CUST-039           Gina Hidayat  ...             5257775        2\n",
            "40    CUST-041       Shinta Aritonang  ...             6820976        2\n",
            "42    CUST-043           Yenna Sumadi  ...             5268410        2\n",
            "44    CUST-045         Rismawati Juni  ...             5211041        2\n",
            "\n",
            "[11 rows x 8 columns]\n",
            "\n",
            "Pelanggan cluster: 3\n",
            "\n",
            "   Customer_ID    Nama Pelanggan  ... NilaiBelanjaSetahun  cluster\n",
            "1     CUST-002  Shirley Ratuwati  ...             2722700        3\n",
            "19    CUST-020    Irene Novianto  ...             2896845        3\n",
            "39    CUST-040    Irene Darmawan  ...             2861855        3\n",
            "\n",
            "[3 rows x 8 columns]\n",
            "\n",
            "Pelanggan cluster: 4\n",
            "\n",
            "   Customer_ID   Nama Pelanggan  ... NilaiBelanjaSetahun  cluster\n",
            "30    CUST-031    Eviana Handry  ...             3042773        4\n",
            "32    CUST-033  Cecilia Kusnadi  ...             3047926        4\n",
            "\n",
            "[2 rows x 8 columns]\n"
          ],
          "name": "stdout"
        }
      ]
    },
    {
      "cell_type": "markdown",
      "metadata": {
        "id": "ozHxc_WBoD0j"
      },
      "source": [
        "\r\n",
        "Visualisasi Hasil Clustering - Box Plot\r\n",
        "\r\n",
        "Tugas:\r\n",
        "\r\n",
        "Buatlah boxlplot untuk memvisualisasikan setiap variabel tiap pelanggan yang dibagi berdasarkan nama clusternya. "
      ]
    },
    {
      "cell_type": "code",
      "metadata": {
        "colab": {
          "base_uri": "https://localhost:8080/",
          "height": 633
        },
        "id": "2kNwvEj7oGzp",
        "outputId": "fabe9552-87b2-4834-c790-711de61ef613"
      },
      "source": [
        "import matplotlib.pyplot as plt\r\n",
        "# Data Numerical\r\n",
        "kolom_numerik = ['Umur','NilaiBelanjaSetahun']  \r\n",
        "  \r\n",
        "for i in kolom_numerik:  \r\n",
        "    plt.figure(figsize=(6,4))  \r\n",
        "    ax = sns.boxplot(x = 'cluster',y = i, data = df_final)  \r\n",
        "    plt. title('\\nBox Plot {}\\n'.format(i), fontsize=12)  \r\n",
        "    plt.show() \r\n"
      ],
      "execution_count": 18,
      "outputs": [
        {
          "output_type": "display_data",
          "data": {
            "image/png": "[encoded data removed]",
            "text/plain": [
              "<Figure size 432x288 with 1 Axes>"
            ]
          },
          "metadata": {
            "tags": [],
            "needs_background": "light"
          }
        },
        {
          "output_type": "display_data",
          "data": {
            "image/png": "[encoded data removed]",
            "text/plain": [
              "<Figure size 432x288 with 1 Axes>"
            ]
          },
          "metadata": {
            "tags": [],
            "needs_background": "light"
          }
        }
      ]
    },
    {
      "cell_type": "markdown",
      "metadata": {
        "id": "k1LZp_cmokR6"
      },
      "source": [
        "Visualisasi Hasil Clustering - Count Plot\r\n",
        "\r\n",
        "Tugas:\r\n",
        "\r\n",
        "Buatlah countplot untuk memvisualisasikan setiap variabel tiap pelanggan yang dibagi berdasarkan nama clusternya. "
      ]
    },
    {
      "cell_type": "code",
      "metadata": {
        "colab": {
          "base_uri": "https://localhost:8080/",
          "height": 941
        },
        "id": "tOTQx7RyoqMd",
        "outputId": "cdb7b285-c139-499f-e1ee-41a6fda35564"
      },
      "source": [
        "import matplotlib.pyplot as plt\r\n",
        "# Data Kategorikal\r\n",
        "kolom_categorical = ['Jenis Kelamin','Profesi','Tipe Residen']\r\n",
        "\r\n",
        "for i in kolom_categorical:\r\n",
        "    plt.figure(figsize=(6,4))\r\n",
        "    ax = sns.countplot(data = df_final, x = 'cluster', hue = i )\r\n",
        "    plt.title('\\nCount Plot {}\\n'.format(i), fontsize=12)\r\n",
        "    ax.legend(loc=\"upper center\")\r\n",
        "for p in ax.patches:\r\n",
        "    ax.annotate(format(p.get_height(), '.0f'),\r\n",
        "    (p.get_x() + p.get_width() / 2., p.get_height()),\r\n",
        "    ha = 'center',\r\n",
        "    va = 'center',\r\n",
        "    xytext = (0, 10),\r\n",
        "    textcoords = 'offset points')\r\n",
        "\r\n",
        "sns.despine(right=True,top = True, left = True)\r\n",
        "ax.axes.yaxis.set_visible(False)\r\n",
        "plt.show()"
      ],
      "execution_count": 20,
      "outputs": [
        {
          "output_type": "display_data",
          "data": {
            "image/png": "[encoded data removed]",
            "text/plain": [
              "<Figure size 432x288 with 1 Axes>"
            ]
          },
          "metadata": {
            "tags": [],
            "needs_background": "light"
          }
        },
        {
          "output_type": "display_data",
          "data": {
            "image/png": "[encoded data removed]",
            "text/plain": [
              "<Figure size 432x288 with 1 Axes>"
            ]
          },
          "metadata": {
            "tags": [],
            "needs_background": "light"
          }
        },
        {
          "output_type": "display_data",
          "data": {
            "image/png": "[encoded data removed]",
            "text/plain": [
              "<Figure size 432x288 with 1 Axes>"
            ]
          },
          "metadata": {
            "tags": [],
            "needs_background": "light"
          }
        }
      ]
    },
    {
      "cell_type": "markdown",
      "metadata": {
        "id": "9zPxQRItqFsw"
      },
      "source": [
        "Menamakan Cluster\r\n",
        "\r\n",
        "Tugas:\r\n",
        "\r\n",
        "Tambahkan satu buah kolom dengan nama segmen. Kemudian isilah kolom ini dengan nama segmen dari tiap tiap pelanggan berdasarkan nilai cluster nya dan tampilkan lima data teratas."
      ]
    },
    {
      "cell_type": "code",
      "metadata": {
        "colab": {
          "base_uri": "https://localhost:8080/"
        },
        "id": "ivSfQt9Tqdj-",
        "outputId": "78b3c374-1f8a-47f8-a51d-1d41d8f45343"
      },
      "source": [
        "# Mapping nama kolom  \r\n",
        "df_final['segmen'] = df_final['cluster'].map({  \r\n",
        "    0: 'Diamond Young Member',  \r\n",
        "    1: 'Diamond Senior Member',  \r\n",
        "    2: 'Silver Member',  \r\n",
        "    3: 'Gold Young Member',  \r\n",
        "    4: 'Gold Senior Member'  \r\n",
        "})  \r\n",
        "\r\n",
        "print(df_final.info())\r\n",
        "print(df_final.head())  \r\n"
      ],
      "execution_count": 21,
      "outputs": [
        {
          "output_type": "stream",
          "text": [
            "<class 'pandas.core.frame.DataFrame'>\n",
            "RangeIndex: 50 entries, 0 to 49\n",
            "Data columns (total 9 columns):\n",
            " #   Column               Non-Null Count  Dtype \n",
            "---  ------               --------------  ----- \n",
            " 0   Customer_ID          50 non-null     object\n",
            " 1   Nama Pelanggan       50 non-null     object\n",
            " 2   Jenis Kelamin        50 non-null     object\n",
            " 3   Umur                 50 non-null     int64 \n",
            " 4   Profesi              50 non-null     object\n",
            " 5   Tipe Residen         50 non-null     object\n",
            " 6   NilaiBelanjaSetahun  50 non-null     int64 \n",
            " 7   cluster              50 non-null     uint16\n",
            " 8   segmen               26 non-null     object\n",
            "dtypes: int64(2), object(6), uint16(1)\n",
            "memory usage: 3.3+ KB\n",
            "None\n",
            "  Customer_ID       Nama Pelanggan  ... cluster             segmen\n",
            "0    CUST-001         Budi Anggara  ...       8                NaN\n",
            "1    CUST-002     Shirley Ratuwati  ...       3  Gold Young Member\n",
            "2    CUST-003         Agus Cahyono  ...       5                NaN\n",
            "3    CUST-004     Antonius Winarta  ...       5                NaN\n",
            "4    CUST-005  Ibu Sri Wahyuni, IR  ...       6                NaN\n",
            "\n",
            "[5 rows x 9 columns]\n"
          ],
          "name": "stdout"
        }
      ]
    },
    {
      "cell_type": "markdown",
      "metadata": {
        "id": "Z3VJREjyJT2V"
      },
      "source": [
        "Mempersiapkan Data Baru\r\n",
        "\r\n",
        "Tugas:\r\n",
        "\r\n",
        "Buatlah satu dataframe yang berisi informasi pelanggan dan tampilkan hasilnya."
      ]
    },
    {
      "cell_type": "code",
      "metadata": {
        "colab": {
          "base_uri": "https://localhost:8080/"
        },
        "id": "Eg7KGRWYJYtW",
        "outputId": "b9d3551e-8767-4831-f983-561b87edfeda"
      },
      "source": [
        "# Data Baru  \r\n",
        "data = [{  \r\n",
        "    'Customer_ID': 'CUST-100' ,  \r\n",
        "    'Nama Pelanggan': 'Joko' ,  \r\n",
        "    'Jenis Kelamin': 'Pria',  \r\n",
        "    'Umur': 45,  \r\n",
        "    'Profesi': 'Wiraswasta',  \r\n",
        "    'Tipe Residen': 'Cluster' ,  \r\n",
        "    'NilaiBelanjaSetahun': 8230000  \r\n",
        "      \r\n",
        "}]  \r\n",
        "  \r\n",
        "# Membuat Data Frame  \r\n",
        "new_df = pd.DataFrame(data)  \r\n",
        "  \r\n",
        "# Melihat Data  \r\n",
        "print(new_df)  "
      ],
      "execution_count": 22,
      "outputs": [
        {
          "output_type": "stream",
          "text": [
            "  Customer_ID Nama Pelanggan  ... Tipe Residen  NilaiBelanjaSetahun\n",
            "0    CUST-100           Joko  ...      Cluster              8230000\n",
            "\n",
            "[1 rows x 7 columns]\n"
          ],
          "name": "stdout"
        }
      ]
    },
    {
      "cell_type": "markdown",
      "metadata": {
        "id": "8KXfcx6WLNh9"
      },
      "source": [
        "Membuat Fungsi Data Pemrosesan\r\n"
      ]
    },
    {
      "cell_type": "code",
      "metadata": {
        "colab": {
          "base_uri": "https://localhost:8080/"
        },
        "id": "epmvffrILhJ_",
        "outputId": "ad8f7c4c-4b1d-4642-bd58-6d1ab13bcf32"
      },
      "source": [
        "def data_preprocess(data):\r\n",
        "    # Konversi Kategorikal data\r\n",
        "    kolom_kategorikal = ['Jenis Kelamin','Profesi','Tipe Residen']\r\n",
        "\r\n",
        "    df_encode = data[kolom_kategorikal].copy()\r\n",
        "\r\n",
        "    ## Jenis Kelamin\r\n",
        "    df_encode['Jenis Kelamin'] = df_encode['Jenis Kelamin'].map({\r\n",
        "    'Pria': 0,\r\n",
        "    'Wanita' : 1\r\n",
        "    })\r\n",
        "\r\n",
        "    ## Profesi\r\n",
        "    df_encode['Profesi'] = df_encode['Profesi'].map({\r\n",
        "    'Ibu Rumah Tangga': 0,\r\n",
        "    'Mahasiswa' : 1,\r\n",
        "    'Pelajar': 2,\r\n",
        "    'Professional': 3,\r\n",
        "    'Wiraswasta': 4\r\n",
        "    })\r\n",
        "\r\n",
        "    ## Tipe Residen\r\n",
        "    df_encode['Tipe Residen'] = df_encode['Tipe Residen'].map({\r\n",
        "    'Cluster': 0,\r\n",
        "    'Sector' : 1\r\n",
        "    })\r\n",
        "\r\n",
        "    # Standardisasi Numerical Data\r\n",
        "    kolom_numerik = ['Umur','NilaiBelanjaSetahun']\r\n",
        "    df_std = data[kolom_numerik].copy()\r\n",
        "\r\n",
        "    ## Standardisasi Kolom Umur\r\n",
        "    df_std['Umur'] = (df_std['Umur'] - 37.5)/14.7\r\n",
        "\r\n",
        "    ## Standardisasi Kolom Nilai Belanja Setahun\r\n",
        "    df_std['NilaiBelanjaSetahun'] = (df_std['NilaiBelanjaSetahun'] - 7069874.8)/2590619.0\r\n",
        "\r\n",
        "    # Menggabungkan Kategorikal dan numerikal data\r\n",
        "    df_model = df_encode.merge(df_std, left_index = True,\r\n",
        "    right_index=True, how = 'left')\r\n",
        "\r\n",
        "    return df_model\r\n",
        "\r\n",
        "# Menjalankan fungsi\r\n",
        "new_df_model = data_preprocess(new_df)\r\n",
        "\r\n",
        "print(new_df_model)"
      ],
      "execution_count": 27,
      "outputs": [
        {
          "output_type": "stream",
          "text": [
            "   Jenis Kelamin  Profesi  Tipe Residen      Umur  NilaiBelanjaSetahun\n",
            "0              0        4             0  0.510204             0.447818\n"
          ],
          "name": "stdout"
        }
      ]
    },
    {
      "cell_type": "markdown",
      "metadata": {
        "id": "gDvyfFdhM8gb"
      },
      "source": [
        "Memanggil Model dan Melakukan Prediksi\r\n",
        "\r\n",
        "Tugas:\r\n",
        "\r\n",
        "Buatlah fungsi yang bisa di gunakan untuk memanggil model dan melakukan prediksi serta menyimpan hasilnya nya kedalam satu dataframe. Jika berhasil di panggil, kita akan mendapatkan cluster dari data yang kita masukan."
      ]
    },
    {
      "cell_type": "code",
      "metadata": {
        "id": "kxRNzRRiPUSG"
      },
      "source": [
        "def modelling (data):  \r\n",
        "      \r\n",
        "    # Memanggil Model  \r\n",
        "    kpoto = pickle.load(open('cluster.pkl', 'rb'))  \r\n",
        "      \r\n",
        "    # Melakukan Prediksi  \r\n",
        "    clusters = kpoto.predict(data,categorical=[0,1,2])  \r\n",
        "      \r\n",
        "    return clusters  \r\n",
        "  \r\n",
        "# Menjalankan Fungsi  \r\n",
        "clusters = modelling(new_df_model)  \r\n",
        "  \r\n",
        "print(clusters)"
      ],
      "execution_count": null,
      "outputs": []
    },
    {
      "cell_type": "markdown",
      "metadata": {
        "id": "0smReytvN4PU"
      },
      "source": [
        "Menamakan Segmen\r\n",
        "\r\n",
        "Tugas:\r\n",
        "\r\n",
        "Disini kamu harus membuat fungsi yang bernama menamakan_segmen dengan data asli dan clusters sebagai inputnya."
      ]
    },
    {
      "cell_type": "code",
      "metadata": {
        "id": "CGnwLmKsPExL"
      },
      "source": [
        "def menamakan_segmen (data_asli, clusters):\r\n",
        "\r\n",
        "    # Menggabungkan cluster dan data asli\r\n",
        "    final_df = data_asli.copy()\r\n",
        "    final_df['cluster'] = clusters\r\n",
        "\r\n",
        "    # Menamakan segmen\r\n",
        "    final_df['segmen'] = final_df['cluster'].map({\r\n",
        "    0: 'Diamond Young Member',\r\n",
        "    1: 'Diamond Senior Member',\r\n",
        "    2: 'Silver Students',\r\n",
        "    3: 'Gold Young Member',\r\n",
        "    4: 'Gold Senior Member'\r\n",
        "    })\r\n",
        "\r\n",
        "    return final_df\r\n",
        "\r\n",
        "# Menjalankan Fungsi\r\n",
        "new_final_df = menamakan_segmen(new_df,clusters)\r\n",
        "\r\n",
        "print(new_final_df)"
      ],
      "execution_count": null,
      "outputs": []
    }
  ]
}