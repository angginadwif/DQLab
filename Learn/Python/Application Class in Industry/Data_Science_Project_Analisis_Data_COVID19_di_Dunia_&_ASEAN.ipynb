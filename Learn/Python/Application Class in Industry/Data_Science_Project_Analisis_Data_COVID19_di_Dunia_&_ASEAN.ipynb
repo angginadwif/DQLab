{
  "nbformat": 4,
  "nbformat_minor": 0,
  "metadata": {
    "colab": {
      "name": "Data Science Project: Analisis Data COVID19 di Dunia & ASEAN.ipynb",
      "provenance": [],
      "collapsed_sections": []
    },
    "kernelspec": {
      "name": "python3",
      "display_name": "Python 3"
    }
  },
  "cells": [
    {
      "cell_type": "markdown",
      "metadata": {
        "id": "_PFrYjWNRIfb"
      },
      "source": [
        "Library yang dibutuhkan"
      ]
    },
    {
      "cell_type": "code",
      "metadata": {
        "id": "3xCUfvtHRjgt"
      },
      "source": [
        "import json\r\n",
        "import numpy as np\r\n",
        "import pandas as pd\r\n",
        "import requests"
      ],
      "execution_count": 2,
      "outputs": []
    },
    {
      "cell_type": "markdown",
      "metadata": {
        "id": "sKitAShkRyNO"
      },
      "source": [
        "Membuat Fungsi get API\r\n"
      ]
    },
    {
      "cell_type": "code",
      "metadata": {
        "id": "lHDbZen9SCl9"
      },
      "source": [
        "def get_json(api_url):\r\n",
        "\tresponse = requests.get(api_url)\r\n",
        "\tif response.status_code == 200:\r\n",
        "\t\treturn json.loads(response.content.decode('utf-8'))\r\n",
        "\telse:\r\n",
        "\t\treturn none"
      ],
      "execution_count": 3,
      "outputs": []
    },
    {
      "cell_type": "markdown",
      "metadata": {
        "id": "V6b5xqnVSgwJ"
      },
      "source": [
        "Memanggil API Covid19\r\n",
        "\r\n",
        "Rekapitulasi data COVID-19 global berada di https://covid19-api.org/. Gunakan parameter record_date untuk mengambil data covid19 di seluruh negara pada tanggal tertentu. Untuk kasus ini, gunakan record_date '2020-08-17', dan masukkan hasil respon api ke variable df_covid_worldwide."
      ]
    },
    {
      "cell_type": "code",
      "metadata": {
        "colab": {
          "base_uri": "https://localhost:8080/"
        },
        "id": "udDAabsbSjwA",
        "outputId": "e76fc805-743f-46ca-ace7-15f04bd31137"
      },
      "source": [
        "record_date = '2020-08-17'\r\n",
        "covid_url = 'https://covid19-api.org/api/status?date='+record_date\r\n",
        "df_covid_worldwide = pd.io.json.json_normalize(get_json(covid_url))\r\n",
        "\r\n",
        "print(df_covid_worldwide.head())"
      ],
      "execution_count": 4,
      "outputs": [
        {
          "output_type": "stream",
          "text": [
            "  country          last_update    cases  deaths  recovered\n",
            "0      US  2020-08-16T23:27:50  5401167  170019    1833067\n",
            "1      BR  2020-08-16T23:27:50  3340197  107852    2655017\n",
            "2      IN  2020-08-16T23:27:50  2589682   49980    1862258\n",
            "3      RU  2020-08-16T23:27:50   920719   15653     731444\n",
            "4      ZA  2020-08-16T23:27:50   587345   11839     472377\n"
          ],
          "name": "stdout"
        },
        {
          "output_type": "stream",
          "text": [
            "/usr/local/lib/python3.6/dist-packages/ipykernel_launcher.py:3: FutureWarning: pandas.io.json.json_normalize is deprecated, use pandas.json_normalize instead\n",
            "  This is separate from the ipykernel package so we can avoid doing imports until\n"
          ],
          "name": "stderr"
        }
      ]
    },
    {
      "cell_type": "markdown",
      "metadata": {
        "id": "rcmFe7P2Ssdp"
      },
      "source": [
        "Merubah Format date\r\n",
        "\r\n",
        "Ubah format kolom 'last_update' menggunakan fungsi to_datetime dengan format YYYY-mm-dd HH:MM:SS. Lalu ubah bentuk datetime ke bentuk date dengan fungsi date() melalui fungsi lambda untuk mengubah setiap row-nya."
      ]
    },
    {
      "cell_type": "code",
      "metadata": {
        "id": "uXo9eB6aSyFP"
      },
      "source": [
        "df_covid_worldwide['last_update'] = pd.to_datetime(df_covid_worldwide['last_update'], format='%Y-%m-%d %H:%M:%S')\r\n",
        "df_covid_worldwide['last_update'] = df_covid_worldwide['last_update'].apply(lambda x: x.date())"
      ],
      "execution_count": 7,
      "outputs": []
    },
    {
      "cell_type": "markdown",
      "metadata": {
        "id": "hxNLq-P3US3j"
      },
      "source": [
        "Mengambil Data Countries\r\n",
        "\r\n",
        "Buatlah dataframe countries dengan memanggil variable countries_url ke api covid19-api.org. Lalu ubah nama kolom alpha2 menjadi country, kemudian ambil hanya kolom name dan country saja untuk dataframe countries (df_countries) ini.\r\n",
        "\r\n",
        "Akhirnya cetaklah lima data teratas dari dataframe countries (df_countries).\r\n"
      ]
    },
    {
      "cell_type": "code",
      "metadata": {
        "colab": {
          "base_uri": "https://localhost:8080/"
        },
        "id": "DdCHWHnSUWzP",
        "outputId": "534532d6-fc76-444d-de3a-ca4b5d3eac01"
      },
      "source": [
        "countries_url = 'https://covid19-api.org/api/countries'\r\n",
        "df_countries = pd.io.json.json_normalize(get_json(countries_url))\r\n",
        "df_countries = df_countries.rename(columns={'alpha2': 'country'})[['name','country']]\r\n",
        "\r\n",
        "print(df_countries.head())"
      ],
      "execution_count": 8,
      "outputs": [
        {
          "output_type": "stream",
          "text": [
            "          name country\n",
            "0  Afghanistan      AF\n",
            "1      Albania      AL\n",
            "2      Algeria      DZ\n",
            "3      Andorra      AD\n",
            "4       Angola      AO\n"
          ],
          "name": "stdout"
        },
        {
          "output_type": "stream",
          "text": [
            "/usr/local/lib/python3.6/dist-packages/ipykernel_launcher.py:2: FutureWarning: pandas.io.json.json_normalize is deprecated, use pandas.json_normalize instead\n",
            "  \n"
          ],
          "name": "stderr"
        }
      ]
    },
    {
      "cell_type": "markdown",
      "metadata": {
        "id": "q1RZsRy-Uat3"
      },
      "source": [
        "\r\n",
        "Merge Covid19 Data dan Countries\r\n",
        "\r\n",
        "Selanjutnya adalah mapping data covid19 dan data country. Gunakan fungsi merge pada pandas untuk menggabungkan df_covid_worldwide dan df_countries. Untuk merge, gunakan kolom country. Lalu print sample data dengan menggunakan head()."
      ]
    },
    {
      "cell_type": "code",
      "metadata": {
        "colab": {
          "base_uri": "https://localhost:8080/"
        },
        "id": "5mXgegtWUgej",
        "outputId": "42218921-9026-4082-c077-c2803153b6b6"
      },
      "source": [
        "df_covid_denormalized = pd.merge(df_covid_worldwide, df_countries, on='country')\r\n",
        "\r\n",
        "print(df_covid_denormalized.head())"
      ],
      "execution_count": 9,
      "outputs": [
        {
          "output_type": "stream",
          "text": [
            "  country last_update    cases  deaths  recovered                      name\n",
            "0      US  2020-08-16  5401167  170019    1833067  United States of America\n",
            "1      BR  2020-08-16  3340197  107852    2655017                    Brazil\n",
            "2      IN  2020-08-16  2589682   49980    1862258                     India\n",
            "3      RU  2020-08-16   920719   15653     731444        Russian Federation\n",
            "4      ZA  2020-08-16   587345   11839     472377              South Africa\n"
          ],
          "name": "stdout"
        }
      ]
    },
    {
      "cell_type": "markdown",
      "metadata": {
        "id": "XjechysQU3vq"
      },
      "source": [
        "\r\n",
        "Menghitung Fatality Ratio\r\n",
        "\r\n",
        "Tambahkan satu kolom tambahan yaitu fatality_ratio, yang merupakan pembagian antara kolom deaths dan cases."
      ]
    },
    {
      "cell_type": "code",
      "metadata": {
        "id": "lrCDBgpNU4zB"
      },
      "source": [
        "df_covid_denormalized['fatality_ratio'] = df_covid_denormalized['deaths']/df_covid_denormalized['cases']"
      ],
      "execution_count": 10,
      "outputs": []
    },
    {
      "cell_type": "markdown",
      "metadata": {
        "id": "IZwYDvB2VVbY"
      },
      "source": [
        "Negara-negara dengan Fatality Ratio Tertinggi\r\n",
        "\r\n",
        "Ambil top 20 negara dengan value kolom fatality_ratio tertinggi dengan menggunakan fungsi sort_values."
      ]
    },
    {
      "cell_type": "code",
      "metadata": {
        "id": "EBCie54MVqso"
      },
      "source": [
        "df_top_20_fatality_rate = df_covid_denormalized.sort_values(by='fatality_ratio', ascending=False).head(20)"
      ],
      "execution_count": 12,
      "outputs": []
    },
    {
      "cell_type": "markdown",
      "metadata": {
        "id": "ikXyQ6JJV7T-"
      },
      "source": [
        "\r\n",
        "Import Library Visualisasi"
      ]
    },
    {
      "cell_type": "code",
      "metadata": {
        "id": "V6Hn-1rpWAif"
      },
      "source": [
        "import matplotlib.pyplot as plt"
      ],
      "execution_count": 13,
      "outputs": []
    },
    {
      "cell_type": "markdown",
      "metadata": {
        "id": "IVpVgN4QWMxL"
      },
      "source": [
        "\r\n",
        "Visualisasi Negara dengan Fatality Ratio Tertinggi\r\n",
        "\r\n",
        "Untuk memvisualisasikan negara-negara dengan kasus fatality rate tertinggi akibat covid-19 ini dapat dilakukan dengan menggunakan bar chart.  Di sini tentukan terlebih dahulu isi dari variable x axis dan y axis.\r\n",
        "\r\n",
        "Variabel x axis adalah kolom name, dan kolom y atau value nya adalah kolom fatality_ratio dan gunakan fungsi plt.bar([value x axis, value y axis]).\r\n",
        "\r\n",
        "Label sumbu x diputar 90 derajat untuk menghindari bertumpuknya nama-nama negara pada posisi 0 derajat."
      ]
    },
    {
      "cell_type": "code",
      "metadata": {
        "colab": {
          "base_uri": "https://localhost:8080/",
          "height": 508
        },
        "id": "rd71FxrfWO5U",
        "outputId": "c2f4b996-4668-42d2-b715-95befe2f30ee"
      },
      "source": [
        "import matplotlib.pyplot as plt\r\n",
        "plt.figure(figsize=(20, 8))\r\n",
        "x = df_top_20_fatality_rate['name']\r\n",
        "y = df_top_20_fatality_rate['fatality_ratio']\r\n",
        "plt.bar(x,y)\r\n",
        "plt.xlabel('Country Name')\r\n",
        "plt.ylabel('Fatality Rate')\r\n",
        "plt.title('Top 20 Highest Fatality Rate Countries')\r\n",
        "plt.xticks(rotation=90)\r\n",
        "plt.tight_layout()\r\n",
        "plt.show()"
      ],
      "execution_count": 14,
      "outputs": [
        {
          "output_type": "display_data",
          "data": {
            "image/png": "[encoded data removed]",
            "text/plain": [
              "<Figure size 1440x576 with 1 Axes>"
            ]
          },
          "metadata": {
            "tags": [],
            "needs_background": "light"
          }
        }
      ]
    },
    {
      "cell_type": "markdown",
      "metadata": {
        "id": "GDTlwUu1aq02"
      },
      "source": [
        "Menggabungkan Dataframe\r\n",
        "\r\n",
        "Selanjutnya adalah membandingkan kasus covid19 di Indonesia (ID) dengan negara-negara tetangga, yaitu:\r\n",
        "\r\n",
        "    MY -> Malaysia,\r\n",
        "    SG -> Singapure,\r\n",
        "    TH -> Thailand,\r\n",
        "    VN -> Vietnam.\r\n",
        "\r\n",
        "Untuk itu, api country dipanggil berkali-kali sebanyak negara yang akan kita bandingkan.\r\n",
        "\r\n",
        "Gunakan fungsi pd.io.json.json_normalize dan panggil function yang sudah dibuat sebelumnya, yaitu get_json().\r\n",
        "\r\n",
        "Gunakan fungsi datetime untuk merubah string ke bentuk datetime (YYYY-mm-dd HH:MM:SS) yang selanjutnya diubah ke format date.\r\n",
        "\r\n",
        "Cetaklah lima data teratas dari dataframe yang telah dibentuk."
      ]
    },
    {
      "cell_type": "code",
      "metadata": {
        "colab": {
          "base_uri": "https://localhost:8080/"
        },
        "id": "dhiOpm9NatAh",
        "outputId": "b4cec7e1-81e5-4d4d-97f1-2ea27b47107f"
      },
      "source": [
        "countries = ['ID','MY','SG','TH','VN']\r\n",
        "i = 0\r\n",
        "for country in countries:\r\n",
        "\tcovid_timeline_url = 'https://covid19-api.org/api/timeline/'+country\r\n",
        "\tdf_covid_timeline = pd.io.json.json_normalize(get_json(covid_timeline_url))\r\n",
        "\tdf_covid_timeline['last_update'] = pd.to_datetime(df_covid_timeline['last_update'], format='%Y-%m-%dT%H:%M:%S')\r\n",
        "\tdf_covid_timeline['last_update'] = df_covid_timeline['last_update'].apply(lambda x: x.date())\r\n",
        "\tif i==0:\r\n",
        "\t\tdf_covid_timeline_merged = df_covid_timeline\r\n",
        "\telse:\r\n",
        "\t\tdf_covid_timeline_merged = df_covid_timeline.append(df_covid_timeline_merged, ignore_index=True)\r\n",
        "\ti=i+1\r\n",
        "    \r\n",
        "print(df_covid_timeline_merged.head())"
      ],
      "execution_count": 16,
      "outputs": [
        {
          "output_type": "stream",
          "text": [
            "/usr/local/lib/python3.6/dist-packages/ipykernel_launcher.py:5: FutureWarning: pandas.io.json.json_normalize is deprecated, use pandas.json_normalize instead\n",
            "  \"\"\"\n"
          ],
          "name": "stderr"
        },
        {
          "output_type": "stream",
          "text": [
            "  country last_update  cases  deaths  recovered\n",
            "0      VN  2021-02-17   2329      35       1574\n",
            "1      VN  2021-02-16   2311      35       1573\n",
            "2      VN  2021-02-15   2269      35       1541\n",
            "3      VN  2021-02-14   2228      35       1532\n",
            "4      VN  2021-02-13   2195      35       1529\n"
          ],
          "name": "stdout"
        }
      ]
    },
    {
      "cell_type": "markdown",
      "metadata": {
        "id": "x-bzWX_Fb12s"
      },
      "source": [
        "\r\n",
        "Merge Data Covid19 Dengan Data Country\r\n",
        "\r\n",
        "Lalu gabungkan df_covid_timeline_merged dengan df_countries dengan kolom country sebagai pivot."
      ]
    },
    {
      "cell_type": "code",
      "metadata": {
        "id": "K6iC24Dzb5c-"
      },
      "source": [
        "df_covid_timeline_denormalized = pd.merge(df_covid_timeline_merged, df_countries, on='country')"
      ],
      "execution_count": 17,
      "outputs": []
    },
    {
      "cell_type": "markdown",
      "metadata": {
        "id": "qQYPClOUcLXw"
      },
      "source": [
        "\r\n",
        "Kasus Covid-19 di ASEAN pada Bulan Maret 2020\r\n",
        "\r\n",
        "Filter kolom last_update dari data covid19 sehingga hanya data dari tanggal 1 Maret 2020 ke atas yangdiambil. Format datetime.date menggunakan format YYYY, mm, dd."
      ]
    },
    {
      "cell_type": "code",
      "metadata": {
        "id": "2cc96q25c0Mw"
      },
      "source": [
        "import datetime\r\n",
        "df_covid_timeline_denormalized = df_covid_timeline_denormalized[(df_covid_timeline_denormalized['last_update'] >= datetime.date(2020, 3, 1))]"
      ],
      "execution_count": 19,
      "outputs": []
    },
    {
      "cell_type": "markdown",
      "metadata": {
        "id": "fflXBLurdGdv"
      },
      "source": [
        "\r\n",
        "Visualisasi Kasus Covid-19 di ASEAN\r\n",
        "\r\n",
        "Buat variable x dan y dimana x adalah tanggal (last_update) pada tiap-tiap negara dan y adalah jumlah kasus (cases) pada tiap-tiap negara. Lalu plot x dan y untuk menggambar line chart."
      ]
    },
    {
      "cell_type": "code",
      "metadata": {
        "colab": {
          "base_uri": "https://localhost:8080/",
          "height": 295
        },
        "id": "Sjracbk7eU5e",
        "outputId": "6b975d14-9583-4ab3-8662-721ffa5c0ad4"
      },
      "source": [
        "import matplotlib.pyplot as plt\r\n",
        "plt.clf()\r\n",
        "countries = ['ID','MY','SG','TH','VN']\r\n",
        "for country in countries:\r\n",
        "\tcountry_data = df_covid_timeline_denormalized['country']==country\r\n",
        "\tx = df_covid_timeline_denormalized[country_data]['last_update']\r\n",
        "\ty = df_covid_timeline_denormalized[country_data]['cases']\r\n",
        "\tplt.plot(x, y, label = country)\r\n",
        "\r\n",
        "plt.legend()\r\n",
        "plt.xlabel('Record Date')\r\n",
        "plt.ylabel('Total Cases')\r\n",
        "plt.title('Asean Covid19 Cases Comparison')\r\n",
        "plt.show()"
      ],
      "execution_count": 20,
      "outputs": [
        {
          "output_type": "display_data",
          "data": {
            "image/png": "[encoded data removed]",
            "text/plain": [
              "<Figure size 432x288 with 1 Axes>"
            ]
          },
          "metadata": {
            "tags": [],
            "needs_background": "light"
          }
        }
      ]
    }
  ]
}