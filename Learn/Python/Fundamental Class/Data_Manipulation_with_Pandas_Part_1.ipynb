{
  "nbformat": 4,
  "nbformat_minor": 0,
  "metadata": {
    "colab": {
      "name": "Data Manipulation with Pandas - Part 1.ipynb",
      "provenance": [],
      "collapsed_sections": []
    },
    "kernelspec": {
      "name": "python3",
      "display_name": "Python 3"
    }
  },
  "cells": [
    {
      "cell_type": "markdown",
      "metadata": {
        "id": "UQumDxGsjk_g"
      },
      "source": [
        "Memanggil Library Pandas"
      ]
    },
    {
      "cell_type": "code",
      "metadata": {
        "id": "Zh6yYksLn9Io"
      },
      "source": [
        "import pandas as pd\r\n",
        "import numpy as np"
      ],
      "execution_count": 1,
      "outputs": []
    },
    {
      "cell_type": "markdown",
      "metadata": {
        "id": "qAzBbTEdoHs9"
      },
      "source": [
        "DataFrame & Series\r\n"
      ]
    },
    {
      "cell_type": "code",
      "metadata": {
        "colab": {
          "base_uri": "https://localhost:8080/"
        },
        "id": "sdMp6QodqbsG",
        "outputId": "ac5cab09-0bfc-49b4-cc67-7871edfb5988"
      },
      "source": [
        "import pandas as pd\r\n",
        "# Series\r\n",
        "number_list = pd.Series([1, 2, 3, 4, 5, 6])\r\n",
        "print(\"Series:\")\r\n",
        "print(number_list)\r\n",
        "# DataFrame\r\n",
        "matrix = [[1, 2, 3],\r\n",
        "          ['a','b','c'],\r\n",
        "          [3, 4, 5],\r\n",
        "          ['d',4,6]]\r\n",
        "matrix_list = pd.DataFrame(matrix)\r\n",
        "print(\"DataFrame:\")\r\n",
        "print(matrix_list)"
      ],
      "execution_count": 3,
      "outputs": [
        {
          "output_type": "stream",
          "text": [
            "Series:\n",
            "0    1\n",
            "1    2\n",
            "2    3\n",
            "3    4\n",
            "4    5\n",
            "5    6\n",
            "dtype: int64\n",
            "DataFrame:\n",
            "   0  1  2\n",
            "0  1  2  3\n",
            "1  a  b  c\n",
            "2  3  4  5\n",
            "3  d  4  6\n"
          ],
          "name": "stdout"
        }
      ]
    },
    {
      "cell_type": "markdown",
      "metadata": {
        "id": "Eb_ishR_qtgE"
      },
      "source": [
        "Atribut DataFrame & Series - Part 1\r\n",
        "\r\n",
        "Dataframe dan Series memiliki sangat banyak atribut yang digunakan untuk transformasi data, tetapi ada beberapa attribute yang sering dipakai. Di sini series number_list dan data frame matrix_list pada subbab sebelumnya digunakan kembali."
      ]
    },
    {
      "cell_type": "code",
      "metadata": {
        "colab": {
          "base_uri": "https://localhost:8080/"
        },
        "id": "-ZjVbLQmu0z4",
        "outputId": "a3d3cc7a-f5ed-4025-c39a-4b5e6220f4ee"
      },
      "source": [
        "import pandas as pd\r\n",
        "# Series\r\n",
        "number_list = pd.Series([1,2,3,4,5,6])\r\n",
        "# DataFrame\r\n",
        "matrix_list = pd.DataFrame([[1,2,3],\r\n",
        "\t\t\t\t            ['a','b','c'],\r\n",
        "\t\t\t\t            [3,4,5],\r\n",
        "\t\t\t\t            ['d',4,6]])\r\n",
        "# [1] attribute .info()\r\n",
        "print(\"[1] attribute .info()\")\r\n",
        "print(matrix_list.info())\r\n",
        "# [2] attribute .shape\r\n",
        "print(\"\\n[2] attribute .shape\")\r\n",
        "print(\"    Shape dari number_list:\", number_list.shape)\r\n",
        "print(\"    Shape dari matrix_list:\", matrix_list.shape)\r\n",
        "# [3] attribute .dtypes\r\n",
        "print(\"\\n[3] attribute .dtypes\")\r\n",
        "print(\"    Tipe data number_list:\", number_list.dtypes)\r\n",
        "print(\"    Tipe data matrix_list:\", matrix_list.dtypes)\r\n",
        "# [4] attribute .astype()\r\n",
        "print(\"\\n[4] attribute .astype()\")\r\n",
        "print(\"    Konversi number_list ke str:\", number_list.astype(\"str\"))\r\n",
        "print(\"    Konversi matrix_list ke str:\", matrix_list.astype(\"str\"))"
      ],
      "execution_count": 5,
      "outputs": [
        {
          "output_type": "stream",
          "text": [
            "[1] attribute .info()\n",
            "<class 'pandas.core.frame.DataFrame'>\n",
            "RangeIndex: 4 entries, 0 to 3\n",
            "Data columns (total 3 columns):\n",
            " #   Column  Non-Null Count  Dtype \n",
            "---  ------  --------------  ----- \n",
            " 0   0       4 non-null      object\n",
            " 1   1       4 non-null      object\n",
            " 2   2       4 non-null      object\n",
            "dtypes: object(3)\n",
            "memory usage: 224.0+ bytes\n",
            "None\n",
            "\n",
            "[2] attribute .shape\n",
            "    Shape dari number_list: (6,)\n",
            "    Shape dari matrix_list: (4, 3)\n",
            "\n",
            "[3] attribute .dtypes\n",
            "    Tipe data number_list: int64\n",
            "    Tipe data matrix_list: 0    object\n",
            "1    object\n",
            "2    object\n",
            "dtype: object\n",
            "\n",
            "[4] attribute .astype()\n",
            "    Konversi number_list ke str: 0    1\n",
            "1    2\n",
            "2    3\n",
            "3    4\n",
            "4    5\n",
            "5    6\n",
            "dtype: object\n",
            "    Konversi matrix_list ke str:    0  1  2\n",
            "0  1  2  3\n",
            "1  a  b  c\n",
            "2  3  4  5\n",
            "3  d  4  6\n"
          ],
          "name": "stdout"
        }
      ]
    },
    {
      "cell_type": "markdown",
      "metadata": {
        "id": "eh4bxlw6vf53"
      },
      "source": [
        "Atribut DataFrame & Series - Part 2"
      ]
    },
    {
      "cell_type": "code",
      "metadata": {
        "colab": {
          "base_uri": "https://localhost:8080/"
        },
        "id": "R59VCA81vhu9",
        "outputId": "53b0bdc7-f9bb-4dbd-ac6e-fafde8db5520"
      },
      "source": [
        "import pandas as pd\r\n",
        "# Series\r\n",
        "number_list = pd.Series([1,2,3,4,5,6])\r\n",
        "# DataFrame\r\n",
        "matrix_list = pd.DataFrame([[1,2,3],\r\n",
        "\t\t\t\t            ['a','b','c'],\r\n",
        "\t\t\t\t            [3,4,5],\r\n",
        "\t\t\t\t            ['d',4,6]])\r\n",
        "# [5] attribute .copy()\r\n",
        "print(\"[5] attribute .copy()\")\r\n",
        "num_list = number_list.copy()\r\n",
        "print(\"    Copy number_list ke num_list:\", num_list)\r\n",
        "mtr_list = matrix_list.copy()\r\n",
        "print(\"    Copy matrix_list ke mtr_list:\", mtr_list)\t\r\n",
        "# [6] attribute .to_list()\r\n",
        "print(\"[6] attribute .to_list()\")\r\n",
        "print(number_list.to_list())\r\n",
        "# [7] attribute .unique()\r\n",
        "print(\"[7] attribute .unique()\")\r\n",
        "print(number_list.unique())"
      ],
      "execution_count": 6,
      "outputs": [
        {
          "output_type": "stream",
          "text": [
            "[5] attribute .copy()\n",
            "    Copy number_list ke num_list: 0    1\n",
            "1    2\n",
            "2    3\n",
            "3    4\n",
            "4    5\n",
            "5    6\n",
            "dtype: int64\n",
            "    Copy matrix_list ke mtr_list:    0  1  2\n",
            "0  1  2  3\n",
            "1  a  b  c\n",
            "2  3  4  5\n",
            "3  d  4  6\n",
            "[6] attribute .to_list()\n",
            "[1, 2, 3, 4, 5, 6]\n",
            "[7] attribute .unique()\n",
            "[1 2 3 4 5 6]\n"
          ],
          "name": "stdout"
        }
      ]
    },
    {
      "cell_type": "markdown",
      "metadata": {
        "id": "qc_rDDfRIitp"
      },
      "source": [
        "Atribut DataFrame & Series - Part 3\r\n",
        "\r\n"
      ]
    },
    {
      "cell_type": "code",
      "metadata": {
        "colab": {
          "base_uri": "https://localhost:8080/"
        },
        "id": "cZi1it2lLsnd",
        "outputId": "f70b5421-34c3-4284-a8af-a066d01e7154"
      },
      "source": [
        "import pandas as pd\r\n",
        "# Series\r\n",
        "number_list = pd.Series([1,2,3,4,5,6])\r\n",
        "# DataFrame\r\n",
        "matrix_list = pd.DataFrame([[1,2,3],\r\n",
        "\t\t\t\t            ['a','b','c'],\r\n",
        "\t\t\t\t            [3,4,5],\r\n",
        "\t\t\t\t            ['d',4,6]])\r\n",
        "# [8] attribute .index\r\n",
        "print(\"[8] attribute .index\")\r\n",
        "print(\"    Index number_list:\", number_list.index)\r\n",
        "print(\"    Index matrix_list:\", matrix_list.index)\t\r\n",
        "# [9] attribute .columns\r\n",
        "print(\"[9] attribute .columns\")\r\n",
        "print(\"    Column matrix_list:\", matrix_list.columns)\r\n",
        "# [10] attribute .loc\r\n",
        "print(\"[10] attribute .loc\")\r\n",
        "print(\"    .loc[0:1] pada number_list:\", number_list.loc[0:1])\r\n",
        "print(\"    .loc[0:1] pada matrix_list:\", matrix_list.loc[0:1])\r\n",
        "# [11] attribute .iloc\r\n",
        "print(\"[11] attribute .iloc\")\r\n",
        "print(\"    iloc[0:1] pada number_list:\", number_list.iloc[0:1])\r\n",
        "print(\"    iloc[0:1] pada matrix_list:\", matrix_list.iloc[0:1])\t"
      ],
      "execution_count": 10,
      "outputs": [
        {
          "output_type": "stream",
          "text": [
            "[8] attribute .index\n",
            "    Index number_list: RangeIndex(start=0, stop=6, step=1)\n",
            "    Index matrix_list: RangeIndex(start=0, stop=4, step=1)\n",
            "[9] attribute .columns\n",
            "    Column matrix_list: RangeIndex(start=0, stop=3, step=1)\n",
            "[10] attribute .loc\n",
            "    .loc[0:1] pada number_list: 0    1\n",
            "1    2\n",
            "dtype: int64\n",
            "    .loc[0:1] pada matrix_list:    0  1  2\n",
            "0  1  2  3\n",
            "1  a  b  c\n",
            "[11] attribute .iloc\n",
            "    iloc[0:1] pada number_list: 0    1\n",
            "dtype: int64\n",
            "    iloc[0:1] pada matrix_list:    0  1  2\n",
            "0  1  2  3\n"
          ],
          "name": "stdout"
        }
      ]
    },
    {
      "cell_type": "markdown",
      "metadata": {
        "id": "Yx_awyaGMhM-"
      },
      "source": [
        "Quiz"
      ]
    },
    {
      "cell_type": "code",
      "metadata": {
        "colab": {
          "base_uri": "https://localhost:8080/"
        },
        "id": "3e1lkI5fMaBC",
        "outputId": "8172dc5a-5e7e-421a-8e40-a87e645c6832"
      },
      "source": [
        "matrix = [[1,2,3],\r\n",
        "          ['a','b','c'],\r\n",
        "          [3,4,5],\r\n",
        "          ['d',4,6]]\r\n",
        "matrix_list = pd.DataFrame(matrix)\r\n",
        "matrix_list.iloc[0:2,2].to_list()"
      ],
      "execution_count": 11,
      "outputs": [
        {
          "output_type": "execute_result",
          "data": {
            "text/plain": [
              "[3, 'c']"
            ]
          },
          "metadata": {
            "tags": []
          },
          "execution_count": 11
        }
      ]
    },
    {
      "cell_type": "markdown",
      "metadata": {
        "id": "d5oPvjYPMmu2"
      },
      "source": [
        "Creating Series & Dataframe from List\r\n",
        "\r\n",
        "Untuk membuat Series atau Dataframe bisa dari berbagai macam tipe data container/mapping di python, seperti list dan dictionary, maupun dari numpy array."
      ]
    },
    {
      "cell_type": "code",
      "metadata": {
        "colab": {
          "base_uri": "https://localhost:8080/"
        },
        "id": "frO7JVS2UIaK",
        "outputId": "2c4b2767-3549-4862-e1ab-aa0e5a297474"
      },
      "source": [
        "import pandas as pd\r\n",
        "# Creating series from list\r\n",
        "ex_list = ['a',1,3,5,'c','d']\r\n",
        "ex_series = pd.Series(ex_list)\r\n",
        "print(ex_series)\r\n",
        "# Creating dataframe from list of list\r\n",
        "ex_list_of_list = [[1, 'a', 'b', 'c'],\r\n",
        "                   [2.5, 'd', 'e', 'f'],\r\n",
        "\t\t           [5, 'g', 'h', 'i'],\r\n",
        "\t\t           [7.5, 'j', 10.5, 'l']]\r\n",
        "index = ['dq', 'lab', 'kar', 'lan']\r\n",
        "cols = ['float', 'char', 'obj', 'char']\r\n",
        "ex_df = pd.DataFrame(ex_list_of_list, index=index, columns=cols)\r\n",
        "print(ex_df)"
      ],
      "execution_count": 14,
      "outputs": [
        {
          "output_type": "stream",
          "text": [
            "0    a\n",
            "1    1\n",
            "2    3\n",
            "3    5\n",
            "4    c\n",
            "5    d\n",
            "dtype: object\n",
            "     float char   obj char\n",
            "dq     1.0    a     b    c\n",
            "lab    2.5    d     e    f\n",
            "kar    5.0    g     h    i\n",
            "lan    7.5    j  10.5    l\n"
          ],
          "name": "stdout"
        }
      ]
    },
    {
      "cell_type": "markdown",
      "metadata": {
        "id": "7p7aDsBAZnNw"
      },
      "source": [
        "Creating Series & Dataframe from Dictionary"
      ]
    },
    {
      "cell_type": "code",
      "metadata": {
        "colab": {
          "base_uri": "https://localhost:8080/"
        },
        "id": "poLwEVvha0h7",
        "outputId": "211ef28a-80ea-44ae-b977-10dd733b53be"
      },
      "source": [
        "import pandas as pd\r\n",
        "# Creating series from dictionary\r\n",
        "dict_series = {'1':'a',\r\n",
        "\t\t\t   '2':'b',\r\n",
        "\t\t\t   '3':'c'}\r\n",
        "ex_series = pd.Series(dict_series)\r\n",
        "print(ex_series)\r\n",
        "# Creating dataframe from dictionary\r\n",
        "df_series = {'1':['a', 'b', 'c'],\r\n",
        "             '2':['b', 'c', 'd'],\r\n",
        "             '4':[2,3,'z']}\r\n",
        "ex_df = pd.DataFrame(df_series)\r\n",
        "print(ex_df)"
      ],
      "execution_count": 15,
      "outputs": [
        {
          "output_type": "stream",
          "text": [
            "1    a\n",
            "2    b\n",
            "3    c\n",
            "dtype: object\n",
            "   1  2  4\n",
            "0  a  b  2\n",
            "1  b  c  3\n",
            "2  c  d  z\n"
          ],
          "name": "stdout"
        }
      ]
    },
    {
      "cell_type": "markdown",
      "metadata": {
        "id": "FZrvq35WbP5G"
      },
      "source": [
        "Creating Series & Dataframe from Numpy Array"
      ]
    },
    {
      "cell_type": "code",
      "metadata": {
        "colab": {
          "base_uri": "https://localhost:8080/"
        },
        "id": "4MPGenBxbQ4P",
        "outputId": "2a53e166-3512-4c73-a1d4-25d1c54d31c7"
      },
      "source": [
        "import pandas as pd\r\n",
        "import numpy as np\r\n",
        "# Creating series from numpy array (1D)\r\n",
        "arr_series = np.array([1,2,3,4,5,6,6,7])\r\n",
        "ex_series = pd.Series(arr_series)\r\n",
        "print(ex_series)\r\n",
        "# Creating dataframe from numpy array (2D)\r\n",
        "arr_df = np.array([[1, 2, 3, 5],\r\n",
        "                   [5, 6, 7, 8],\r\n",
        "                   ['a','b','c',10]])\r\n",
        "ex_df = pd.DataFrame(arr_df)\r\n",
        "print(ex_df)"
      ],
      "execution_count": 18,
      "outputs": [
        {
          "output_type": "stream",
          "text": [
            "0    1\n",
            "1    2\n",
            "2    3\n",
            "3    4\n",
            "4    5\n",
            "5    6\n",
            "6    6\n",
            "7    7\n",
            "dtype: int64\n",
            "   0  1  2   3\n",
            "0  1  2  3   5\n",
            "1  5  6  7   8\n",
            "2  a  b  c  10\n"
          ],
          "name": "stdout"
        }
      ]
    },
    {
      "cell_type": "markdown",
      "metadata": {
        "id": "29BDnnqodPnS"
      },
      "source": [
        "Read Dataset - CSV dan TSV"
      ]
    },
    {
      "cell_type": "code",
      "metadata": {
        "colab": {
          "base_uri": "https://localhost:8080/"
        },
        "id": "8Pqi8UOMdQv3",
        "outputId": "bc7222d1-b5b3-435f-c2fa-16a8fc63dfad"
      },
      "source": [
        "import pandas as pd\r\n",
        "# File CSV\r\n",
        "df_csv = pd.read_csv(\"https://dqlab-dataset.s3-ap-southeast-1.amazonaws.com/sample_csv.csv\")\r\n",
        "print(df_csv.head(3)) # Menampilkan 3 data teratas\r\n",
        "# File TSV\r\n",
        "df_tsv = pd.read_csv(\"https://dqlab-dataset.s3-ap-southeast-1.amazonaws.com/sample_tsv.tsv\", sep='\\t')\r\n",
        "print(df_tsv.head(3)) # Menampilkan 3 data teratas"
      ],
      "execution_count": 19,
      "outputs": [
        {
          "output_type": "stream",
          "text": [
            "   order_id  order_date  customer_id  ...    brand quantity item_price\n",
            "0   1612339  2019-01-01        18055  ...  BRAND_C        4    1934000\n",
            "1   1612339  2019-01-01        18055  ...  BRAND_V        8     604000\n",
            "2   1612339  2019-01-01        18055  ...  BRAND_G       12     747000\n",
            "\n",
            "[3 rows x 9 columns]\n",
            "   order_id  order_date  customer_id  ...    brand quantity item_price\n",
            "0   1612339  2019-01-01        18055  ...  BRAND_C        4    1934000\n",
            "1   1612339  2019-01-01        18055  ...  BRAND_V        8     604000\n",
            "2   1612339  2019-01-01        18055  ...  BRAND_G       12     747000\n",
            "\n",
            "[3 rows x 9 columns]\n"
          ],
          "name": "stdout"
        }
      ]
    },
    {
      "cell_type": "markdown",
      "metadata": {
        "id": "SJ2-YLH9ekLP"
      },
      "source": [
        "Read Dataset - Excel\r\n",
        "\r\n",
        "File Excel dengan ekstensi *.xls atau *.xlsx cukup banyak digunakan dalam menyimpan data. Pandas juga memiliki fitur untuk membaca file excel."
      ]
    },
    {
      "cell_type": "code",
      "metadata": {
        "colab": {
          "base_uri": "https://localhost:8080/"
        },
        "id": "N-6PCN8repde",
        "outputId": "b4ccf59d-f964-483e-878c-bfd84add1149"
      },
      "source": [
        "import pandas as pd\r\n",
        "# File xlsx dengan data di sheet \"test\"\r\n",
        "df_excel = pd.read_excel(\"https://dqlab-dataset.s3-ap-southeast-1.amazonaws.com/sample_excel.xlsx\", sheet_name=\"test\")\r\n",
        "print(df_excel.head(4)) # Menampilkan 4 data teratas"
      ],
      "execution_count": 21,
      "outputs": [
        {
          "output_type": "stream",
          "text": [
            "   order_id  order_date  customer_id  ...    brand quantity item_price\n",
            "0   1612339  2019-01-01        18055  ...  BRAND_C        4    1934000\n",
            "1   1612339  2019-01-01        18055  ...  BRAND_V        8     604000\n",
            "2   1612339  2019-01-01        18055  ...  BRAND_G       12     747000\n",
            "3   1612339  2019-01-01        18055  ...  BRAND_B       12     450000\n",
            "\n",
            "[4 rows x 9 columns]\n"
          ],
          "name": "stdout"
        }
      ]
    },
    {
      "cell_type": "markdown",
      "metadata": {
        "id": "NFqfpsTSfAyT"
      },
      "source": [
        "Read Dataset - JSON\r\n",
        "\r\n",
        "Method .read_json() digunakan untuk membaca URL API yang formatnya JSON dan merubahnya menjadi dataframe pandas. "
      ]
    },
    {
      "cell_type": "code",
      "metadata": {
        "colab": {
          "base_uri": "https://localhost:8080/"
        },
        "id": "oXr0gdSXoYEW",
        "outputId": "e761142d-599e-4f32-f4b1-9e89a4d1ca29"
      },
      "source": [
        "import pandas as pd\r\n",
        "# File JSON\r\n",
        "url = \"https://dqlab-dataset.s3-ap-southeast-1.amazonaws.com/covid2019-api-herokuapp-v2.json\"\r\n",
        "df_json = pd.read_json(url)\r\n",
        "print(df_json.head(10)) # Menampilkan 10 data teratas\r\n",
        "\r\n"
      ],
      "execution_count": 23,
      "outputs": [
        {
          "output_type": "stream",
          "text": [
            "                                                data          dt          ts\n",
            "0  {'location': 'US', 'confirmed': 3363056, 'deat...  07-14-2020  1594684800\n",
            "1  {'location': 'Brazil', 'confirmed': 1884967, '...  07-14-2020  1594684800\n",
            "2  {'location': 'India', 'confirmed': 906752, 'de...  07-14-2020  1594684800\n",
            "3  {'location': 'Russia', 'confirmed': 732547, 'd...  07-14-2020  1594684800\n",
            "4  {'location': 'Peru', 'confirmed': 330123, 'dea...  07-14-2020  1594684800\n",
            "5  {'location': 'Chile', 'confirmed': 317657, 'de...  07-14-2020  1594684800\n",
            "6  {'location': 'Mexico', 'confirmed': 304435, 'd...  07-14-2020  1594684800\n",
            "7  {'location': 'United Kingdom', 'confirmed': 29...  07-14-2020  1594684800\n",
            "8  {'location': 'South Africa', 'confirmed': 2877...  07-14-2020  1594684800\n",
            "9  {'location': 'Iran', 'confirmed': 259652, 'dea...  07-14-2020  1594684800\n"
          ],
          "name": "stdout"
        }
      ]
    },
    {
      "cell_type": "markdown",
      "metadata": {
        "id": "Z2HTTZdRp1y7"
      },
      "source": [
        "Head & Tail"
      ]
    },
    {
      "cell_type": "code",
      "metadata": {
        "colab": {
          "base_uri": "https://localhost:8080/"
        },
        "id": "nt2YmxW3p2dt",
        "outputId": "9e1b2651-8b7c-4239-c388-0e2fa2c0a4d2"
      },
      "source": [
        "import pandas as pd\r\n",
        "# Baca file sample_csv.csv\r\n",
        "df = pd.read_csv(\"https://dqlab-dataset.s3-ap-southeast-1.amazonaws.com/sample_csv.csv\")\r\n",
        "# Tampilkan 3 data teratas\r\n",
        "print(\"Tiga data teratas:\\n\", df.head(3))\r\n",
        "# Tampilkan 3 data terbawah\r\n",
        "print(\"Tiga data terbawah:\\n\", df.tail(3))"
      ],
      "execution_count": 25,
      "outputs": [
        {
          "output_type": "stream",
          "text": [
            "Tiga data teratas:\n",
            "    order_id  order_date  customer_id  ...    brand quantity item_price\n",
            "0   1612339  2019-01-01        18055  ...  BRAND_C        4    1934000\n",
            "1   1612339  2019-01-01        18055  ...  BRAND_V        8     604000\n",
            "2   1612339  2019-01-01        18055  ...  BRAND_G       12     747000\n",
            "\n",
            "[3 rows x 9 columns]\n",
            "Tiga data terbawah:\n",
            "      order_id  order_date  customer_id  ...    brand quantity item_price\n",
            "98    1612390  2019-01-01        12681  ...  BRAND_S       24     450000\n",
            "99    1612390  2019-01-01        12681  ...  BRAND_S       24     450000\n",
            "100   1612390  2019-01-01        12681  ...  BRAND_B        4    1325000\n",
            "\n",
            "[3 rows x 9 columns]\n"
          ],
          "name": "stdout"
        }
      ]
    },
    {
      "cell_type": "markdown",
      "metadata": {
        "id": "5b5WQtk-uHdb"
      },
      "source": [
        "Indexing - Part 2"
      ]
    },
    {
      "cell_type": "code",
      "metadata": {
        "colab": {
          "base_uri": "https://localhost:8080/"
        },
        "id": "3GQcxxR-wJw5",
        "outputId": "739892b4-711f-4989-e9df-fc5c7e74382c"
      },
      "source": [
        "import pandas as pd\r\n",
        "# Baca file TSV sample_tsv.tsv\r\n",
        "df = pd.read_csv(\"https://dqlab-dataset.s3-ap-southeast-1.amazonaws.com/sample_tsv.tsv\", sep=\"\\t\")\r\n",
        "# Index dari df\r\n",
        "print(\"Index:\", df.index)\r\n",
        "# Column dari df\r\n",
        "print(\"Columns:\", df.columns)"
      ],
      "execution_count": 29,
      "outputs": [
        {
          "output_type": "stream",
          "text": [
            "Index: RangeIndex(start=0, stop=101, step=1)\n",
            "Columns: Index(['order_id', 'order_date', 'customer_id', 'city', 'province',\n",
            "       'product_id', 'brand', 'quantity', 'item_price'],\n",
            "      dtype='object')\n"
          ],
          "name": "stdout"
        }
      ]
    },
    {
      "cell_type": "markdown",
      "metadata": {
        "id": "P_rl-v_Wy7G5"
      },
      "source": [
        "Indexing - Part 3"
      ]
    },
    {
      "cell_type": "code",
      "metadata": {
        "colab": {
          "base_uri": "https://localhost:8080/"
        },
        "id": "i9NM4H1Fy7jS",
        "outputId": "bf778590-cc11-44a3-e7a8-1ef78ef9dc36"
      },
      "source": [
        "import pandas as pd\r\n",
        "# Baca file TSV sample_tsv.tsv\r\n",
        "df = pd.read_csv(\"https://dqlab-dataset.s3-ap-southeast-1.amazonaws.com/sample_tsv.tsv\", sep=\"\\t\")\r\n",
        "# Set multi index df\r\n",
        "df_x = df.set_index(['order_date', 'city', 'customer_id'])\r\n",
        "# Print nama dan level dari multi index\r\n",
        "for name, level in zip(df_x.index.names, df_x.index.levels):\r\n",
        "    print(name,':',level)"
      ],
      "execution_count": 30,
      "outputs": [
        {
          "output_type": "stream",
          "text": [
            "order_date : Index(['2019-01-01'], dtype='object', name='order_date')\n",
            "city : Index(['Bogor', 'Jakarta Pusat', 'Jakarta Selatan', 'Jakarta Utara',\n",
            "       'Makassar', 'Malang', 'Surabaya', 'Tangerang'],\n",
            "      dtype='object', name='city')\n",
            "customer_id : Int64Index([12681, 13963, 15649, 17091, 17228, 17450, 17470, 17511, 17616,\n",
            "            18055],\n",
            "           dtype='int64', name='customer_id')\n"
          ],
          "name": "stdout"
        }
      ]
    },
    {
      "cell_type": "markdown",
      "metadata": {
        "id": "A7B8gq-BzBP9"
      },
      "source": [
        "Indexing - Part 4"
      ]
    },
    {
      "cell_type": "code",
      "metadata": {
        "colab": {
          "base_uri": "https://localhost:8080/"
        },
        "id": "k8Eoy5DrzEfg",
        "outputId": "dbbc22ec-b287-484c-e5c5-e3e5d8afa246"
      },
      "source": [
        "import pandas as pd\r\n",
        "# Baca file sample_tsv.tsv untuk 10 baris pertama saja\r\n",
        "df = pd.read_csv(\"https://dqlab-dataset.s3-ap-southeast-1.amazonaws.com/sample_tsv.tsv\", sep=\"\\t\", nrows=10)\r\n",
        "# Cetak data frame awal\r\n",
        "print(\"Dataframe awal:\\n\", df)\r\n",
        "# Set index baru\r\n",
        "df.index = [\"Pesanan ke-\" + str(i) for i in range(1, 11)]\r\n",
        "# Cetak data frame dengan index baru\r\n",
        "print(\"Dataframe dengan index baru:\\n\", df)"
      ],
      "execution_count": 31,
      "outputs": [
        {
          "output_type": "stream",
          "text": [
            "Dataframe awal:\n",
            "    order_id  order_date  customer_id  ...    brand quantity item_price\n",
            "0   1612339  2019-01-01        18055  ...  BRAND_C        4    1934000\n",
            "1   1612339  2019-01-01        18055  ...  BRAND_V        8     604000\n",
            "2   1612339  2019-01-01        18055  ...  BRAND_G       12     747000\n",
            "3   1612339  2019-01-01        18055  ...  BRAND_B       12     450000\n",
            "4   1612339  2019-01-01        18055  ...  BRAND_G        3    1500000\n",
            "5   1612339  2019-01-01        18055  ...  BRAND_V        3    2095000\n",
            "6   1612339  2019-01-01        18055  ...  BRAND_H        3    2095000\n",
            "7   1612339  2019-01-01        18055  ...  BRAND_S        3    1745000\n",
            "8   1612339  2019-01-01        18055  ...  BRAND_F        6    1045000\n",
            "9   1612339  2019-01-01        18055  ...  BRAND_P        6    1045000\n",
            "\n",
            "[10 rows x 9 columns]\n",
            "Dataframe dengan index baru:\n",
            "                order_id  order_date  customer_id  ...    brand quantity item_price\n",
            "Pesanan ke-1    1612339  2019-01-01        18055  ...  BRAND_C        4    1934000\n",
            "Pesanan ke-2    1612339  2019-01-01        18055  ...  BRAND_V        8     604000\n",
            "Pesanan ke-3    1612339  2019-01-01        18055  ...  BRAND_G       12     747000\n",
            "Pesanan ke-4    1612339  2019-01-01        18055  ...  BRAND_B       12     450000\n",
            "Pesanan ke-5    1612339  2019-01-01        18055  ...  BRAND_G        3    1500000\n",
            "Pesanan ke-6    1612339  2019-01-01        18055  ...  BRAND_V        3    2095000\n",
            "Pesanan ke-7    1612339  2019-01-01        18055  ...  BRAND_H        3    2095000\n",
            "Pesanan ke-8    1612339  2019-01-01        18055  ...  BRAND_S        3    1745000\n",
            "Pesanan ke-9    1612339  2019-01-01        18055  ...  BRAND_F        6    1045000\n",
            "Pesanan ke-10   1612339  2019-01-01        18055  ...  BRAND_P        6    1045000\n",
            "\n",
            "[10 rows x 9 columns]\n"
          ],
          "name": "stdout"
        }
      ]
    },
    {
      "cell_type": "markdown",
      "metadata": {
        "id": "DBn6zBS21sPo"
      },
      "source": [
        "Indexing - Part 5\r\n",
        "\r\n",
        "Jika file yang akan dibaca melalu penggunaan library pandas dapat dipreview terlebih dahulu struktur datanya maka melalui fungsi yang ditujukan untuk membaca file dapat diset mana kolom yang akan dijadikan index."
      ]
    },
    {
      "cell_type": "code",
      "metadata": {
        "colab": {
          "base_uri": "https://localhost:8080/"
        },
        "id": "w51sHmpW166M",
        "outputId": "96f56703-3a84-4e55-9523-384476c97fb0"
      },
      "source": [
        "import pandas as pd\r\n",
        "# Baca file sample_tsv.tsv dan set lah index_col sesuai instruksi\r\n",
        "df = pd.read_csv(\"https://dqlab-dataset.s3-ap-southeast-1.amazonaws.com/sample_tsv.tsv\", sep=\"\\t\", index_col=[\"order_date\",\"order_id\"])\r\n",
        "# Cetak data frame untuk 8 data teratas\r\n",
        "print(\"Dataframe:\\n\", df.head(8))"
      ],
      "execution_count": 33,
      "outputs": [
        {
          "output_type": "stream",
          "text": [
            "Dataframe:\n",
            "                      customer_id             city  ... quantity item_price\n",
            "order_date order_id                                ...                    \n",
            "2019-01-01 1612339         18055  Jakarta Selatan  ...        4    1934000\n",
            "           1612339         18055  Jakarta Selatan  ...        8     604000\n",
            "           1612339         18055  Jakarta Selatan  ...       12     747000\n",
            "           1612339         18055  Jakarta Selatan  ...       12     450000\n",
            "           1612339         18055  Jakarta Selatan  ...        3    1500000\n",
            "           1612339         18055  Jakarta Selatan  ...        3    2095000\n",
            "           1612339         18055  Jakarta Selatan  ...        3    2095000\n",
            "           1612339         18055  Jakarta Selatan  ...        3    1745000\n",
            "\n",
            "[8 rows x 7 columns]\n"
          ],
          "name": "stdout"
        }
      ]
    },
    {
      "cell_type": "markdown",
      "metadata": {
        "id": "gXbAAcfp2a4t"
      },
      "source": [
        "Quiz"
      ]
    },
    {
      "cell_type": "code",
      "metadata": {
        "id": "NGIzmZ472ex7"
      },
      "source": [
        "df_week = pd.DataFrame({'day_number':[1,2,3,4,5,6,7],\r\n",
        "                        'week_type':['weekday' for i in range(5)] + ['weekend' for i in range(2)]\r\n",
        "                       })\r\n",
        "df_week_ix = ['Mon','Tue','Wed','Thu','Fri','Sat','Sun']\r\n",
        "df_week.index = [df_week_ix, df_week['day_number'].to_list()]\r\n",
        "df_week.index.names = ['name','num']"
      ],
      "execution_count": 34,
      "outputs": []
    },
    {
      "cell_type": "markdown",
      "metadata": {
        "id": "hG5qfJoH3lNV"
      },
      "source": [
        "Slicing - Part 1\r\n",
        "\r\n",
        "Seperti artinya slicing adalah cara untuk melakukan filter ke dataframe/series berdasarkan kriteria tertentu dari nilai kolomnya ataupun kriteria index-nya.\r\n",
        "\r\n",
        "Terdapat 2 cara paling terkenal untuk slicing dataframe, yaitu dengan menggunakan method .loc dan .iloc pada variabel bertipe pandas DataFrame/Series. Method .iloc ditujukan untuk proses slicing berdasarkan index berupa nilai integer tertentu. Akan tetapi akan lebih sering menggunakan dengan method .loc karena lebih fleksibel."
      ]
    },
    {
      "cell_type": "code",
      "metadata": {
        "colab": {
          "base_uri": "https://localhost:8080/"
        },
        "id": "_9RUTr8K3p7Y",
        "outputId": "b397e755-4fde-42fb-c64d-22b49711c916"
      },
      "source": [
        "import pandas as pd\r\n",
        "# Baca file sample_csv.csv\r\n",
        "df = pd.read_csv(\"https://dqlab-dataset.s3-ap-southeast-1.amazonaws.com/sample_csv.csv\")\r\n",
        "# Slice langsung berdasarkan kolom\r\n",
        "df_slice = df.loc[(df[\"customer_id\"] == \"18055\") &\r\n",
        "\t\t          (df[\"product_id\"].isin([\"P0029\",\"P0040\",\"P0041\",\"P0116\",\"P0117\"]))]\r\n",
        "print(\"Slice langsung berdasarkan kolom:\\n\", df_slice)"
      ],
      "execution_count": 39,
      "outputs": [
        {
          "output_type": "stream",
          "text": [
            "Slice langsung berdasarkan kolom:\n",
            " Empty DataFrame\n",
            "Columns: [order_id, order_date, customer_id, city, province, product_id, brand, quantity, item_price]\n",
            "Index: []\n"
          ],
          "name": "stdout"
        }
      ]
    },
    {
      "cell_type": "markdown",
      "metadata": {
        "id": "IkyMbB7J8k4n"
      },
      "source": [
        "Slicing - Part 2"
      ]
    },
    {
      "cell_type": "code",
      "metadata": {
        "colab": {
          "base_uri": "https://localhost:8080/"
        },
        "id": "zJL-Cs5b8sxV",
        "outputId": "0d9c78c9-6b9e-44ff-e8e3-9eab90954e99"
      },
      "source": [
        "import pandas as pd\r\n",
        "# Baca file sample_csv.csv\r\n",
        "df = pd.read_csv(\"https://dqlab-dataset.s3-ap-southeast-1.amazonaws.com/sample_csv.csv\")\r\n",
        "# Set index dari df sesuai instruksi\r\n",
        "df = df.set_index([\"order_date\",\"order_id\",\"product_id\"])\r\n",
        "# Slice sesuai intruksi\r\n",
        "df_slice = df.loc[(\"2019-01-01\", 1612339,[\"P2154\",\"P2159\"]),:]\r\n",
        "print(\"Slice df:\\n\", df_slice)\r\n",
        "\t\t\t\t   \r\n"
      ],
      "execution_count": 41,
      "outputs": [
        {
          "output_type": "stream",
          "text": [
            "Slice df:\n",
            "                                 customer_id  ... item_price\n",
            "order_date order_id product_id               ...           \n",
            "2019-01-01 1612339  P2154             18055  ...    1745000\n",
            "                    P2159             18055  ...     310000\n",
            "\n",
            "[2 rows x 6 columns]\n"
          ],
          "name": "stdout"
        }
      ]
    },
    {
      "cell_type": "markdown",
      "metadata": {
        "id": "EyNoF8S686kL"
      },
      "source": [
        "Transforming - Part 1\r\n",
        "\r\n",
        "Transform adalah ketika mengubah dataset yang ada menjadi entitas baru, dapat dilakukan dengan\r\n",
        "\r\n",
        "konversi dari satu data type ke data type yang lain,\r\n",
        "transpose dataframe\r\n",
        "atau yang lainnya."
      ]
    },
    {
      "cell_type": "code",
      "metadata": {
        "colab": {
          "base_uri": "https://localhost:8080/"
        },
        "id": "fvYls4opNLKe",
        "outputId": "4f042fcd-6aa1-4538-a832-5d5af58c0574"
      },
      "source": [
        "import pandas as pd\r\n",
        "# Baca file sample_csv.csv\r\n",
        "df = pd.read_csv(\"https://dqlab-dataset.s3-ap-southeast-1.amazonaws.com/sample_csv.csv\")\r\n",
        "# Tampilkan tipe data\r\n",
        "print(\"Tipe data df:\\n\", df.dtypes)\r\n",
        "# Ubah tipe data kolom order_date menjadi datetime\r\n",
        "df[\"order_date\"] = pd.to_datetime(df[\"order_date\"])\r\n",
        "# Tampilkan tipe data df setelah transformasi\r\n",
        "print(\"\\nTipe data df setelah transformasi:\\n\", df.dtypes)"
      ],
      "execution_count": 1,
      "outputs": [
        {
          "output_type": "stream",
          "text": [
            "Tipe data df:\n",
            " order_id        int64\n",
            "order_date     object\n",
            "customer_id     int64\n",
            "city           object\n",
            "province       object\n",
            "product_id     object\n",
            "brand          object\n",
            "quantity        int64\n",
            "item_price      int64\n",
            "dtype: object\n",
            "\n",
            "Tipe data df setelah transformasi:\n",
            " order_id                int64\n",
            "order_date     datetime64[ns]\n",
            "customer_id             int64\n",
            "city                   object\n",
            "province               object\n",
            "product_id             object\n",
            "brand                  object\n",
            "quantity                int64\n",
            "item_price              int64\n",
            "dtype: object\n"
          ],
          "name": "stdout"
        }
      ]
    },
    {
      "cell_type": "markdown",
      "metadata": {
        "id": "KoyVQr70Nhbn"
      },
      "source": [
        "Transforming - Part 2\r\n",
        "Pada sub bab ini akan mengubah tipe data pada kolom dataframe yang telah dibaca menjadi tipe data float (kolom quantity) dan tipe categori (kolom city).\r\n",
        "\r\n",
        "Secara umum, untuk merubah ke numerik dapat menggunakan pd.to_numeric(), yaitu"
      ]
    },
    {
      "cell_type": "markdown",
      "metadata": {
        "id": "XBjujpoMP0ZI"
      },
      "source": [
        ""
      ]
    },
    {
      "cell_type": "code",
      "metadata": {
        "colab": {
          "base_uri": "https://localhost:8080/"
        },
        "id": "qjsAvcNIPlqK",
        "outputId": "979df5ca-306e-406e-b82a-52f7af0bd107"
      },
      "source": [
        "import pandas as pd\r\n",
        "# Baca file sample_csv.csv\r\n",
        "df = pd.read_csv(\"https://dqlab-dataset.s3-ap-southeast-1.amazonaws.com/sample_csv.csv\")\r\n",
        "# Tampilkan tipe data\r\n",
        "print(\"Tipe data df:\\n\", df.dtypes)\r\n",
        "# Ubah tipe data kolom quantity menjadi tipe data numerik float\r\n",
        "df[\"quantity\"] = pd.to_numeric(df[\"quantity\"], downcast=\"float\")\r\n",
        "# Ubah tipe data kolom city menjadi tipe data category\r\n",
        "df[\"city\"] = df[\"city\"].astype(\"category\")\r\n",
        "# Tampilkan tipe data df setelah transformasi\r\n",
        "print(\"\\nTipe data df setelah transformasi:\\n\", df.dtypes)"
      ],
      "execution_count": 4,
      "outputs": [
        {
          "output_type": "stream",
          "text": [
            "Tipe data df:\n",
            " order_id        int64\n",
            "order_date     object\n",
            "customer_id     int64\n",
            "city           object\n",
            "province       object\n",
            "product_id     object\n",
            "brand          object\n",
            "quantity        int64\n",
            "item_price      int64\n",
            "dtype: object\n",
            "\n",
            "Tipe data df setelah transformasi:\n",
            " order_id          int64\n",
            "order_date       object\n",
            "customer_id       int64\n",
            "city           category\n",
            "province         object\n",
            "product_id       object\n",
            "brand            object\n",
            "quantity        float32\n",
            "item_price        int64\n",
            "dtype: object\n"
          ],
          "name": "stdout"
        }
      ]
    },
    {
      "cell_type": "markdown",
      "metadata": {
        "id": "WY6oUx7CQFjZ"
      },
      "source": [
        "Transforming - Part 3\r\n",
        "\r\n",
        "Sekarang akan mempelajari teknik/cara berikutnya dalam proses transformasi suatu dataframe. Di sub bab ini akan memakai method .apply() dan .map() pada suatu dataframe.\r\n",
        "\r\n",
        "Method .apply() digunakan untuk menerapkan suatu fungsi python (yang dibuat dengan def atau anonymous dengan lambda) pada dataframe/series atau hanya kolom tertentu dari dataframe. "
      ]
    },
    {
      "cell_type": "code",
      "metadata": {
        "colab": {
          "base_uri": "https://localhost:8080/"
        },
        "id": "SJIQYqL5VQN-",
        "outputId": "c7d96e15-40b7-4634-fe4d-223c1e6b0c51"
      },
      "source": [
        "import pandas as pd\r\n",
        "# Baca file sample_csv.csv\r\n",
        "df = pd.read_csv(\"https://dqlab-dataset.s3-ap-southeast-1.amazonaws.com/sample_csv.csv\")\r\n",
        "# Cetak 5 baris teratas kolom brand\r\n",
        "print(\"Kolom brand awal:\\n\", df[\"brand\"].head())\r\n",
        "# Gunakan method apply untuk merubah isi kolom menjadi lower case\r\n",
        "df[\"brand\"] = df[\"brand\"].apply(lambda x: x.lower())\r\n",
        "# Cetak 5 baris teratas kolom brand\r\n",
        "print(\"Kolom brand setelah apply:\\n\", df[\"brand\"].head())\r\n",
        "# Gunakan method map untuk mengambil kode brand yaitu karakter terakhirnya\r\n",
        "df[\"brand\"]= df[\"brand\"].map(lambda x: x[-1])\r\n",
        "# Cetak 5 baris teratas kolom brand\r\n",
        "print(\"Kolom brand setelah map:\\n\", df[\"brand\"].head())"
      ],
      "execution_count": 5,
      "outputs": [
        {
          "output_type": "stream",
          "text": [
            "Kolom brand awal:\n",
            " 0    BRAND_C\n",
            "1    BRAND_V\n",
            "2    BRAND_G\n",
            "3    BRAND_B\n",
            "4    BRAND_G\n",
            "Name: brand, dtype: object\n",
            "Kolom brand setelah apply:\n",
            " 0    brand_c\n",
            "1    brand_v\n",
            "2    brand_g\n",
            "3    brand_b\n",
            "4    brand_g\n",
            "Name: brand, dtype: object\n",
            "Kolom brand setelah map:\n",
            " 0    c\n",
            "1    v\n",
            "2    g\n",
            "3    b\n",
            "4    g\n",
            "Name: brand, dtype: object\n"
          ],
          "name": "stdout"
        }
      ]
    },
    {
      "cell_type": "markdown",
      "metadata": {
        "id": "bSA0xgsAW2_P"
      },
      "source": [
        "Transforming - Part 4\r\n",
        "\r\n",
        "Di sub bab sebelumnya sudah mengetahui bahwa map hanya dapat digunakan untuk pandas series. Pada sub bab ini akan menggunakan method .applymap pada dataframe."
      ]
    },
    {
      "cell_type": "code",
      "metadata": {
        "colab": {
          "base_uri": "https://localhost:8080/"
        },
        "id": "GQFi-TcyW-7B",
        "outputId": "d1997a1f-7573-487d-8a95-de875837d0b7"
      },
      "source": [
        "import numpy as np\r\n",
        "import pandas as pd\r\n",
        "# number generator, set angka seed menjadi suatu angka, bisa semua angka, supaya hasil random nya selalu sama ketika kita run\r\n",
        "np.random.seed(1234)\r\n",
        "# create dataframe 3 baris dan 4 kolom dengan angka random\r\n",
        "df_tr = pd.DataFrame(np.random.rand(3,4))\r\n",
        "# Cetak dataframe\r\n",
        "print(\"Dataframe:\\n\", df_tr)\r\n",
        "# Cara 1 dengan tanpa define function awalnya, langsung pake fungsi anonymous lambda x\r\n",
        "df_tr1 = df_tr.applymap(lambda x: x**2 + 3*x + 2) \r\n",
        "print(\"\\nDataframe - cara 1:\\n\", df_tr1)\r\n",
        "# Cara 2 dengan define function \r\n",
        "def qudratic_fun(x):\r\n",
        "\treturn x**2 + 3*x + 2\r\n",
        "df_tr2 = df_tr.applymap(qudratic_fun)\r\n",
        "print(\"\\nDataframe - cara 2:\\n\", df_tr2)"
      ],
      "execution_count": 7,
      "outputs": [
        {
          "output_type": "stream",
          "text": [
            "Dataframe:\n",
            "           0         1         2         3\n",
            "0  0.191519  0.622109  0.437728  0.785359\n",
            "1  0.779976  0.272593  0.276464  0.801872\n",
            "2  0.958139  0.875933  0.357817  0.500995\n",
            "\n",
            "Dataframe - cara 1:\n",
            "           0         1         2         3\n",
            "0  2.611238  4.253346  3.504789  4.972864\n",
            "1  4.948290  2.892085  2.905825  5.048616\n",
            "2  5.792449  5.395056  3.201485  3.753981\n",
            "\n",
            "Dataframe - cara 2:\n",
            "           0         1         2         3\n",
            "0  2.611238  4.253346  3.504789  4.972864\n",
            "1  4.948290  2.892085  2.905825  5.048616\n",
            "2  5.792449  5.395056  3.201485  3.753981\n"
          ],
          "name": "stdout"
        }
      ]
    },
    {
      "cell_type": "markdown",
      "metadata": {
        "id": "6ASf28R-XVLk"
      },
      "source": [
        "Inspeksi Missing Value\r\n"
      ]
    },
    {
      "cell_type": "code",
      "metadata": {
        "colab": {
          "base_uri": "https://localhost:8080/"
        },
        "id": "6i5z-glkZyoZ",
        "outputId": "f2129d34-b527-4020-887a-d3bde6a46ff4"
      },
      "source": [
        "import pandas as pd\r\n",
        "# Baca file \"public data covid19 jhu csse eu.csv\"\r\n",
        "df = pd.read_csv(\"https://dqlab-dataset.s3-ap-southeast-1.amazonaws.com/CHAPTER+4+-+missing+value+-+public+data+covid19+.csv\")\r\n",
        "# Cetak info dari df\r\n",
        "print(df.info())\r\n",
        "# Cetak jumlah missing value di setiap kolom\r\n",
        "mv = df.isna().sum()\r\n",
        "print(\"\\nJumlah missing value perkolom:\\n\", mv)"
      ],
      "execution_count": 8,
      "outputs": [
        {
          "output_type": "stream",
          "text": [
            "<class 'pandas.core.frame.DataFrame'>\n",
            "RangeIndex: 1000 entries, 0 to 999\n",
            "Data columns (total 13 columns):\n",
            " #   Column          Non-Null Count  Dtype  \n",
            "---  ------          --------------  -----  \n",
            " 0   province_state  960 non-null    object \n",
            " 1   country_region  1000 non-null   object \n",
            " 2   date            1000 non-null   object \n",
            " 3   latitude        874 non-null    float64\n",
            " 4   longitude       874 non-null    float64\n",
            " 5   location_geom   874 non-null    object \n",
            " 6   confirmed       1000 non-null   int64  \n",
            " 7   deaths          999 non-null    float64\n",
            " 8   recovered       999 non-null    float64\n",
            " 9   active          949 non-null    float64\n",
            " 10  fips            949 non-null    float64\n",
            " 11  admin2          842 non-null    object \n",
            " 12  combined_key    0 non-null      float64\n",
            "dtypes: float64(7), int64(1), object(5)\n",
            "memory usage: 101.7+ KB\n",
            "None\n",
            "\n",
            "Jumlah missing value perkolom:\n",
            " province_state      40\n",
            "country_region       0\n",
            "date                 0\n",
            "latitude           126\n",
            "longitude          126\n",
            "location_geom      126\n",
            "confirmed            0\n",
            "deaths               1\n",
            "recovered            1\n",
            "active              51\n",
            "fips                51\n",
            "admin2             158\n",
            "combined_key      1000\n",
            "dtype: int64\n"
          ],
          "name": "stdout"
        }
      ]
    },
    {
      "cell_type": "markdown",
      "metadata": {
        "id": "MwYbeGrRa_6O"
      },
      "source": [
        "Treatment untuk Missing Value - Part 1\r\n",
        "\r\n",
        "Terdapat beberapa cara untuk mengatasi missing value, antara lain:\r\n",
        "\r\n",
        "dibiarkan saja,\r\n",
        "hapus value itu, atau\r\n",
        "isi value tersebut dengan value yang lain (biasanya interpolasi, mean, median, etc)"
      ]
    },
    {
      "cell_type": "code",
      "metadata": {
        "colab": {
          "base_uri": "https://localhost:8080/"
        },
        "id": "K6n9BD10di6X",
        "outputId": "6c036886-1d1f-4749-db78-a52b51498ede"
      },
      "source": [
        "import pandas as pd\r\n",
        "# Baca file \"public data covid19 jhu csse eu.csv\"\r\n",
        "df = pd.read_csv(\"https://dqlab-dataset.s3-ap-southeast-1.amazonaws.com/CHAPTER+4+-+missing+value+-+public+data+covid19+.csv\")\r\n",
        "# Cetak info dari df\r\n",
        "print(df.info())\r\n",
        "# Cetak jumlah missing value di setiap kolom\r\n",
        "mv = df.isna().sum()\r\n",
        "print(\"\\nJumlah missing value per kolom:\\n\", mv)"
      ],
      "execution_count": 9,
      "outputs": [
        {
          "output_type": "stream",
          "text": [
            "<class 'pandas.core.frame.DataFrame'>\n",
            "RangeIndex: 1000 entries, 0 to 999\n",
            "Data columns (total 13 columns):\n",
            " #   Column          Non-Null Count  Dtype  \n",
            "---  ------          --------------  -----  \n",
            " 0   province_state  960 non-null    object \n",
            " 1   country_region  1000 non-null   object \n",
            " 2   date            1000 non-null   object \n",
            " 3   latitude        874 non-null    float64\n",
            " 4   longitude       874 non-null    float64\n",
            " 5   location_geom   874 non-null    object \n",
            " 6   confirmed       1000 non-null   int64  \n",
            " 7   deaths          999 non-null    float64\n",
            " 8   recovered       999 non-null    float64\n",
            " 9   active          949 non-null    float64\n",
            " 10  fips            949 non-null    float64\n",
            " 11  admin2          842 non-null    object \n",
            " 12  combined_key    0 non-null      float64\n",
            "dtypes: float64(7), int64(1), object(5)\n",
            "memory usage: 101.7+ KB\n",
            "None\n",
            "\n",
            "Jumlah missing value per kolom:\n",
            " province_state      40\n",
            "country_region       0\n",
            "date                 0\n",
            "latitude           126\n",
            "longitude          126\n",
            "location_geom      126\n",
            "confirmed            0\n",
            "deaths               1\n",
            "recovered            1\n",
            "active              51\n",
            "fips                51\n",
            "admin2             158\n",
            "combined_key      1000\n",
            "dtype: int64\n"
          ],
          "name": "stdout"
        }
      ]
    },
    {
      "cell_type": "markdown",
      "metadata": {
        "id": "22m8WR76djSN"
      },
      "source": [
        "Treatment untuk Missing Value - Part 2\r\n",
        "\r\n",
        "Sekarang dapat menerapkan dua aksi yaitu\r\n",
        "\r\n",
        "1.Membiarkannya saja\r\n",
        "\r\n",
        "2.Mengahapus kolom\r\n",
        " "
      ]
    },
    {
      "cell_type": "code",
      "metadata": {
        "id": "tu8CgCmrdjwR"
      },
      "source": [
        "import pandas as pd\r\n",
        "# Baca file \"public data covid19 jhu csse eu.csv\"\r\n",
        "df = pd.read_csv(\"https://dqlab-dataset.s3-ap-southeast-1.amazonaws.com/CHAPTER+4+-+missing+value+-+public+data+covid19+.csv\")\r\n",
        "# Cetak ukuran awal dataframe\r\n",
        "print(\"Ukuran awal df: %d baris, %d kolom.\" % df.shape)\r\n",
        "# Drop kolom yang seluruhnya missing value dan cetak ukurannya\r\n",
        "df = df.dropna(axis=1, how=\"all\")\r\n",
        "print(\"Ukuran df setelah buang kolom dengan seluruh data missing: %d baris, %d kolom.\" % df.shape)\r\n",
        "# Drop baris jika ada satu saja data yang missing dan cetak ukurannya\r\n",
        "df = df.dropna(axis=0, how=\"any\")\r\n",
        "print(\"Ukuran df setelah dibuang baris yang memiliki sekurangnya 1 missing value: %d baris, %d kolom.\" % df.shape)"
      ],
      "execution_count": null,
      "outputs": []
    },
    {
      "cell_type": "markdown",
      "metadata": {
        "id": "5HwxzTrGd8Pp"
      },
      "source": [
        "Treatment untuk Missing Value - Part 3\r\n",
        "\r\n",
        "Sekarang, akan melakukan treatment ketiga untuk menghandle missing value pada dataframe. Treatment ini dilakukan dengan cara mengisi missing value dengan nilai lain, yang dapat berupa :\r\n",
        "\r\n",
        "1. nilai statistik seperti mean atau median\r\n",
        "2. interpolasi data\r\n",
        "3. text tertentu\r\n",
        " "
      ]
    },
    {
      "cell_type": "code",
      "metadata": {
        "colab": {
          "base_uri": "https://localhost:8080/"
        },
        "id": "yi3U4GT_et-o",
        "outputId": "56dbafb4-aa17-49c9-9e11-20e21d45f747"
      },
      "source": [
        "import pandas as pd\r\n",
        "# Baca file \"public data covid19 jhu csse eu.csv\"\r\n",
        "df = pd.read_csv(\"https://dqlab-dataset.s3-ap-southeast-1.amazonaws.com/CHAPTER+4+-+missing+value+-+public+data+covid19+.csv\")\r\n",
        "# Cetak unique value pada kolom province_state\r\n",
        "print(\"Unique value awal:\\n\", df[\"province_state\"].unique())\r\n",
        "# Ganti missing value dengan string \"unknown_province_state\"\r\n",
        "df[\"province_state\"] = df[\"province_state\"].fillna(\"unknown_province_state\")\r\n",
        "# Cetak kembali unique value pada kolom province_state\r\n",
        "print(\"Unique value setelah fillna:\\n\", df[\"province_state\"].unique())"
      ],
      "execution_count": 12,
      "outputs": [
        {
          "output_type": "stream",
          "text": [
            "Unique value awal:\n",
            " [nan 'US' 'Guam' 'Iowa']\n",
            "Unique value setelah fillna:\n",
            " ['unknown_province_state' 'US' 'Guam' 'Iowa']\n"
          ],
          "name": "stdout"
        }
      ]
    },
    {
      "cell_type": "markdown",
      "metadata": {
        "id": "tG7nqYb-fcj8"
      },
      "source": [
        "Treatment untuk Missing Value - Part 4"
      ]
    },
    {
      "cell_type": "code",
      "metadata": {
        "colab": {
          "base_uri": "https://localhost:8080/"
        },
        "id": "JmXhbzWug2O2",
        "outputId": "e900ce57-deb3-4098-d352-8d0d3c146ab4"
      },
      "source": [
        "import pandas as pd\r\n",
        "# Baca file \"https://dqlab-dataset.s3-ap-southeast-1.amazonaws.com/CHAPTER+4+-+missing+value+-+public+data+covid19+.csv\"\r\n",
        "df = pd.read_csv(\"https://dqlab-dataset.s3-ap-southeast-1.amazonaws.com/CHAPTER+4+-+missing+value+-+public+data+covid19+.csv\")\r\n",
        "# Cetak nilai mean dan median awal\r\n",
        "print(\"Awal: mean = %f, median = %f.\" % (df[\"active\"].mean(), df[\"active\"].median()))\r\n",
        "# Isi missing value kolom active dengan median\r\n",
        "df_median = df[\"active\"].fillna(df[\"active\"].median())\r\n",
        "# Cetak nilai mean dan median awal setelah diisi dengan median\r\n",
        "print(\"Fillna median: mean = %f, median = %f.\" % (df_median.mean(), df_median.median()))\r\n",
        "# Isi missing value kolom active dengan mean\r\n",
        "df_mean = df[\"active\"].fillna(df[\"active\"].mean())\r\n",
        "# Cetak nilai mean dan median awal setelah diisi dengan mean\r\n",
        "print(\"Fillna mean: mean = %f, median = %f.\" % (df_mean.mean(), df_mean.median()))"
      ],
      "execution_count": 15,
      "outputs": [
        {
          "output_type": "stream",
          "text": [
            "Awal: mean = 192.571128, median = 41.000000.\n",
            "Fillna median: mean = 184.841000, median = 41.000000.\n",
            "Fillna mean: mean = 192.571128, median = 49.000000.\n"
          ],
          "name": "stdout"
        }
      ]
    },
    {
      "cell_type": "markdown",
      "metadata": {
        "id": "ao-vtPyxh11y"
      },
      "source": [
        "Treatment untuk Missing Value - Part 5\r\n",
        "\r\n",
        "Di bagian ini akan menggunakan teknik interpolasi dalam mengisi nilai missing value pada suatu dataset.\r\n",
        "\r\n",
        "Data yang menggunakan interpolasi untuk mengisi data yang hilang adalah time series data, yang secara default akan diisi dengan interpolasi linear."
      ]
    },
    {
      "cell_type": "code",
      "metadata": {
        "colab": {
          "base_uri": "https://localhost:8080/"
        },
        "id": "0Z5DHJoyiPrd",
        "outputId": "e4b66d1b-0ec3-4adf-e62c-301215641fd5"
      },
      "source": [
        "import numpy as np\r\n",
        "import pandas as pd\r\n",
        "# Data\r\n",
        "ts = pd.Series({\r\n",
        "   \"2020-01-01\":9,\r\n",
        "   \"2020-01-02\":np.nan,\r\n",
        "   \"2020-01-05\":np.nan,\r\n",
        "   \"2020-01-07\":24,\r\n",
        "   \"2020-01-10\":np.nan,\r\n",
        "   \"2020-01-12\":np.nan,\r\n",
        "   \"2020-01-15\":33,\r\n",
        "   \"2020-01-17\":np.nan,\r\n",
        "   \"2020-01-16\":40,\r\n",
        "   \"2020-01-20\":45,\r\n",
        "   \"2020-01-22\":52,\r\n",
        "   \"2020-01-25\":75,\r\n",
        "   \"2020-01-28\":np.nan,\r\n",
        "   \"2020-01-30\":np.nan\r\n",
        "})\r\n",
        "# Isi missing value menggunakan interpolasi linier\r\n",
        "ts = ts.interpolate()\r\n",
        "# Cetak time series setelah interpolasi linier\r\n",
        "print(\"Setelah diisi missing valuenya:\\n\", ts)"
      ],
      "execution_count": 16,
      "outputs": [
        {
          "output_type": "stream",
          "text": [
            "Setelah diisi missing valuenya:\n",
            " 2020-01-01     9.0\n",
            "2020-01-02    14.0\n",
            "2020-01-05    19.0\n",
            "2020-01-07    24.0\n",
            "2020-01-10    27.0\n",
            "2020-01-12    30.0\n",
            "2020-01-15    33.0\n",
            "2020-01-17    36.5\n",
            "2020-01-16    40.0\n",
            "2020-01-20    45.0\n",
            "2020-01-22    52.0\n",
            "2020-01-25    75.0\n",
            "2020-01-28    75.0\n",
            "2020-01-30    75.0\n",
            "dtype: float64\n"
          ],
          "name": "stdout"
        }
      ]
    },
    {
      "cell_type": "markdown",
      "metadata": {
        "id": "ZgcZ09gkqmDg"
      },
      "source": [
        "Project dari Andra"
      ]
    },
    {
      "cell_type": "code",
      "metadata": {
        "colab": {
          "base_uri": "https://localhost:8080/"
        },
        "id": "5sWuJu6QqnEq",
        "outputId": "92397def-251d-4c4f-d4d3-eecbc540e668"
      },
      "source": [
        "import pandas as pd\r\n",
        "\r\n",
        "# 1. Baca dataset\r\n",
        "print(\"[1] BACA DATASET\")\r\n",
        "df = pd.read_csv(\"https://dqlab-dataset.s3-ap-southeast-1.amazonaws.com/retail_raw_test.csv\", low_memory=False)\r\n",
        "print(\"    Dataset:\\n\", df.head())\r\n",
        "print(\"    Info:\\n\", df.info())\r\n",
        "\r\n",
        "# 2. Ubah tipe data\r\n",
        "print(\"\\n[2] UBAH TIPE DATA\")\r\n",
        "df[\"customer_id\"] = df[\"customer_id\"].apply(lambda x: x.split(\"'\")[1]).astype(\"int64\")\r\n",
        "df[\"quantity\"] = df[\"quantity\"].apply(lambda x: x.split(\"'\")[1]).astype(\"int64\")\r\n",
        "df[\"item_price\"] = df[\"item_price\"].apply(lambda x: x.split(\"'\")[1]).astype(\"int64\")\r\n",
        "print(\"    Tipe data:\\n\", df.dtypes)\r\n",
        "\r\n",
        "# 3. Transform \"product_value\" supaya bentuknya seragam dengan format \"PXXXX\", assign ke kolom baru \"product_id\", dan drop kolom \"product_value\", jika terdapat nan gantilah dengan \"unknown\"\r\n",
        "print(\"\\n[3] TRANSFORM product_value MENJADI product_id\")\r\n",
        "# Buat fungsi\r\n",
        "import math\r\n",
        "def impute_product_value(val):\r\n",
        "    if math.isnan(val):\r\n",
        "        return \"unknown\"\r\n",
        "    else:\r\n",
        "        return 'P' + '{:0>4}'.format(str(val).split('.')[0])\r\n",
        "# Buat kolom \"product_id\"\r\n",
        "df[\"product_id\"] = df[\"product_value\"].apply(lambda x: impute_product_value(x))\r\n",
        "# Hapus kolom \"product_value\"\r\n",
        "df.drop([\"product_value\"], axis=1, inplace=True)\r\n",
        "# Cetak 5 data teratas\r\n",
        "print(df.head())\r\n",
        "\r\n",
        "# 4. Tranform order_date menjadi value dengan format \"YYYY-mm-dd\"\r\n",
        "print(\"\\n[4] TRANSFORM order_date MENJADI FORMAT YYYY-mm-dd\")\r\n",
        "months_dict = {\r\n",
        "   \"Jan\":\"01\",\r\n",
        "   \"Feb\":\"02\",\r\n",
        "   \"Mar\":\"03\",\r\n",
        "   \"Apr\":\"04\",\r\n",
        "   \"May\":\"05\",\r\n",
        "   \"Jun\":\"06\",\r\n",
        "   \"Jul\":\"07\",\r\n",
        "   \"Aug\":\"08\",\r\n",
        "   \"Sep\":\"09\",\r\n",
        "   \"Oct\":\"10\",\r\n",
        "   \"Nov\":\"11\",\r\n",
        "   \"Dec\":\"12\"\r\n",
        "}\r\n",
        "df[\"order_date\"] = pd.to_datetime(df[\"order_date\"].apply(lambda x: str(x)[-4:] + \"-\" + months_dict[str(x)[:3]] + \"-\" + str(x)[4:7]))\r\n",
        "print(\" Tipe data:\\n\", df.dtypes)\r\n",
        "\r\n",
        "# 5. Mengatasi data yang hilang di beberapa kolom\r\n",
        "print(\"\\n[5] HANDLING MISSING VALUE\")\r\n",
        "# Kolom \"city\" dan \"province\" masih memiliki missing value, nilai yang hilang di kedua kolom ini diisi saja dengan \"unknown\"\r\n",
        "df[[\"city\",\"province\"]] = df[[\"city\",\"province\"]].fillna(\"unknown\")\r\n",
        "# Kolom brand juga masih memiliki missing value, Ganti value NaN menjadi \"no_brand\"\r\n",
        "df[\"brand\"] = df[\"brand\"].fillna(\"no_brand\")\r\n",
        "# Cek apakah masih terdapat missing value di seluruh kolom \r\n",
        "print(\"    Info:\\n\", df.info())\r\n",
        "\r\n",
        "# 6. Membuat kolom baru \"city/province\" dengan menggabungkan kolom \"city\" dan kolom \"province\" dan delete kolom asalnya\r\n",
        "print(\"\\n[6] MEMBUAT KOLOM BARU city/province\")\r\n",
        "df[\"city/province\"] = df[\"city\"] + \"/\" + df[\"province\"]\r\n",
        "# drop kolom \"city\" dan \"province\" karena telah digabungkan\r\n",
        "df.drop([\"city\",\"province\"], axis=1, inplace=True)\r\n",
        "# Cetak 5 data teratas\r\n",
        "print(df.head())\r\n",
        "\r\n",
        "# 7. Membuat hierarchical index yang terdiri dari kolom \"city/province\", \"order_date\", \"customer_id\", \"order_id\", \"product_id\"\r\n",
        "print(\"\\n[7] MEMBUAT HIERACHICAL INDEX\")\r\n",
        "df = df.set_index([\"city/province\",\"order_date\",\"customer_id\",\"order_id\",\"product_id\"])\r\n",
        "# urutkanlah berdasarkan index yang baru\r\n",
        "df = df.sort_index()\r\n",
        "# Cetak 5 data teratas\r\n",
        "print(df.head())\r\n",
        "\r\n",
        "# 8. Membuat kolom \"total_price\" yang formula nya perkalian antara kolom \"quantity\" dan kolom \"item_price\"\r\n",
        "print(\"\\n[8] MEMBUAT KOLOM total_price\")\r\n",
        "df[\"total_price\"] = df[\"quantity\"] * df[\"item_price\"]\r\n",
        "# Cetak 5 data teratas\r\n",
        "print(df.head())\r\n",
        "\r\n",
        "# 9. Slice dataset agar hanya terdapat data bulan Januari 2019\r\n",
        "print(\"\\n[9] SLICE DATASET UNTUK BULAN JANUARI 2019 SAJA\")\r\n",
        "idx = pd.IndexSlice\r\n",
        "df_jan2019 = df.loc[idx[:, \"2019-01-01\":\"2019-01-31\"], :]\r\n",
        "print(\"Dataset akhir:\\n\", df_jan2019)\r\n",
        "\r\n",
        "# END OF PROJECT"
      ],
      "execution_count": 5,
      "outputs": [
        {
          "output_type": "stream",
          "text": [
            "[1] BACA DATASET\n",
            "    Dataset:\n",
            "    order_id    order_date customer_id  ... quantity item_price product_value\n",
            "0   1730350  Dec 11, 2019      '13447  ...      '24    '113000        1374.0\n",
            "1   1677490  Jul 31, 2019          '0  ...       '1   '1164000        1370.0\n",
            "2   1704211  Oct 18, 2019      '16128  ...      '12    '747000        1679.0\n",
            "3   1679695  Aug 07, 2019      '16225  ...       '6    '590000        1708.0\n",
            "4   1679080  Aug 05, 2019          '0  ...       '2    '740000        1201.0\n",
            "\n",
            "[5 rows x 9 columns]\n",
            "<class 'pandas.core.frame.DataFrame'>\n",
            "RangeIndex: 5000 entries, 0 to 4999\n",
            "Data columns (total 9 columns):\n",
            " #   Column         Non-Null Count  Dtype  \n",
            "---  ------         --------------  -----  \n",
            " 0   order_id       5000 non-null   int64  \n",
            " 1   order_date     5000 non-null   object \n",
            " 2   customer_id    5000 non-null   object \n",
            " 3   city           3802 non-null   object \n",
            " 4   province       3802 non-null   object \n",
            " 5   brand          4995 non-null   object \n",
            " 6   quantity       5000 non-null   object \n",
            " 7   item_price     5000 non-null   object \n",
            " 8   product_value  4995 non-null   float64\n",
            "dtypes: float64(1), int64(1), object(7)\n",
            "memory usage: 351.7+ KB\n",
            "    Info:\n",
            " None\n",
            "\n",
            "[2] UBAH TIPE DATA\n",
            "    Tipe data:\n",
            " order_id           int64\n",
            "order_date        object\n",
            "customer_id        int64\n",
            "city              object\n",
            "province          object\n",
            "brand             object\n",
            "quantity           int64\n",
            "item_price         int64\n",
            "product_value    float64\n",
            "dtype: object\n",
            "\n",
            "[3] TRANSFORM product_value MENJADI product_id\n",
            "   order_id    order_date  customer_id  ... quantity item_price product_id\n",
            "0   1730350  Dec 11, 2019        13447  ...       24     113000      P1374\n",
            "1   1677490  Jul 31, 2019            0  ...        1    1164000      P1370\n",
            "2   1704211  Oct 18, 2019        16128  ...       12     747000      P1679\n",
            "3   1679695  Aug 07, 2019        16225  ...        6     590000      P1708\n",
            "4   1679080  Aug 05, 2019            0  ...        2     740000      P1201\n",
            "\n",
            "[5 rows x 9 columns]\n",
            "\n",
            "[4] TRANSFORM order_date MENJADI FORMAT YYYY-mm-dd\n",
            " Tipe data:\n",
            " order_id                int64\n",
            "order_date     datetime64[ns]\n",
            "customer_id             int64\n",
            "city                   object\n",
            "province               object\n",
            "brand                  object\n",
            "quantity                int64\n",
            "item_price              int64\n",
            "product_id             object\n",
            "dtype: object\n",
            "\n",
            "[5] HANDLING MISSING VALUE\n",
            "<class 'pandas.core.frame.DataFrame'>\n",
            "RangeIndex: 5000 entries, 0 to 4999\n",
            "Data columns (total 9 columns):\n",
            " #   Column       Non-Null Count  Dtype         \n",
            "---  ------       --------------  -----         \n",
            " 0   order_id     5000 non-null   int64         \n",
            " 1   order_date   5000 non-null   datetime64[ns]\n",
            " 2   customer_id  5000 non-null   int64         \n",
            " 3   city         5000 non-null   object        \n",
            " 4   province     5000 non-null   object        \n",
            " 5   brand        5000 non-null   object        \n",
            " 6   quantity     5000 non-null   int64         \n",
            " 7   item_price   5000 non-null   int64         \n",
            " 8   product_id   5000 non-null   object        \n",
            "dtypes: datetime64[ns](1), int64(4), object(4)\n",
            "memory usage: 351.7+ KB\n",
            "    Info:\n",
            " None\n",
            "\n",
            "[6] MEMBUAT KOLOM BARU city/province\n",
            "   order_id order_date  ...  product_id              city/province\n",
            "0   1730350 2019-12-11  ...       P1374      Surakarta/Jawa Tengah\n",
            "1   1677490 2019-07-31  ...       P1370            unknown/unknown\n",
            "2   1704211 2019-10-18  ...       P1679  Jakarta Pusat/DKI Jakarta\n",
            "3   1679695 2019-08-07  ...       P1708      Yogyakarta/Yogyakarta\n",
            "4   1679080 2019-08-05  ...       P1201            unknown/unknown\n",
            "\n",
            "[5 rows x 8 columns]\n",
            "\n",
            "[7] MEMBUAT HIERACHICAL INDEX\n",
            "                                                                     brand  ...  item_price\n",
            "city/province          order_date customer_id order_id product_id           ...            \n",
            "Banda Aceh/Aceh        2019-04-17 12818       1642480  P1936       BRAND_K  ...      450000\n",
            "                       2019-11-12 12360       1715116  P0758       BRAND_C  ...      695000\n",
            "                                                       P3042       BRAND_R  ...      310000\n",
            "                       2019-12-09 12374       1729036  P1660       BRAND_G  ...     2795000\n",
            "Bandar Lampung/Lampung 2019-01-15 12515       1619257  P0628       BRAND_C  ...      695000\n",
            "\n",
            "[5 rows x 3 columns]\n",
            "\n",
            "[8] MEMBUAT KOLOM total_price\n",
            "                                                                     brand  ...  total_price\n",
            "city/province          order_date customer_id order_id product_id           ...             \n",
            "Banda Aceh/Aceh        2019-04-17 12818       1642480  P1936       BRAND_K  ...     10800000\n",
            "                       2019-11-12 12360       1715116  P0758       BRAND_C  ...      5560000\n",
            "                                                       P3042       BRAND_R  ...      3720000\n",
            "                       2019-12-09 12374       1729036  P1660       BRAND_G  ...     11180000\n",
            "Bandar Lampung/Lampung 2019-01-15 12515       1619257  P0628       BRAND_C  ...      8340000\n",
            "\n",
            "[5 rows x 4 columns]\n",
            "\n",
            "[9] SLICE DATASET UNTUK BULAN JANUARI 2019 SAJA\n",
            "Dataset akhir:\n",
            "                                                                      brand  ...  total_price\n",
            "city/province          order_date customer_id order_id product_id           ...             \n",
            "Bandar Lampung/Lampung 2019-01-15 12515       1619257  P0628       BRAND_C  ...      8340000\n",
            "Bandung/Jawa Barat     2019-01-09 16134       1617055  P1597       BRAND_G  ...      4680000\n",
            "                       2019-01-10 17392       1617952  P2137       BRAND_M  ...      2124000\n",
            "                       2019-01-14 15527       1618828  P3115       BRAND_S  ...      1045000\n",
            "                       2019-01-29 13253       1620289  P0099       BRAND_A  ...      5400000\n",
            "...                                                                    ...  ...          ...\n",
            "unknown/unknown        2019-01-30 0           1620766  P3070       BRAND_R  ...       593000\n",
            "                                                       P3483       BRAND_S  ...      1779000\n",
            "                       2019-01-31 0           1621057  P1298       BRAND_F  ...       296000\n",
            "                                                       P1773       BRAND_H  ...      2965000\n",
            "                                                       P2877       BRAND_R  ...      1486000\n",
            "\n",
            "[334 rows x 4 columns]\n"
          ],
          "name": "stdout"
        }
      ]
    }
  ]
}