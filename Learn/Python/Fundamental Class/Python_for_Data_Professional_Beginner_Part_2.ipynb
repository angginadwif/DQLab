{
  "nbformat": 4,
  "nbformat_minor": 0,
  "metadata": {
    "colab": {
      "name": " Python for Data Professional Beginner - Part 2.ipynb",
      "provenance": [],
      "collapsed_sections": []
    },
    "kernelspec": {
      "name": "python3",
      "display_name": "Python 3"
    }
  },
  "cells": [
    {
      "cell_type": "markdown",
      "metadata": {
        "id": "k879RM3XnETo"
      },
      "source": [
        "Tugas Praktek\r\n",
        "\r\n",
        "Aku pun mulai berpikir. Selama ini aku bikin program hitung-menghitung untuk kantor dan keluarga, kok enggak bikin buat diri sendiri juga yah? Apalagi belakangan aku suka nge-boba, kayaknya memang harus dilacak deh pengeluaran dan pemasukanku minimal 9 bulan terakhir. Kalau begitu, aku pakai case pengalamanku sendiri ini saja untuk dianalisis!\r\n",
        "\r\n",
        "Buat menganalisisnya, berarti aku harus merapikan struktur data yang kumiliki terlebih dulu dengan dictionary dan kuberi nama keuangan untuk merepresentasikan pengeluaran dan pemasukan. “Pakai format juta, lalu masukkan variabel keuangan,” ujarku sembari mengetik"
      ]
    },
    {
      "cell_type": "code",
      "metadata": {
        "colab": {
          "base_uri": "https://localhost:8080/"
        },
        "id": "SWZVsf-unXLS",
        "outputId": "b60b40af-4d9f-466b-df11-8a84af1d4f6c"
      },
      "source": [
        "# Data keuangan\r\n",
        "keuangan = {\r\n",
        "'pengeluaran': [2, 2.5, 2.25, 2.5, 3.2, 2.5, 3.5, 4, 3],\r\n",
        "'pemasukan': [7.8, 7.5, 9, 7.6, 7.2, 7.5, 7, 10, 7.5]\r\n",
        "}\r\n",
        "# Perhitungan rata-rata pemasukan dan rata-rata pengeluaran\r\n",
        "# Pemasukan dan rata-rata pengeluaran\r\n",
        "total_pengeluaran = 0\r\n",
        "total_pemasukan = 0\r\n",
        "for biaya in keuangan['pengeluaran']:\r\n",
        "\ttotal_pengeluaran += biaya\r\n",
        "for biaya in keuangan['pemasukan']:\r\n",
        "\ttotal_pemasukan += biaya\r\n",
        "rata_rata_pengeluaran = total_pengeluaran/len(keuangan['pengeluaran'])\r\n",
        "rata_rata_pemasukan = total_pemasukan/len(keuangan['pemasukan'])\r\n",
        "print(rata_rata_pengeluaran)\r\n",
        "print(rata_rata_pemasukan)\r\n",
        "\r\n"
      ],
      "execution_count": 1,
      "outputs": [
        {
          "output_type": "stream",
          "text": [
            "2.8277777777777775\n",
            "7.8999999999999995\n"
          ],
          "name": "stdout"
        }
      ]
    },
    {
      "cell_type": "markdown",
      "metadata": {
        "id": "FVGE6lv5o8Hx"
      },
      "source": [
        "Apa itu String Manipulation?\r\n",
        "\r\n",
        "Aku belajar bahwa String manipulation adalah teknik yang digunakan dalam memanipulasi data yang disimpan dalam tipe data str. Pada bahasa Python, untuk mempermudah proses pengolahan data, tipe data string dapat diperlakukan layaknya seperti tipe data list."
      ]
    },
    {
      "cell_type": "code",
      "metadata": {
        "colab": {
          "base_uri": "https://localhost:8080/"
        },
        "id": "d4iDH07_pI7Y",
        "outputId": "1c066f4d-099a-41fa-b46d-fb75f72c7beb"
      },
      "source": [
        "nama_produk = \"Sepatu Niko\"\r\n",
        "nama_produk = nama_produk[:2] + \"P\" + nama_produk[3:9] + \"K\" + nama_produk[-1]\r\n",
        "print(nama_produk)\r\n",
        "print(nama_produk[:7])\r\n",
        "print(nama_produk[7:])\r\n",
        "print(len(nama_produk))"
      ],
      "execution_count": 2,
      "outputs": [
        {
          "output_type": "stream",
          "text": [
            "SePatu NiKo\n",
            "SePatu \n",
            "NiKo\n",
            "11\n"
          ],
          "name": "stdout"
        }
      ]
    },
    {
      "cell_type": "markdown",
      "metadata": {
        "id": "-dm349vSpSVF"
      },
      "source": [
        "Operator “+” untuk Tipe Data String\r\n",
        "\r\n",
        "Setelah aku mempelajari String Manipulation, sekarang aku beralih ke Operator “+”. Operator + pada dua string akan secara otomatis menggabungkan kedua string tersebut. Operator + juga dapat digunakan untuk menambahkan beberapa string secara  sekaligus.\r\n",
        "\r\n",
        "Aku mengikuti contoh yang diberikan dengan mengetik syntax pada live code editor untuk memahami bagaimana Operation “+” bekerja pada Python."
      ]
    },
    {
      "cell_type": "code",
      "metadata": {
        "colab": {
          "base_uri": "https://localhost:8080/"
        },
        "id": "3IBCUuR4pVXe",
        "outputId": "7d9bfa99-32ed-4332-db24-481ae6f43b9c"
      },
      "source": [
        "nama_depan = 'John'\r\n",
        "nama_belakang = 'Doee'\r\n",
        "nama_lengkap = nama_depan +' '+nama_belakang\r\n",
        "print(nama_lengkap)\r\n",
        "umur = '27 tahun'\r\n",
        "alamat = 'Jl. Anggrek No. 100'\r\n",
        "nama_umur_alamat = 'Hi, saya ' + nama_lengkap + 'umur' + umur + ', tinggal di ' + alamat + '.'\r\n",
        "print(nama_umur_alamat)"
      ],
      "execution_count": 3,
      "outputs": [
        {
          "output_type": "stream",
          "text": [
            "John Doee\n",
            "Hi, saya John Doeeumur27 tahun, tinggal di Jl. Anggrek No. 100.\n"
          ],
          "name": "stdout"
        }
      ]
    },
    {
      "cell_type": "markdown",
      "metadata": {
        "id": "NjBrzVu3pjwu"
      },
      "source": [
        "Menghilangkan Spasi di Awal dan/atau di Akhir\r\n",
        "\r\n",
        "Sekarang aku akan mempelajari bagaimana menghilangkan kelebihan spasi yang dimiliki di awal dan/atau di akhir variabel string."
      ]
    },
    {
      "cell_type": "code",
      "metadata": {
        "colab": {
          "base_uri": "https://localhost:8080/"
        },
        "id": "vwtzzfdYplnX",
        "outputId": "76c9ad63-1b9c-406f-8e7f-8261169071d1"
      },
      "source": [
        "# Fitur .strip()\r\n",
        "print(\">>> Fitur .strip()\")\r\n",
        "kata_sambutan = ' halo, selamat siang!   '\r\n",
        "kata_sambutan = kata_sambutan.strip()\r\n",
        "print(kata_sambutan)\r\n",
        "# Fitur .lstrip()\r\n",
        "print(\">>> Fitur .lstrip()\")\r\n",
        "kata_sambutan = ' halo, selamat siang!   '\r\n",
        "kata_sambutan = kata_sambutan.lstrip()\r\n",
        "print(kata_sambutan)\r\n",
        "# Fitur .rstrip()\r\n",
        "print(\">>> Fitur .rstrip()\")\r\n",
        "kata_sambutan = ' halo, selamat siang!   '\r\n",
        "kata_sambutan = kata_sambutan.rstrip()\r\n",
        "print(kata_sambutan)"
      ],
      "execution_count": 4,
      "outputs": [
        {
          "output_type": "stream",
          "text": [
            ">>> Fitur .strip()\n",
            "halo, selamat siang!\n",
            ">>> Fitur .lstrip()\n",
            "halo, selamat siang!   \n",
            ">>> Fitur .rstrip()\n",
            " halo, selamat siang!\n"
          ],
          "name": "stdout"
        }
      ]
    },
    {
      "cell_type": "markdown",
      "metadata": {
        "id": "pD_al-76pyJg"
      },
      "source": [
        "Merubah Caps pada String\r\n",
        "\r\n",
        "Pada bagian ini, aku akan mempelajari cara merubah caps (penggunaan huruf besar dan kecil). Jika diawal kalimat pada suatu string yang dimiliki belum berupa huruf kapital maka dengan menggunakan fitur .capitalize() kita dengan mudah merubah string tersebut menjadi kalimat yang benar secara bahasa."
      ]
    },
    {
      "cell_type": "code",
      "metadata": {
        "colab": {
          "base_uri": "https://localhost:8080/"
        },
        "id": "25_NVaQQpzz6",
        "outputId": "b09050bf-73fc-482c-ee8c-65649db1fc30"
      },
      "source": [
        "# Fitur .capitalize()\r\n",
        "print(\">>> Fitur .capitalize()\")\r\n",
        "judul_buku = 'belajar bahasa Python'\r\n",
        "print(judul_buku.capitalize())\r\n",
        "# Fitur .lower()\r\n",
        "print(\">>> Fitur .lower()\")\r\n",
        "judul_buku = 'Belajar Bahasa PYTHON.'\r\n",
        "print(judul_buku.lower())\r\n",
        "# Fitur .upper()\r\n",
        "print(\">>> Fitur .upper()\")\r\n",
        "judul_buku = 'Belajar Bahasa PYTHON.'\r\n",
        "print(judul_buku.upper())"
      ],
      "execution_count": 5,
      "outputs": [
        {
          "output_type": "stream",
          "text": [
            ">>> Fitur .capitalize()\n",
            "Belajar bahasa python\n",
            ">>> Fitur .lower()\n",
            "belajar bahasa python.\n",
            ">>> Fitur .upper()\n",
            "BELAJAR BAHASA PYTHON.\n"
          ],
          "name": "stdout"
        }
      ]
    },
    {
      "cell_type": "markdown",
      "metadata": {
        "id": "_KpxqRhnp-z3"
      },
      "source": [
        "Pemecahan, Penggabungan, dan Penggantian String\r\n",
        "\r\n",
        "Pada bagian ini, aku akan mempelajari bagaimana cara memecah suatu string dengan kondisi tertentu sehingga menghasilkan list of string. Kemudian, akan dipelajari bagaimana cara menggabungkan beberapa list of string menjadi string saja. Akhirnya, aku akan mengganti sub-string tertentu dengan sub-string lainnya sehingga merubah string awalnya."
      ]
    },
    {
      "cell_type": "code",
      "metadata": {
        "colab": {
          "base_uri": "https://localhost:8080/"
        },
        "id": "8RDhnAyxqAhc",
        "outputId": "7710113c-c337-46ba-aa9f-d69e60f673c2"
      },
      "source": [
        "# Fitur .split()\r\n",
        "print(\">>> Fitur .split()\")\r\n",
        "bilangan = \"ani dan budi dan wati dan johan\"\r\n",
        "karakter = bilangan.split(\"dan\")\r\n",
        "print(karakter)\r\n",
        "kata = bilangan.split(\" \")\r\n",
        "print(kata)\r\n",
        "# Fitur .join()\r\n",
        "print(\">>> Fitur .join()\")\r\n",
        "pemisah = \" dan \"\r\n",
        "karakter = [\"Ricky\", \"Peter\", \"Jordan\"]\r\n",
        "kalimat = pemisah.join(karakter)\r\n",
        "print(kalimat)\r\n",
        "# Fitur .replace()\r\n",
        "print(\">>> Fitur .replace()\")\r\n",
        "kalimat = \"apel malang apel yang paling segar, apel sehat, apel nikmat\"\r\n",
        "kalimat = kalimat.replace(\"apel\", \"jeruk\")\r\n",
        "print(kalimat)"
      ],
      "execution_count": 6,
      "outputs": [
        {
          "output_type": "stream",
          "text": [
            ">>> Fitur .split()\n",
            "['ani ', ' budi ', ' wati ', ' johan']\n",
            "['ani', 'dan', 'budi', 'dan', 'wati', 'dan', 'johan']\n",
            ">>> Fitur .join()\n",
            "Ricky dan Peter dan Jordan\n",
            ">>> Fitur .replace()\n",
            "jeruk malang jeruk yang paling segar, jeruk sehat, jeruk nikmat\n"
          ],
          "name": "stdout"
        }
      ]
    },
    {
      "cell_type": "markdown",
      "metadata": {
        "id": "PyXYMWeOqKXr"
      },
      "source": [
        "Menentukan Posisi dan Jumlah Sub-string pada String\r\n",
        "\r\n",
        "Pada bagian ini, aku akan mempelajari bagaimana cara menentukan posisi awal suatu sub-string dan jumlah kemunculan sub-string tersebut pada suatu string. Agar lebih memahami bagaimana penerapannya pada Python."
      ]
    },
    {
      "cell_type": "code",
      "metadata": {
        "colab": {
          "base_uri": "https://localhost:8080/"
        },
        "id": "6IzJoQ-MqLth",
        "outputId": "a514f431-7adc-413c-8284-c3875d40f9ab"
      },
      "source": [
        "teks = \"Apel malang adalah apel termanis dibanding apel-apel lainnya\"\r\n",
        "# Fitur .find()\r\n",
        "print(\">>> Fitur .find()\")\r\n",
        "print(teks.find(\"Apel\"))\r\n",
        "print(teks.find(\"malang\"))\r\n",
        "# Fitur .count()\r\n",
        "print(\">>> Fitur .count()\")\r\n",
        "kemunculan_kata_apel = teks.count(\"apel\")\r\n",
        "print(kemunculan_kata_apel)"
      ],
      "execution_count": 7,
      "outputs": [
        {
          "output_type": "stream",
          "text": [
            ">>> Fitur .find()\n",
            "0\n",
            "5\n",
            ">>> Fitur .count()\n",
            "3\n"
          ],
          "name": "stdout"
        }
      ]
    },
    {
      "cell_type": "markdown",
      "metadata": {
        "id": "mlynaLFUqd0z"
      },
      "source": [
        "Menentukan String Apakah Diawali/Diakhiri oleh Sub-string\r\n",
        "\r\n",
        "Pada bagian ini, aku akan mempelajari bagaimana menentukan apakah suatu string diawali atau diakhiri dengan suatu substring (teks) tertentu."
      ]
    },
    {
      "cell_type": "code",
      "metadata": {
        "colab": {
          "base_uri": "https://localhost:8080/"
        },
        "id": "mXgWVDT9qfgt",
        "outputId": "eccb2b39-e370-413d-ec34-0f3d63f5d0aa"
      },
      "source": [
        "# Fitur .startswith()\r\n",
        "print(\">>> Fitur .startswith()\")\r\n",
        "teks = \"Apel malang adalah apel termanis dibanding apel-apel lainnya\"\r\n",
        "print(teks.startswith(\"Apel\"))\r\n",
        "print(teks.startswith(\"apel\"))\r\n",
        "# Fitur .endswith()\r\n",
        "print(\">>> Fitur .endswith()\")\r\n",
        "print(teks.endswith(\"lainnya\"))\r\n",
        "print(teks.endswith(\"apel\"))"
      ],
      "execution_count": 8,
      "outputs": [
        {
          "output_type": "stream",
          "text": [
            ">>> Fitur .startswith()\n",
            "True\n",
            "False\n",
            ">>> Fitur .endswith()\n",
            "True\n",
            "False\n"
          ],
          "name": "stdout"
        }
      ]
    },
    {
      "cell_type": "markdown",
      "metadata": {
        "id": "R0fzVNHJqq5S"
      },
      "source": [
        "Tugas Praktek\r\n",
        "\r\n",
        "judul_artikel = [\r\n",
        "\"Buah Salak Baik untuk Mata\", \"Buah Salak Kaya Potasium\", \r\n",
        "\"Buah Jeruk Kaya Vitamin C\", \"Buah Salak Kaya Manfaat\", \r\n",
        "\"Salak Baik untuk Jantung\", \"Jeruk dapat Memperkuat Tulang\", \r\n",
        "\"Jeruk Mencegah Penyakit Asma\", \"Jeruk Memperkuat Gigi\", \r\n",
        "\"Jeruk Mencegah Kolesterol Jahat\", \"Salak Mencegah Diabetes\", \r\n",
        "\"Salak Memperkuat Dinding Usus\", \"Salak Baik untuk Darah\",\r\n",
        "\"Jeruk Kaya Manfaat untuk Jantung\", \"Salak si Kecil yang Baik\", \r\n",
        "\"Jeruk dan Salak Buah Kaya Manfaat\", \"Buah Jeruk Enak\",\r\n",
        "\"Tips Panen Jeruk Ribuan Kilo\", \"Tips Bertanam Salak\", \r\n",
        "\"Salak Manis untuk Berbuka\", \"Jeruk Baik untuk Wajah\"\r\n",
        "]\r\n",
        "\r\n",
        "Tugas:\r\n",
        "\r\n",
        "“Kalau mengikuti yang sudah kupelajari, langkah pertama adalah menghitung jumlah kemunculan kata jeruk dan salak di tiap judul artikel,” batinku."
      ]
    },
    {
      "cell_type": "code",
      "metadata": {
        "colab": {
          "base_uri": "https://localhost:8080/"
        },
        "id": "QFaCPNCNq_wo",
        "outputId": "274da12b-42c0-4471-c7eb-2ecf60c9efed"
      },
      "source": [
        "judul_artikel = [\r\n",
        "\"Buah Salak Baik untuk Mata\", \"Buah Salak Kaya Potasium\", \r\n",
        "\"Buah Jeruk Kaya Vitamin C\", \"Buah Salak Kaya Manfaat\", \r\n",
        "\"Salak Baik untuk Jantung\", \"Jeruk dapat Memperkuat Tulang\", \r\n",
        "\"Jeruk Mencegah Penyakit Asma\", \"Jeruk Memperkuat Gigi\", \r\n",
        "\"Jeruk Mencegah Kolesterol Jahat\", \"Salak Mencegah Diabetes\", \r\n",
        "\"Salak Memperkuat Dinding Usus\", \"Salak Baik untuk Darah\",\r\n",
        "\"Jeruk Kaya Manfaat untuk Jantung\", \"Salak si Kecil yang Baik\", \r\n",
        "\"Jeruk dan Salak Buah Kaya Manfaat\", \"Buah Jeruk Enak\",\r\n",
        "\"Tips Panen Jeruk Ribuan Kilo\", \"Tips Bertanam Salak\", \r\n",
        "\"Salak Manis untuk Berbuka\", \"Jeruk Baik untuk Wajah\"\r\n",
        "]\r\n",
        "jumlah_artikel_jeruk = 0\r\n",
        "jumlah_artikel_salak = 0\r\n",
        "for judul in judul_artikel:\r\n",
        "    if judul.count(\"jeruk\") > 0: \r\n",
        "        jumlah_artikel_jeruk += 1\r\n",
        "    if judul.count(\"salak\") > 0:\r\n",
        "        jumlah_artikel_salak += 1\r\n",
        "print(jumlah_artikel_jeruk) \r\n",
        "print(jumlah_artikel_salak)"
      ],
      "execution_count": 9,
      "outputs": [
        {
          "output_type": "stream",
          "text": [
            "0\n",
            "0\n"
          ],
          "name": "stdout"
        }
      ]
    },
    {
      "cell_type": "markdown",
      "metadata": {
        "id": "zm5ixZkgrNPr"
      },
      "source": [
        "Tugas Praktek\r\n",
        "\r\n",
        "Setelah selesai menghitung jumlah kemunculan kata, aku mencoba berpikir dari sudut pandang si pemilik majalah. Kalau aku jadi mereka, tentunya aku juga ingin tahu apakah kata yang muncul itu bermuatan positif atau tidak. Nah ini!\r\n",
        "Tugas:\r\n",
        "\r\n",
        "Dengan cepat, aku mendeklarasikan daftar bernama kata_positif yang berisi nuansa kata positif untuk menghitung jumlah kemunculan kata_positif bagi tiap artikel jeruk dan salak, seperti ini:\r\n",
        "\r\n",
        " "
      ]
    },
    {
      "cell_type": "code",
      "metadata": {
        "colab": {
          "base_uri": "https://localhost:8080/"
        },
        "id": "TT_C-HmYrPh3",
        "outputId": "c8f649ff-aa71-4e13-cf4a-9dbf12b72746"
      },
      "source": [
        "judul_artikel = [\r\n",
        "\"Buah Salak Baik untuk Mata\", \"Buah Salak Kaya Potasium\", \r\n",
        "\"Buah Jeruk Kaya Vitamin C\", \"Buah Salak Kaya Manfaat\", \r\n",
        "\"Salak Baik untuk Jantung\", \"Jeruk dapat Memperkuat Tulang\", \r\n",
        "\"Jeruk Mencegah Penyakit Asma\", \"Jeruk Memperkuat Gigi\", \r\n",
        "\"Jeruk Mencegah Kolesterol Jahat\", \"Salak Mencegah Diabetes\", \r\n",
        "\"Salak Memperkuat Dinding Usus\", \"Salak Baik untuk Darah\",\r\n",
        "\"Jeruk Kaya Manfaat untuk Jantung\", \"Salak si Kecil yang Baik\", \r\n",
        "\"Jeruk dan Salak Buah Kaya Manfaat\", \"Buah Jeruk Enak\",\r\n",
        "\"Tips Panen Jeruk Ribuan Kilo\", \"Tips Bertanam Salak\", \r\n",
        "\"Salak Manis untuk Berbuka\", \"Jeruk Baik untuk Wajah\"\r\n",
        "]\r\n",
        "kata_positif = [\"Kaya\", \"Baik\", \"Mencegah\", \"Memperkuat\"]\r\n",
        "kata_positif_jeruk = 0\r\n",
        "kata_positif_salak = 0\r\n",
        "for judul in judul_artikel: \r\n",
        "    for kata in kata_positif:\r\n",
        "        if judul.count(\"Jeruk\") > 0 and judul.count(kata) > 0: \r\n",
        "            kata_positif_jeruk += 1\r\n",
        "        if judul.count(\"Salak\") > 0 and judul.count(kata) > 0:\r\n",
        "            kata_positif_salak += 1\r\n",
        "print(kata_positif_jeruk) \r\n",
        "print(kata_positif_salak)"
      ],
      "execution_count": 10,
      "outputs": [
        {
          "output_type": "stream",
          "text": [
            "8\n",
            "9\n"
          ],
          "name": "stdout"
        }
      ]
    },
    {
      "cell_type": "markdown",
      "metadata": {
        "id": "fyjrjYJ4rdNO"
      },
      "source": [
        "Fungsi Pertama\r\n",
        "\r\n",
        "contoh_fungsi merupakan nama dari fungsi yang aku deklarasikan dan statemen-statemen di dalamnya disebut sebagai isi (body) dari fungsi."
      ]
    },
    {
      "cell_type": "code",
      "metadata": {
        "colab": {
          "base_uri": "https://localhost:8080/"
        },
        "id": "-HB9gCKXriSz",
        "outputId": "32c72aed-1c7d-44d4-bd63-f1297319f867"
      },
      "source": [
        "# Definisikan fungsi\r\n",
        "def contoh_fungsi():\r\n",
        "    print(\"Halo Dunia\")\r\n",
        "    print(\"Aku sedang belajar bahasa Python\")\r\n",
        "# Panggil fungsi yang telah didefinisikan\r\n",
        "contoh_fungsi()"
      ],
      "execution_count": 11,
      "outputs": [
        {
          "output_type": "stream",
          "text": [
            "Halo Dunia\n",
            "Aku sedang belajar bahasa Python\n"
          ],
          "name": "stdout"
        }
      ]
    },
    {
      "cell_type": "markdown",
      "metadata": {
        "id": "NA1UJTaxrprd"
      },
      "source": [
        "Fungsi Kedua\r\n",
        "\r\n",
        "Sebuah fungsi dapat menerima serangkaian argumen pada bagian dalam kurung setelah nama fungsi telah aku definisikan.\r\n",
        "\r\n",
        "fungsi_dengan_argumen membutuhkan dua argumen (nama_depan, nama_belakang).\r\n",
        "Python akan menjalankan sebuah fungsi hanya ketika aku telah mensuplai jumlah argumen yang sesuai saat fungsi didefinisikan."
      ]
    },
    {
      "cell_type": "code",
      "metadata": {
        "colab": {
          "base_uri": "https://localhost:8080/"
        },
        "id": "G72dBK5rrtGr",
        "outputId": "0582ddfa-1424-47aa-c038-740198bfed82"
      },
      "source": [
        "# Definsikan fungsi \r\n",
        "def fungsi_dengan_argumen(nama_depan, nama_belakang):\r\n",
        "    print(nama_depan+\" \"+ nama_belakang)\r\n",
        "# Panggil fungsi dengan memasukkan argumen\r\n",
        "# nama_depan yaitu \"John\" dan nama_belakang \"Doe\"\r\n",
        "fungsi_dengan_argumen(\"John\",\"Doe\")"
      ],
      "execution_count": 12,
      "outputs": [
        {
          "output_type": "stream",
          "text": [
            "John Doe\n"
          ],
          "name": "stdout"
        }
      ]
    },
    {
      "cell_type": "markdown",
      "metadata": {
        "id": "5MIevSAFr10l"
      },
      "source": [
        "Fungsi Ketiga\r\n",
        "\r\n",
        "Saat aku melakukan pemanggilan fungsi dengan jumlah argumen yang tidak sesuai, Python akan mengembalikan pesan error yang menyatakan bahwa terdapat argumen yang belum disuplai agar fungsi dapat dijalankan dengan baik.\r\n",
        "\r\n",
        "Contoh berikut ini adalah contoh pesan error yang akan dikembalikan oleh Python saat aku hanya mensuplai satu argumen saja untuk fungsi_dengan_argumen,"
      ]
    },
    {
      "cell_type": "code",
      "metadata": {
        "colab": {
          "base_uri": "https://localhost:8080/"
        },
        "id": "UObTzUnQr3N6",
        "outputId": "ed07c575-fe81-43d0-8734-b56ded78c365"
      },
      "source": [
        "# Definsikan fungsi dengan nilai default argument kedua adalah \"\".\r\n",
        "def fungsi_dengan_argumen(nama_depan, nama_belakang = \"\"):\r\n",
        "\tprint(nama_depan+ \" \"+ nama_belakang)\r\n",
        "# Panggil fungsi dengan memasukkan argumen nama_depan \"John\"\r\n",
        "fungsi_dengan_argumen(\"John\")\r\n",
        "# Panggil fungsi dengan memasukkan argumen\r\n",
        "# nama_depan yaitu \"John\" dan nama_belakang \"Doe\"\r\n",
        "fungsi_dengan_argumen(\"John\", \"Doe\")"
      ],
      "execution_count": 13,
      "outputs": [
        {
          "output_type": "stream",
          "text": [
            "John \n",
            "John Doe\n"
          ],
          "name": "stdout"
        }
      ]
    },
    {
      "cell_type": "markdown",
      "metadata": {
        "id": "AfyZm1bcsD4f"
      },
      "source": [
        "Tugas Praktek\r\n",
        "\r\n",
        "Tepat ketika aku baru menyelesaikan latihan tadi, aku mendapat pesan masuk di email. Dari Senja.\r\n",
        "Tugas: \r\n",
        "\r\n",
        "Aksara, pekerjaan terakhirmu baru bisa saya review sore nanti. Saat ini, kita sedang butuh bantuanmu untuk menentukan nilai rata-rata untuk data yang sudah saya buatkan dalam bentuk list of numeric bertipe int/float berikut ini. \r\n",
        "\r\n",
        "data1 = [70, 70, 70, 100, 100, 100, 120, 120, 150, 150]\r\n",
        "\r\n",
        "dan\r\n",
        "\r\n",
        "data2 = [50, 60, 60, 50, 70, 70, 100, 80, 100, 90]"
      ]
    },
    {
      "cell_type": "code",
      "metadata": {
        "colab": {
          "base_uri": "https://localhost:8080/"
        },
        "id": "HYpyeX_3sJ33",
        "outputId": "580e1fe1-3e37-4520-d444-470209fa2a11"
      },
      "source": [
        "# Dua buah data yang tersimpan dalam tipe list\r\n",
        "data1 = [70, 70, 70, 100, 100, 100, 120, 120, 150, 150]\r\n",
        "data2 = [50, 60, 60, 50, 70, 70, 100, 80, 100, 90]\r\n",
        "# Definisikan fungsi hitng_rata_rata\r\n",
        "def hitung_rata_rata(data):\r\n",
        "    jumlah = 0\r\n",
        "    for item in data:\r\n",
        "        jumlah += item\r\n",
        "    rata_rata = jumlah/len(data)\r\n",
        "    return rata_rata\r\n",
        "# Hitung nilai rata-rata dari kedua data yang dimiliki\r\n",
        "print('Rata-rata data1:')\r\n",
        "print(hitung_rata_rata(data1))\r\n",
        "print('Rata-rata data2:')\r\n",
        "print(hitung_rata_rata(data2))"
      ],
      "execution_count": 14,
      "outputs": [
        {
          "output_type": "stream",
          "text": [
            "Rata-rata data1:\n",
            "105.0\n",
            "Rata-rata data2:\n",
            "73.0\n"
          ],
          "name": "stdout"
        }
      ]
    },
    {
      "cell_type": "markdown",
      "metadata": {
        "id": "GIDFMv-bsUaF"
      },
      "source": [
        "Tugas Praktek\r\n",
        "\r\n",
        "Tugas:\r\n",
        "\r\n",
        "Aksara, yang kamu buat sudah cukup. Tolong buat satu fungsi untuk menghitung standar deviasi data dari data yang sudah saya berikan tadi (data dalam list of numeric bertipe int atau float).\r\n",
        "\r\n",
        "data1 = [70, 70, 70, 100, 100, 100, 120, 120, 150, 150]\r\n",
        "\r\n",
        "dan\r\n",
        "\r\n",
        "data2 = [50, 60, 60, 50, 70, 70, 100, 80, 100, 90]"
      ]
    },
    {
      "cell_type": "code",
      "metadata": {
        "colab": {
          "base_uri": "https://localhost:8080/"
        },
        "id": "i_nIb-0-siuz",
        "outputId": "bf9d11b0-92f6-4e57-deae-0a49aecaeb57"
      },
      "source": [
        "# Dua buah data yang tersimpan dalam tipe list\r\n",
        "data1 = [70, 70, 70, 100, 100, 100, 120, 120, 150, 150]\r\n",
        "data2 = [50, 60, 60, 50, 70, 70, 100, 80, 100, 90]\r\n",
        "# Fungsi rata-rata data\r\n",
        "def hitung_rata_rata(data):\r\n",
        "    jumlah = 0\r\n",
        "    for item in data:\r\n",
        "        jumlah += item\r\n",
        "    rata_rata = jumlah/len(data)\r\n",
        "    return rata_rata\r\n",
        "# Definisikan fungsi hitung_standar_deviasi\r\n",
        "def hitung_standar_deviasi(data):\r\n",
        "    rata_rata_data = hitung_rata_rata(data)\r\n",
        "    varians = 0\r\n",
        "    for item in data:\r\n",
        "        varians += (item - rata_rata_data) ** 2\r\n",
        "    varians /= len(data)\r\n",
        "    standar_deviasi = varians ** (1/2)\r\n",
        "    return standar_deviasi\r\n",
        "# Hitung nilai standar deviasi dari kedua data yang dimiliki\r\n",
        "print('Standar deviasi data1:')\r\n",
        "print(hitung_standar_deviasi(data1))\r\n",
        "print('Standar deviasi data2:')\r\n",
        "print(hitung_standar_deviasi(data2))"
      ],
      "execution_count": 16,
      "outputs": [
        {
          "output_type": "stream",
          "text": [
            "Standar deviasi data1:\n",
            "28.722813232690143\n",
            "Standar deviasi data2:\n",
            "17.916472867168917\n"
          ],
          "name": "stdout"
        }
      ]
    },
    {
      "cell_type": "markdown",
      "metadata": {
        "id": "9K-MiNoHt4X-"
      },
      "source": [
        "Tugas Praktek\r\n",
        "\r\n",
        "![image.png](data:image/png;base64,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)"
      ]
    },
    {
      "cell_type": "code",
      "metadata": {
        "colab": {
          "base_uri": "https://localhost:8080/"
        },
        "id": "WmFucZS0uBPY",
        "outputId": "b4b2c059-5657-4fbd-f122-f5c60067a451"
      },
      "source": [
        "# Data properti\r\n",
        "tabel_properti = {\r\n",
        "'luas_tanah': [70, 70, 70, 100, 100, 100, 120, 120, 150, 150],\r\n",
        "'luas_bangunan': [50, 60, 60, 50, 70, 70, 100, 80, 100, 90],\r\n",
        "'jarak': [15, 30, 55, 30, 25, 50, 20, 50, 50, 15],\r\n",
        "'harga': [500, 400, 300, 700, 1000, 650, 2000, 1200, 1800, 3000]\r\n",
        "}\r\n",
        "# Fungsi rata-rata data\r\n",
        "def hitung_rata_rata(data):\r\n",
        "    jumlah = 0\r\n",
        "    for item in data:\r\n",
        "        jumlah += item\r\n",
        "    rata_rata = jumlah/len(data)\r\n",
        "    return rata_rata\r\n",
        "# Fungsi hitung_standar_deviasi\r\n",
        "def hitung_standar_deviasi(data):\r\n",
        "    rata_rata_data = hitung_rata_rata(data)\r\n",
        "    varians = 0\r\n",
        "    for item in data:\r\n",
        "        varians += (item - rata_rata_data) ** 2\r\n",
        "        varians /= len(data)\r\n",
        "    standar_deviasi = varians ** (1/2)\r\n",
        "    return standar_deviasi\r\n",
        "# Definisikan fungsi untuk menghitung rata-rata dan standar deviasi\r\n",
        "# setiap kolom pada tabel_properti yang diberikan oleh key dict.\r\n",
        "def deskripsi_properti(tabel):\r\n",
        "    for key in tabel.keys():\r\n",
        "        print('Rata-rata ' + key + ':')\r\n",
        "        print(hitung_rata_rata(tabel[key])) \r\n",
        "        print('Standar deviasi ' + key + ':')\r\n",
        "        print(hitung_standar_deviasi(tabel[key]))\r\n",
        "        print('')\r\n",
        "# Panggil fungsi deskripsi_properti untuk menghitung rata-rata \r\n",
        "# dan standar deviasi setiap kolom pada tabel_properti\r\n",
        "deskripsi_properti(tabel_properti)"
      ],
      "execution_count": 18,
      "outputs": [
        {
          "output_type": "stream",
          "text": [
            "Rata-rata luas_tanah:\n",
            "105.0\n",
            "Standar deviasi luas_tanah:\n",
            "14.93311056335886\n",
            "\n",
            "Rata-rata luas_bangunan:\n",
            "73.0\n",
            "Standar deviasi luas_bangunan:\n",
            "6.025948374480153\n",
            "\n",
            "Rata-rata jarak:\n",
            "34.0\n",
            "Standar deviasi jarak:\n",
            "6.24005184770928\n",
            "\n",
            "Rata-rata harga:\n",
            "1155.0\n",
            "Standar deviasi harga:\n",
            "587.0594351517378\n",
            "\n"
          ],
          "name": "stdout"
        }
      ]
    },
    {
      "cell_type": "markdown",
      "metadata": {
        "id": "ZBQJTsdgubZE"
      },
      "source": [
        "Manipulasi Berkas Teks\r\n",
        "\r\n",
        "Pengolahan berkas teks pada Python tidak membutuhkan proses import dependencies lainnya seperti pada bahasa-bahasa pemrograman lainnya. Untuk memanipulasi berkas teks pada bahasa pemrograman Python, mula-mula, aku harus membuka/ membuat berkas teks yang aku inginkan dengan menggunakan fungsi open(). Fungsi open() menerima 2 parameter, di mana parameter pertama merupakan nama dari file yang ingin dibuka/ dibuat dan mode yang berkaitan dengan aksi yang ingin dilakukan terhadap file yang telah terbuka. Sebagai contoh,\r\n",
        "\r\n",
        "file = open(\"hello.txt\", \"r\")\r\n",
        "\r\n",
        "argumen/ parameter \"r\" mengartikan bahwa file yang akan dibuka berada dalam mode “read” sehingga nantinya aku tidak dapat menambahkan/ menuliskan ulang isi tulisan dari file “hello.txt”.\r\n",
        "\r\n",
        "Perintah ini dapat digunakan untuk menutup file yang telah aku buka.\r\n",
        "\r\n",
        "file.close()\r\n",
        "\r\n",
        " \r\n",
        "\r\n",
        "Aku juga belajar, selain mode \"r\" yang hanya digunakan untuk membaca file, terdapat juga mode lainnya seperti:\r\n",
        "\r\n",
        "   1.  w: write, mode ini dapat aku gunakan untuk menulis ke dalam sebuah berkas teks, jika berkas tidak tersedia, maka Python akan secara otomatis membuat sebuah berkas baru dengan nama yang telah di spesifikasikan. Saat menulis dengan menggunakan mode ini, jika file semula tidak kosong, maka isi yang sebelumnya terdapat di dalam berkas akan terhapus.\r\n",
        "   2.  a: append, mode ini dapat aku gunakan untuk menambahkan isi dari sebuah berkas teks. Mode ini juga akan membuat sebuah berkas teks baru dengan nama yang telah kita spesifikasikan jika berkas teks tidak tersedia.\r\n",
        "   3.  w+: write+, mode ini dapat aku gunakan untuk membaca ataupun menuliskan isi dari sebuah berkas teks.\r\n",
        "   4.  a+: append+, mode ini dapat aku gunakan untuk  membaca ataupun menambahkan isi dari sebuah berkas teks.\r\n"
      ]
    },
    {
      "cell_type": "markdown",
      "metadata": {
        "id": "JuSqo3jUwTRH"
      },
      "source": [
        "Fungsi dalam Library Matematika – Part 1\r\n",
        "\r\n",
        "Di dalam library math aku mempelajari berbagai fungsi, beberapa diantaranya dapat dilihat pada tabel di bawah ini."
      ]
    },
    {
      "cell_type": "code",
      "metadata": {
        "colab": {
          "base_uri": "https://localhost:8080/"
        },
        "id": "i4_6HFO4xUZa",
        "outputId": "91609d89-6c40-4430-b229-4d9b216c5a84"
      },
      "source": [
        "# Import library math\r\n",
        "import math\r\n",
        "# Fungsi math.ceil()\r\n",
        "print(\">>> Fungsi math.ceil()\")\r\n",
        "x = 10.32\r\n",
        "y = 13.87\r\n",
        "x_ceil = math.ceil(x)\r\n",
        "y_ceil = math.ceil(y)\r\n",
        "print(x_ceil)\r\n",
        "print(y_ceil)\r\n",
        "# Fungsi math.floor()\r\n",
        "print(\">>> Fungsi math.floor()\")\r\n",
        "x_floor = math.floor(x)\r\n",
        "y_floor = math.floor(y)\r\n",
        "print(x_floor)\r\n",
        "print(y_floor)\r\n",
        "# Fungsi math.fabs()\r\n",
        "print(\">>> Fungsi math.fabs()\")\r\n",
        "x = 10.32\r\n",
        "y = -13.87\r\n",
        "x = math.fabs(x)\r\n",
        "y = math.fabs(y)\r\n",
        "print(x)\r\n",
        "print(y)\r\n",
        "# Fungsi math.factorial()\r\n",
        "print(\">>> Fungsi math.factorial()\")\r\n",
        "x_factorial = math.factorial(5)\r\n",
        "print(x_factorial)\r\n",
        "# Fungsi math.fsum()\r\n",
        "print(\">>> Fungsi math.fsum()\")\r\n",
        "x = [1, 2, 3, 4, 5, 6, -6, -5, -4]\r\n",
        "total = math.fsum(x)\r\n",
        "print(total)"
      ],
      "execution_count": 25,
      "outputs": [
        {
          "output_type": "stream",
          "text": [
            ">>> Fungsi math.ceil()\n",
            "11\n",
            "14\n",
            ">>> Fungsi math.floor()\n",
            "10\n",
            "13\n",
            ">>> Fungsi math.fabs()\n",
            "10.32\n",
            "13.87\n",
            ">>> Fungsi math.factorial()\n",
            "120\n",
            ">>> Fungsi math.fsum()\n",
            "6.0\n"
          ],
          "name": "stdout"
        }
      ]
    },
    {
      "cell_type": "markdown",
      "metadata": {
        "id": "FBjPEncJy_T6"
      },
      "source": [
        "Harga Rumah di Tangerang\r\n",
        "\r\n",
        "![image.png](data:image/png;base64,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)\r\n",
        "\r\n",
        "Setelah selesai memasukkan data dan menemukan jika nilai dari setiap atribut (tanah, bangunan, jarak_ke_pusat) tidak setara, aku mulai agak bingung. Tapi, harus tenang dan jangan panik!\r\n",
        "\r\n",
        "Aku kembali mengecekanya dan memutuskan utnuk melakukan proses transformasi data. Transformasi data dilakukan dengan mengurangi setiap nilai atribut dalam data dengan nilai atribut minimum dan membaginya dengan nilai atribut maksimum yang dikurangi dengan nilai atribut minimum, seperti ini:\r\n",
        "\r\n",
        "   1.  Untuk atribut tanah, nilai maksimum adalah 150 dan nilai minimum adalah 70.\r\n",
        "   2.  Saat nilai atribut tanah 100, proses transformasi akan mengubah nilai atribut ini menjadi 0,375\r\n",
        "\r\n",
        "nilai_transformasi = 100 - 70 / (150 - 70)\r\n",
        "\r\n",
        "Aku mulai mendapat solusi untuk mempermudah proses transformasi data."
      ]
    },
    {
      "cell_type": "markdown",
      "metadata": {
        "id": "qlm0GFf40ASp"
      },
      "source": [
        "Tugas 2\r\n",
        "\r\n",
        "Mula-mula,  aku akan membuat sebuah fungsi bernama get_all_specified_attribute yang menerima parameter list_of_dictionary (tipe data list yang berisikan sekumpulan tipe data dictionary) dan specified_key (tipe data string). Fungsi akan mengembalikan sebuah list yang berisikan seluruh atribut dengan kunci (key) specified_key.\r\n",
        "\r\n",
        "Tugas 3\r\n",
        "\r\n",
        "Kemudian, setelah berhasil membuat fungsi  tersebut, aku juga membuat fungsi min_value yang menerima parameter list_attributes (berupa tipe data list) dan mengembalikan nilai terkecil dalam list_attributes dan max_value yang menerima parameter list_attribute dan mengembalikan nilai terbesar dalam list_attributes.\r\n",
        "Tugas 4\r\n",
        "\r\n",
        "Selanjutnya aku membuat fungsi transform_attribute yang menerima parameter attr (sebuah bilangan), max_attr (sebuah bilangan) dan min_attr (sebuah bilangan) yang mengembalikan nilai transformasi dari sebuah attribute.\r\n",
        "Tugas 5\r\n",
        "\r\n",
        "“Sudah cukup, Nja?” tanyaku saat Senja terdiam lama menelusuri hasil kerjaku.\r\n",
        "\r\n",
        "“Menurutku kita masih butuh fungsi baru yaitu fungsi data_transformation yang menerima parameter list_of_dictionary (sebuah list yang berisikan tipe data dictionary) dan list_attribute_names (sebuah list yang berisikan tipe data string) mengembalikan hasil transformasi data dari list_of_dictionary berdasarkan list_attribute_names telah dispesifikasikan.\r\n",
        "Tugas 6\r\n",
        "\r\n",
        "Dari data baru dan attr_info ini, Senja menyuruhku membuat fungsi transform_data yang menerima parameter data dan attr_info dan mengembalikan nilai atribut dari data baru yang telah ditransformasikan.\r\n",
        "Tugas 7\r\n",
        "\r\n",
        "Setelah itu, Senja memintaku untuk membuat sistem prediksi harga berdasarkan nilai kemiripan atribut.\r\n",
        "Tugas 8\r\n",
        "\r\n",
        "Dan aku menggunakan semua fungsi yang telah aku definisikan dari Step 1 s/d Step 7.\r\n",
        "\r\n",
        "    1. Hitung harga rumah yang telah ditransformasikan ke dalam variabel harga_rumah berikut dengan atributnya attr_info\r\n",
        "   2.  Gunakan variabel data untuk memprediksi harga rumah\r\n",
        "\r\n",
        "   3.  data = {'tanah': 110, 'bangunan': 80, 'jarak_ke_pusat': 35}\r\n",
        "\r\n",
        "   4. transformasikan data tersebut dengan dengan menggunakan attr_info yang telah diperoleh yang kembali disimpan ke variabel data.\r\n",
        "   5. Hitunglah prediksi harga dari variabel data tersebut. \r\n",
        "\r\n",
        " "
      ]
    },
    {
      "cell_type": "markdown",
      "metadata": {
        "id": "lTTtbjSI2xaC"
      },
      "source": [
        "# Baca file \"harga_rumah.txt\"\r\n",
        "        file_harga_rumah = open(\"harga_rumah.txt\", \"r\")\r\n",
        "        data_harga_rumah = file_harga_rumah.readlines()\r\n",
        "        file_harga_rumah.close()\r\n",
        "        # Buat list of dict dengan nama harga rumah\r\n",
        "        key_harga_rumah = data_harga_rumah[0].replace(\"\\n\",\"\").split(\",\")\r\n",
        "        harga_rumah = []\r\n",
        "        for baris in data_harga_rumah[1:]:\r\n",
        "        \tbaris_harga_rumah = baris.replace(\"\\n\",\"\").split(\",\")\r\n",
        "        \tdict_harga_rumah = dict()\r\n",
        "        \tfor i in range(len(baris_harga_rumah)):\r\n",
        "        \t\tdict_harga_rumah[key_harga_rumah[i]] = baris_harga_rumah[i]\r\n",
        "        \tharga_rumah.append(dict_harga_rumah)\r\n",
        "        print(harga_rumah)\r\n",
        "        # STEP 2:\r\n",
        "        # Buat fungsi  get_all_specified_attribute yang menerima parameter list_of_dictionary \r\n",
        "        # (tipe data list yang berisikan sekumpulan tipe data dictionary) dan specified_key \r\n",
        "        # (tipe data string). Fungsi akan mengembalikan sebuah list yang berisikan seluruh \r\n",
        "        # atribut dengan kunci (key) specified_key. \r\n",
        "        def get_all_specified_attributes(list_of_dictionary, specified_key):\r\n",
        "        \tlist_attributes = []\r\n",
        "        \tfor data in list_of_dictionary:\r\n",
        "        \t\tattribute = data[specified_key]\r\n",
        "        \t\tlist_attributes.append(attribute)\r\n",
        "        \treturn list_attributes\r\n",
        "        # STEP 3: \r\n",
        "        # Buat fungsi fungsi min_value yang menerima parameter list_attributes (berupa \r\n",
        "        # tipe data list) dan mengembalikan nilai terkecil dalam list_attributes \r\n",
        "        def min_value(list_attributes):\r\n",
        "        \tmin_attribute = 9999\r\n",
        "        \tfor attr in list_attributes:\r\n",
        "        \t\tif int(attr) < min_attribute:\r\n",
        "        \t\t\tmin_attribute = int(attr)\r\n",
        "        \treturn min_attribute\r\n",
        "        # Buat fungsi dan max_value yang menerima parameter list_attribute dan \r\n",
        "        # mengembalikan nilai terbesar dalam list_attributes.\t\r\n",
        "        def max_value(list_attributes):\r\n",
        "        \tmax_attribute = -9999\r\n",
        "        \tfor attr in list_attributes:\r\n",
        "        \t\tif int(attr) > max_attribute:\r\n",
        "        \t\t\tmax_attribute = int(attr)\r\n",
        "        \treturn max_attribute\r\n",
        "        # STEP 4: \r\n",
        "        # Buat fungsi transform_attribute yang menerima parameter attr (sebuah \r\n",
        "        # bilangan), max_attr (sebuah bilangan) dan min_attr (sebuah bilangan) \r\n",
        "        # yang mengembalikan nilai transformasi dari sebuah attribute.\r\n",
        "        def transform_attribute(attr, max_attr, min_attr):\r\n",
        "        \tnilai_transformasi = (attr - min_attr) / (max_attr - min_attr)\r\n",
        "        \treturn nilai_transformasi\r\n",
        "        # STEP 5:\r\n",
        "        # Buat fungsi data_transformation yang menerima parameter list_of_dictionary \r\n",
        "        # (sebuah list yang berisikan tipe data dictionary) dan list_attribute_names \r\n",
        "        # (sebuah list yang berisikan tipe data string) mengembalikan hasil \r\n",
        "        # transformasi data dari list_of_dictionary berdasarkan list_attribute_names \r\n",
        "        # dan attr_info telah dispesifikasikan.\r\n",
        "        def data_transformation(list_of_dictionary, list_attribute_names):\r\n",
        "        \tattr_info = {}\r\n",
        "        \tfor attr_name in list_attribute_names:\r\n",
        "        \t\tspecified_attributes = get_all_specified_attributes(list_of_dictionary, attr_name)\r\n",
        "        \t\tmax_attr = max_value(specified_attributes)\r\n",
        "        \t\tmin_attr = min_value(specified_attributes)\r\n",
        "        \t\tattr_info[attr_name] = {'max': max_attr, 'min': min_attr}\r\n",
        "        \t\tdata_idx = 0\r\n",
        "        \t\twhile(data_idx < len(list_of_dictionary)):\r\n",
        "        \t\t\tlist_of_dictionary[data_idx][attr_name] = transform_attribute(int(list_of_dictionary[data_idx][attr_name]), max_attr, min_attr)\r\n",
        "        \t\t\tdata_idx += 1\r\n",
        "        \treturn list_of_dictionary, attr_info\r\n",
        "        # STEP 6:\r\n",
        "        # Berdasarkan data baru dan attr_info ini, buat fungsi transform_data yang\r\n",
        "        # menerima parameter data dan attr_info dan mengembalikan nilai atribut \r\n",
        "        # dari data baru yang telah ditransformasikan.\r\n",
        "        def transform_data(data, attr_info):\r\n",
        "        \tfor key_name in data.keys():\r\n",
        "        \t\tdata[key_name] = (data[key_name] - attr_info[key_name]['min']) / (\r\n",
        "        \t\t                  attr_info[key_name]['max'] - attr_info[key_name]['min'])\r\n",
        "        \treturn data\r\n",
        "        # STEP 7:\r\n",
        "        # Buat fungsi yang digunakan untuk sistem prediksi harga berdasarkan \r\n",
        "        # nilai kemiripan atribut!\r\n",
        "        def abs_value(value):\r\n",
        "        \tif value < 0:\r\n",
        "        \t\treturn -value\r\n",
        "        \telse:\r\n",
        "        \t\treturn value\r\n",
        "        def price_based_on_similarity(data, list_of_data):\r\n",
        "        \tprediksi_harga = 0\r\n",
        "        \tperbedaan_terkecil = 999\r\n",
        "        \tfor data_point in list_of_data:\r\n",
        "        \t\tperbedaan= abs_value(data['tanah'] - data_point['tanah'])\r\n",
        "        \t\tperbedaan+= abs_value(data['bangunan'] - data_point['bangunan'])\r\n",
        "        \t\tperbedaan+= abs_value(data['jarak_ke_pusat'] - data_point['jarak_ke_pusat'])\r\n",
        "        \t\tif perbedaan < perbedaan_terkecil:\r\n",
        "        \t\t\tprediksi_harga = data_point['harga']\r\n",
        "        \t\t\tperbedaan_terkecil = perbedaan\r\n",
        "        \treturn prediksi_harga\r\n",
        "        # STEP 8:\r\n",
        "        # Hitung harga rumah yang telah ditransformasikan ke dalam variabel \r\n",
        "        # harga_rumah berikut dengan atributnya attr_info\r\n",
        "        harga_rumah, attr_info = data_transformation(harga_rumah,['tanah','bangunan','jarak_ke_pusat'])\r\n",
        "        # Gunakan variabel data untuk memprediksi harga rumah\r\n",
        "        data = {'tanah': 110, 'bangunan': 80, 'jarak_ke_pusat': 35}\r\n",
        "        # Transformasikan data tersebut dengan dengan menggunakan attr_info yang telah \r\n",
        "        # diperoleh yang kembali disimpan ke variabel data.\r\n",
        "        data = transform_data(data, attr_info)\r\n",
        "        # Hitunglah prediksi harga dari variabel data tersebut.\r\n",
        "        harga = price_based_on_similarity(data, harga_rumah)\r\n",
        "        print(\"Prediksi harga rumah: \", harga)\r\n",
        "\r\n",
        "[{'bangunan': '50', 'tanah': '70', 'jarak_ke_pusat': '15', 'harga': '500'}, {'bangunan': '60', 'tanah': '70', 'jarak_ke_pusat': '30', 'harga': '400'}, {'bangunan': '60', 'tanah': '70', 'jarak_ke_pusat': '55', 'harga': '300'}, {'bangunan': '50', 'tanah': '100', 'jarak_ke_pusat': '30', 'harga': '700'}, {'bangunan': '70', 'tanah': '100', 'jarak_ke_pusat': '25', 'harga': '1000'}, {'bangunan': '70', 'tanah': '100', 'jarak_ke_pusat': '50', 'harga': '650'}, {'bangunan': '100', 'tanah': '120', 'jarak_ke_pusat': '20', 'harga': '2000'}, {'bangunan': '80', 'tanah': '120', 'jarak_ke_pusat': '50', 'harga': '1200'}, {'bangunan': '100', 'tanah': '150', 'jarak_ke_pusat': '50', 'harga': '1800'}, {'bangunan': '90', 'tanah': '150', 'jarak_ke_pusat': '15', 'harga': '3000'}]\r\n",
        "Prediksi harga rumah:  1200"
      ]
    }
  ]
}