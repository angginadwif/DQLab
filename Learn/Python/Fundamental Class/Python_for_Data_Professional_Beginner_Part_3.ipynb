{
  "nbformat": 4,
  "nbformat_minor": 0,
  "metadata": {
    "colab": {
      "name": " Python for Data Professional Beginner - Part 3.ipynb",
      "provenance": [],
      "collapsed_sections": []
    },
    "kernelspec": {
      "name": "python3",
      "display_name": "Python 3"
    }
  },
  "cells": [
    {
      "cell_type": "markdown",
      "metadata": {
        "id": "7Z72HzRzMvZG"
      },
      "source": [
        "Class dan Objek dalam Python - Part 3\r\n",
        "\r\n",
        "Berkaitan dengan kedua jenis atribut yang telah aku pelajari, aku menggunakan contoh berikut untuk memperkuat pemahamanky terkait dengan konsep class attribute.\r\n"
      ]
    },
    {
      "cell_type": "markdown",
      "metadata": {
        "id": "n0t98Q_lM9o5"
      },
      "source": [
        "Tugas:\r\n",
        "\r\n",
        "Aku di minta untuk mengerjakan tutorial sederhana untuk membantu memahami konsep OOP:\r\n",
        "\r\n",
        "    1. Definisikan Class Karyawan\r\n",
        "    2. Inisiasi object yang dinyatakan dalam variabel Aksara dan Senja\r\n",
        "    3. Cetak Nama Perusahaan melalui penggunaan keyword __class__\r\n",
        "    4. Ubah Nama Perusahaan menjadi 'DEF' \r\n"
      ]
    },
    {
      "cell_type": "code",
      "metadata": {
        "colab": {
          "base_uri": "https://localhost:8080/"
        },
        "id": "Ze7eFbfYNEzl",
        "outputId": "6b704161-83e5-4502-cb47-9f44786dd8d9"
      },
      "source": [
        "# Definisikan class Karyawan\r\n",
        "class Karyawan:\r\n",
        "    nama_perusahaan = 'ABC'\r\n",
        "# Inisiasi object yang dinyatakan dalam variabel aksara dan senja\r\n",
        "aksara = Karyawan()\r\n",
        "senja = Karyawan()\r\n",
        "# Cetak nama perusahaan melalui penggunaan keyword __class__\r\n",
        "# pada class attribute nama_perusahaan\r\n",
        "print(aksara.__class__.nama_perusahaan)\r\n",
        "# Ubah nama_perusahaan menjadi 'DEF'\r\n",
        "aksara.__class__.nama_perusahaan = 'DEF'\r\n",
        "# Cetak nama_perusahaan objek aksara dan senja\r\n",
        "print(aksara.__class__.nama_perusahaan)\r\n",
        "print(senja.__class__.nama_perusahaan)"
      ],
      "execution_count": 1,
      "outputs": [
        {
          "output_type": "stream",
          "text": [
            "ABC\n",
            "DEF\n",
            "DEF\n"
          ],
          "name": "stdout"
        }
      ]
    },
    {
      "cell_type": "markdown",
      "metadata": {
        "id": "lF7DHFUQNbnR"
      },
      "source": [
        "\r\n",
        "Class dan Objek dalam Python - Part 4\r\n",
        "\r\n",
        "Pada bagian sebelumnya aku telah mempelajari contoh deklarasi class Karyawan; nama, usia dan pendapatan karyawan adalah contoh dari konsep instance attribute. Hal ini dikarenakan setiap karyawan tentunya dapat memiliki nama, usia dan pendapatan yang berbeda."
      ]
    },
    {
      "cell_type": "code",
      "metadata": {
        "colab": {
          "base_uri": "https://localhost:8080/"
        },
        "id": "JfeL4EQeNvTP",
        "outputId": "18858c67-693b-4ef1-a490-4c5559f14ac7"
      },
      "source": [
        "# Definisikan class Karyawan\r\n",
        "class Karyawan:\r\n",
        "    nama_perusahaan = 'ABC'\r\n",
        "    def __init__(self, nama, usia, pendapatan):\r\n",
        "        self.nama = nama\r\n",
        "        self.usia = usia\r\n",
        "        self.pendapatan = pendapatan\r\n",
        "# Buat object bernama aksara dan senja\r\n",
        "aksara = Karyawan('Aksara', 25, 8500000)\r\n",
        "senja = Karyawan('Senja', 28, 12500000)\r\n",
        "# Cetak objek bernama aksara\r\n",
        "print(aksara.nama + ', Usia: ' + str(aksara.usia) + ', Pendapatan ' + str(aksara.pendapatan))\r\n",
        "# Cetak objek bernama senja\r\n",
        "print(senja.nama + ', Usia: ' + str(senja.usia) + ', Pendapatan ' + str(senja.pendapatan))"
      ],
      "execution_count": 2,
      "outputs": [
        {
          "output_type": "stream",
          "text": [
            "Aksara, Usia: 25, Pendapatan 8500000\n",
            "Senja, Usia: 28, Pendapatan 12500000\n"
          ],
          "name": "stdout"
        }
      ]
    },
    {
      "cell_type": "code",
      "metadata": {
        "colab": {
          "base_uri": "https://localhost:8080/"
        },
        "id": "w1As9sp-N_dt",
        "outputId": "baa18e2d-4fc6-4f12-ec87-a646f9ad02ca"
      },
      "source": [
        "class Karyawan: \r\n",
        "    nama_perusahaan = 'ABC'\r\n",
        "    def __init__(self, nama, usia, pendapatan):\r\n",
        "        self.nama = nama\r\n",
        "        self.usia = usia\r\n",
        "        self.pendapatan = pendapatan\r\n",
        "        if usia > 30:\r\n",
        "            self.pendapatan += 1500000\r\n",
        "\r\n",
        "karyawan_1 = Karyawan('Budi', 35, 7500000)\r\n",
        "karyawan_2 = Karyawan('Didi', 30, 8000000)\r\n",
        "\r\n",
        "total_pengeluaran = karyawan_1.pendapatan + karyawan_2.pendapatan \r\n",
        "print(total_pengeluaran)"
      ],
      "execution_count": 3,
      "outputs": [
        {
          "output_type": "stream",
          "text": [
            "17000000\n"
          ],
          "name": "stdout"
        }
      ]
    },
    {
      "cell_type": "code",
      "metadata": {
        "colab": {
          "base_uri": "https://localhost:8080/"
        },
        "id": "uDBtOrJwOQEX",
        "outputId": "cf63e96d-0a24-449a-c763-8f6f3843d3ed"
      },
      "source": [
        "class Karyawan:\r\n",
        "    nama_perusahaan = 'ABC'\r\n",
        "    tunjangan_transportasi = 500000\r\n",
        "    def __init__(self, nama, usia, pendapatan):\r\n",
        "        self.nama = nama\r\n",
        "        self.usia = usia\r\n",
        "        self.pendapatan = pendapatan\r\n",
        "\r\n",
        "karyawan_1 = Karyawan('Budi', 35, 5000000)\r\n",
        "karyawan_2 = Karyawan('Didi', 30, 5000000)\r\n",
        "karyawan_1.__class__.nama_perusahaan = 1000000\r\n",
        "\r\n",
        "total_pengeluaran = karyawan_1.__class__.tunjangan_transportasi\r\n",
        "total_pengeluaran += karyawan_2. __class__.tunjangan_transportasi\r\n",
        "total_pengeluaran += karyawan_1.pendapatan\r\n",
        "total_pengeluaran += karyawan_2.pendapatan\r\n",
        "print(total_pengeluaran)"
      ],
      "execution_count": 4,
      "outputs": [
        {
          "output_type": "stream",
          "text": [
            "11000000\n"
          ],
          "name": "stdout"
        }
      ]
    },
    {
      "cell_type": "markdown",
      "metadata": {
        "id": "RJQI1O0lPhsF"
      },
      "source": [
        "Behavior pada Class\r\n",
        "\r\n",
        "Selain dapat mendefinisikan atribut, dalam sebuah class, aku diperbolehkan untuk mendefinisikan fungsi-fungsi (behavior) dari sebuah class.\r\n",
        "\r\n",
        "Dari potongan kode yang telah aku gunakan, aku dapat menambahkan fungsi-fungsi berkaitan dengan class Karyawan. Sebagai contoh, seorang karyawan tentunya mungkin saja memiliki pendapatan tambahan berdasarkan banyaknya kerja lembur dan jumlah proyek yang telah diselesaikan."
      ]
    },
    {
      "cell_type": "code",
      "metadata": {
        "colab": {
          "base_uri": "https://localhost:8080/"
        },
        "id": "Y8y92z9HPnrn",
        "outputId": "dae04c03-b462-4917-c222-cb4d07d162f8"
      },
      "source": [
        "# Definisikan class Karyawan berikut dengan attribut dan fungsinya\r\n",
        "class Karyawan:\r\n",
        "    nama_perusahaan = 'ABC'\r\n",
        "    insentif_lembur = 250000\r\n",
        "    def __init__(self, nama, usia, pendapatan):\r\n",
        "        self.nama = nama\r\n",
        "        self.usia = usia\r\n",
        "        self.pendapatan = pendapatan\r\n",
        "        self.pendapatan_tambahan = 0\r\n",
        "    def lembur(self):\r\n",
        "        self.pendapatan_tambahan += self.insentif_lembur\r\n",
        "    def tambahan_proyek(self, insentif_proyek):\r\n",
        "    \tself.pendapatan_tambahan += insentif_proyek\r\n",
        "    def total_pendapatan(self):\r\n",
        "    \treturn self.pendapatan + self.pendapatan_tambahan\r\n",
        "# Buat object dari karwayan bernama Aksara dan Senja\r\n",
        "aksara = Karyawan('Aksara', 25, 8500000)\r\n",
        "senja = Karyawan('Senja', 28, 12500000)\r\n",
        "# Aksara melaksanakan lembur\r\n",
        "aksara.lembur()\r\n",
        "# Senja memiliki proyek tambahan\r\n",
        "senja.tambahan_proyek(2500000)\r\n",
        "# Cetak pendapatan total Aksara dan Senja\r\n",
        "print('Pendapatan Total Aksara: ' + str(aksara.total_pendapatan()))\r\n",
        "print('Pendapatan Total Senja: ' +str(senja.total_pendapatan()))"
      ],
      "execution_count": 5,
      "outputs": [
        {
          "output_type": "stream",
          "text": [
            "Pendapatan Total Aksara: 8750000\n",
            "Pendapatan Total Senja: 15000000\n"
          ],
          "name": "stdout"
        }
      ]
    },
    {
      "cell_type": "markdown",
      "metadata": {
        "id": "j6iIKpZoWmYl"
      },
      "source": [
        "Tugas Praktek"
      ]
    },
    {
      "cell_type": "code",
      "metadata": {
        "id": "y-UU-XlxWw_o"
      },
      "source": [
        "# Definisikan class Karyawan\r\n",
        "class Karyawan:\r\n",
        "    def __init__(self, nama, usia, pendapatan, insentif_lembur): \r\n",
        "        self.nama = nama\r\n",
        "        self.usia = usia \r\n",
        "        self.pendapatan = pendapatan \r\n",
        "        self.pendapatan_tambahan = 0\r\n",
        "        self.insentif_lembur = insentif_lembur \r\n",
        "    def lembur(self):\r\n",
        "        self.pendapatan_tambahan += self.insentif_lembur \r\n",
        "    def tambahan_proyek(self, jumlah_tambahan):\r\n",
        "        self.pendapatan_tambahan += jumlah_tambahan \r\n",
        "    def total_pendapatan(self):\r\n",
        "        return self.pendapatan + self.pendapatan_tambahan \r\n",
        "# Definisikan class Perusahaan\r\n",
        "class Perusahaan:\r\n",
        "    def __init__(self, nama, alamat, nomor_telepon): \r\n",
        "        self.nama = nama\r\n",
        "        self.alamat = alamat \r\n",
        "        self.nomor_telepon = nomor_telepon\r\n",
        "        self.list_karyawan = []\r\n",
        "    def aktifkan_karyawan(self, karyawan): \r\n",
        "        self.list_karyawan.append(karyawan)\r\n",
        "    def nonaktifkan_karyawan(self, nama_karyawan): \r\n",
        "        karyawan_nonaktif = None\r\n",
        "        for karyawan in self.list_karyawan:\r\n",
        "            if karyawan.nama == nama_karyawan: \r\n",
        "                karyawan_nonaktif = karyawan \r\n",
        "                break\r\n",
        "        if karyawan_nonaktif is not None: \r\n",
        "            self.list_karyawan.remove(karyawan_nonaktif)"
      ],
      "execution_count": 7,
      "outputs": []
    },
    {
      "cell_type": "markdown",
      "metadata": {
        "id": "oTDljZAGXGFu"
      },
      "source": [
        "Tugas Praktek\r\n",
        "\r\n",
        "Sekitar satu jam lebih berkutat depan laptop, kode aku kelar juga! Tapi, sebelum kutunjukkan pada Senja, lebih baik aku coba simulasikan dulu. Kuambil post-it kuning di ujung meja dan kugambar tabel berisi daftar perusahaan dan karyawan sebagai contoh, lengkap dengan pendapatan tetap dan tambahan yang diterima.\r\n",
        "\r\n",
        "Nama Perusahaan: ABC\r\n",
        "\r\n",
        "Alamat                  : Jl. Jendral Sudirman, Blok 11\r\n",
        "\r\n",
        "No. Telp                : (021) 95205XX\r\n",
        "\r\n",
        "![image.png](data:image/png;base64,iVBORw0KGgoAAAANSUhEUgAAAncAAACCCAYAAAAkCu7hAAAQf0lEQVR4nO2cPZLbuBaFZ02jNbjKCXYw0SyAkcPn+EVTxdgb8AYYOPUmXMXV4AV+6Lm8AkAQLZ0Gqe+rOuWWQZEUcXRxBP78EQEAAADgMvzx0TsAAAAAAI+DcAcAAABwIQh3AAAAABeCcAcAAABwIe7C3e12QwghhBBCJ9JuuPv560+Eni68hpTCb0gp/IaUItyhYYTXkFL4DSmF35BShDs0jPAaUgq/IaXwG1KKcIeGEV5DSuE3pBR+Q0oR7tAwwmtIKfyGlMJvSCnC3f8Pwit8ztFFHyClPspvf/39u958+YrfX0lnrG//fNveffnPt4/5DIzRfcesKdx9+vznXed++fr7gP/198cedG/ApNb9eqRx0jHBiMeVjlnqz0+ft+05D+aUBk//foSsvN9668dRKcNd2tZHDcroXyW/jRLuc95I3k/7lmpubl9LdfpZx44x9fgxOxTubEeOFu7svtVMiXHG1KPCHUItqvntSP04KsLda+oM4c6rVnMJd2PrcLizpsyFO7ucb0uv/TRvafnvP+5/TbeazO+bnVHL7VfuV3zalt+H7z/+Xeenz9vP/J//lgeKZ88InF1Hw533ku/r9LrVR+i1VPNba/1I7/VetAN3zn92mZo/W9bv29Ln8HUn1a7cTGWtpvF9eazffLj79Pm+D22QKdW5mi/T9o56w9bY0nuT9sLdke/Mp8/3y+dmFEv74328d4xf4azO7dYxc5f+zxfAdPC+/7htClY64LaTbXs60LnlU1vaVq5TciazRdC/1/9isdst7fM/3/5t9/tkl/f7sndM0LbPSv1pPWj7wnvx+4/bnS9bfYReSzW/tdYP/2PQvs6tq/S65E+/fl9D0vK+lqXX/gdRer+v2bkQa9fP9+VxfssFj1zw+vK1rc7tjWu2Dta8kfu/3pm7I98Z67kvX2/V72P6LH5mvSXcvZqPD4c7Wxz2Tst6Y/gOOGIkb/Kcybx8x/oA5k3vt++X8+vKff69XzOcWqybsXYM7bGzfe6Dcs2XNR+h15L3W0/9qA1EdpbMttdOy3l/Hn1/aVAr1Ru//tqs90f319m1F+5SH9k+qNW51nFtL/A8I9wd+c54j+U85z+LX0fPZ726Doc7e+D8rz570K3eE+5q09UtJrPb9fJfAl/U/TSx1ZFwVzsmaNtPtf7M+aPWb7ZfWnyEXkt7frPLlerHXrirebF2arUl3NUuO9gb1PxpOcKdzm9Hwl3Og362am9c+4hwd+Q7855wl5Yh3OX74HC4851XmuJ/78ydDUItM3d7xbl0KtR+jr3CbNUS7vaOCdr2w89f5QGl1o/2uOZOy7b4CL2Wjoa7nO9aw11t5q3mz72Zu9Lpr9Kg5k/rMnOn91tPuEuyy7aOax8Z7lq+M8zcPc9vXeHOzmrlfinUbkxoCXelkNQT7nIF1u6HXW8tGKT20oX7e6bLHRO07ZP0d/KCP9b+WiTvHTvg5X4l1nyEXkut4a5WP/bCnR2ofHjLXV/k/ekHcf+6dB1q6VEWvmb5a5EId8/3W89p2Vqd2xvX9gKPnUF+1jV3te/MkXBXum7Vfhb7HSHcdYQ7+3+1O8p6w519bdfVE+5y+5YzijdS6bRtKQjm9mXvmKCtGf3r3HH/+et3ofKnlkqhu9VH6LXUGu5+/irXj71wZ9fvPegHnpw/S9cDtq7bt5eWJ9zp/HYk3NXqXM2XOR+2eKMn3HmVxr7Sd6Y13PnjYEOp35e0bcJdQ7hDbWoZKFBeeA0pdQa/5W7qQufUGfyGriPC3YO1d50eKguvIaXO4DfC3XV0Br+h64hw9+CDaae4P3p/zia8hpQ6g98Id9fRGfyGriPCHRpGeA0phd+QUvgNKUW4Q8MIryGl8BtSCr8hpQh3aBjhNaQUfkNK4TekFOEODSO8hpTCb0gp/IaUItyhYYTXkFL4DSmF35BShDs0jPAaUgq/IaXwG1KKcIeGEV5DSuE3pBR+Q0oR7tAwwmtIKfyGlMJvSCnCHRpGeA0phd+QUvgNKUW4Q8MIryGl8BtSCr8hpQh3aBjhNaQUfkNK4TekVFO4QwghhBBC59FuuANQgNdACX4DJfgNlBDuYBjwGijBb6AEv4ESwh0MA14DJfgNlOA3UEK4g2HAa6AEv4ES/AZKCHcwDHgNlOA3UILfQAnhDoYBr4ES/AZK8BsoORTu1nWNt9stzvN8aCPTNMUQQucuwqtA8YNe5nkuPgJgmqZNW6pF+O08pLEnaV3Xt7ZlWe4eAWHbbf8vy7JZr/WNH9dqbXZ//NhWasNv1yF5zvspxlisQzHWvdjbVvLpoXA3zzNBDZ4GxQ96mOd5U5OmaYrTNG1el4ownIMQwlsfpvCUWJZl098W6430vhT80gCdsANnrc2/9n4rteG3a2DDlK8rIYS3gOXrUs2LvW01nx4KdyGEuK7r27+J9OWy6dImyBQKAWpQ/OARpBqV8PUqgd/Og5+N85MOpbNJNhTG+DtspWXt32k9aZyqtS3LsvGXDZu1Nvx2Lby3/I+OGLe+rXmxt63m0+ZwZwum/zL5KUqfJgl30ALFDx6BrzchhOwpO/x2HtKYkiYRbP/6U/L+1JQNhdYbftC0wazWlhvP0nZqbfjtWtQ8klum5sXetto+NIe7eZ430+L2Q+Q+lJ9WJNzBHhQ/eAT+dIn/m5mU8+EDnB3s1nW9m9UrnZryA6M/A2XDXaktN1Now12pDb9di1yw8jnHhztLbZatta3m0+Zw53/9+vO+hDt4LxQ/eC8hhN1akwoufjsHuckEH/Asj5j1YOYO9rjEzF1up+0vFMIdPAKKH7yHlmAXI4Pt2ciNH6WbZFLbe69X4po72OMS19z5FcS4NTHhDh4BxQ96CSFk7+L3p8nsnWf47Rz4OwTtaz+r96g7DblbFvbwoSv936nuli1NgacVEe7gEVD8oAd/PZZ9TMG6rnfPuUvgt/Pgn2Vnr/8utSV4zh08ktolajGe9Dl3AM8Er4ES/AZK8BsoIdzBMOA1UILfQAl+AyWEOxgGvAZK8BsowW+ghHAHw4DXQAl+AyX4DZQQ7mAY8BoowW+gBL+BEsIdDANeAyX4DZTgN1BCuINhwGugBL+BEvwGSgh3MAx4DZTgN1CC30AJ4Q6GAa+BEvwGSvAbKCHcwTDgNVCC30AJfgMlhDsYBrwGSvAbKMFvoIRwB8OA10AJfgMl+A2UEO5gGPAaKMFvoAS/gRLCHQwDXgMl+A2U4DdQ0hTuEEIIIYTQebQb7gAU4DVQgt9ACX4DJYQ7GAa8BkrwGyjBb6CEcAfDgNdACX4DJfgNlBDuYBjwGijBb6AEv4ESwh0MA14DJfgNlOA3UEK4g2HAa6AEv4ES/AZKPizczfMcp2l6yrrhnFD8QAl+AyX4DZQ0h7sQQvUZKkex4W5d13i73eKyLO9aJ5wbih/0Ms9zsTal+pK0rmuMEb+NyLIs2bGg1r8xxjhN01ubf2+tza53nufmNuupEEJTG367DiWfWq/lvNHr0x4PHwp3dqXzPN/t+BGYuQMPxQ968LVomqZNbbG1Kw28MeK30bCDVG2s8f1r21P/pgBfa0sDdMJut9bmX/v9KbXht2tQ8mmMv/u7NEnV69NeD3eHO1sk03Jpg+lD+l87NtHmvhD2/fB6UPzgEazrejdjYmsL4W5s/Fjj8f3rl7djT63Nj1F2wqHWtizLZvt2LKy14bdrkfNpCKGYY3p92uvh7nC3F878RkMId7+mCXdgofjBI/BnBdKv21SzmEkZm71w5/vXjx1+gCu1+e3YYFZry511StupteG3a1EKd7lLQGLs92mvh991zZ2fpi6Fu5yx976g8HpQ/OAR5E7rcc3dedgLd7mxx1KbvfADox1zfLgrtc3znD0rlcJdqQ2/XYucT33Q8mc3La0+7fVw98xdarPnd0vhzk9V+x3MvR9eD4ofvBd/RsCfwksFl8F2XGrhzvdvjMzcwcew9yPELzP0zF3u4sEU4PbCHTN3sAfFD95DbuDPDbbpomf8NialQTPXv7nlueYOFLSEO5trTnPNnX98SQjhLsz523L9a8IdWCh+0EsIIXv3vr+7zL7Gb2NSupap9HQG7paFjyD3BBEftKxnh75btnbNXdpICm3+g/pnTS3LQriDDRQ/6MFfU+frk61NteIHH0tujEmnOmv9GyPPuQMdJZ+u63r3nDvPkM+5A3g2eA2U4DdQgt9ACeEOhgGvgRL8BkrwGygh3MEw4DVQgt9ACX4DJYQ7GAa8BkrwGyjBb6CEcAfDgNdACX4DJfgNlBDuYBjwGijBb6AEv4ESwh0MA14DJfgNlOA3UEK4g2HAa6AEv4ES/AZKCHcwDHgNlOA3UILfQAnhDoYBr4ES/AZK8BsoIdzBMOA1UILfQAl+AyWEOxgGvAZK8BsowW+ghHAHw4DXQAl+AyX4DZQQ7mAY8BoowW+gBL+BkqZwhxBCCCGEzqPdcAegAK+BEvwGSvAbKCHcwTDgNVCC30AJfgMlhDsYBrwGSvAbKMFvoIRwB8OA10AJfgMl+A2UEO5gGPAaKMFvoAS/gRLCHQwDXgMl+A2U4DdQcijcLcuyuc12WZbNcvM8N22wZTl4PSh+0Ms8z8VHAMQYs234bTzSGGPHlhhjnKZp04chhGJ77b2+zfrGj0u1tnVdi/tSasNv16Cn1iR6fdrj4eZwl1ZgCSHEdV2zBwDgKBQ/6GFZls0gOs/z5nUI4a3o2Tb8NhZ2kMoNbv7/7PtSn6ZglcalWlsKkgm73Vqbfz1NU5ymabcNv50fX1t835dqjX99xKe9Hm4Kd36FOUIIG/P7Wb7ScgAJih88glSv/N8JW9NgPHJjRG0iwS8/TdPbAFtrs3/H+HsQTQN1rc3/mLBeqrXht+uxrutd8LLY3NTr014PN4U7b9gcdgdSsEsfal3XtzbCHZSg+MEjsAUvV7tSDcJvY1IKd3aywAY9/9oPcKW23IRE8kqtza7D70OtDb9dj1roj3Hro16f9nq4Kdz56cUcdiM+TZaWA7BQ/OA9pABga8+yLHeDLeFubHJjRO6sUML3Y232wg+MdtD04a7UNs/z3fhmw12pDb9dD38qv1Rr0rKWVp/2evgpM3e1AEe4gxIUP3gE9vpgZu7OR8sY8YgZEWbu4D2EEDZ9fcqZu6PX3NmLCmvLAVgofvAoUr3imrvz0TJGPOJaJq65g158sIvxpNfcpTfV7pbdu+au9AEBEhQ/6MHPlvj6w92y58KPEf5U56PuQuRuWeghhFA8k3m6u2XtztmLWud5LoY2vyw3VMAeFD/oYV3Xu+eg+bMMuTv38dtY+Jsm7Oyr718Pz7kDBT7X5Hz1DJ8+9Tl3AM8Gr4ES/AZK8BsoIdzBMOA1UILfQAl+AyWEOxgGvAZK8BsowW+ghHAHw4DXQAl+AyX4DZQQ7mAY8BoowW+gBL+BEsIdDANeAyX4DZTgN1BCuINhwGugBL+BEvwGSgh3MAx4DZTgN1CC30AJ4Q6GAa+BEvwGSvAbKCHcwTDgNVCC30AJfgMlhDsYBrwGSvAbKMFvoIRwB8OA10AJfgMl+A2UEO5gGPAaKMFvoAS/gRLCHQwDXgMl+A2U4DdQ0hTuEEIIIYTQeVQNdwAAAABwXgh3AAAAABeCcAcAAABwIf4HE2V4XFQt6s4AAAAASUVORK5CYII=)\r\n"
      ]
    },
    {
      "cell_type": "code",
      "metadata": {
        "id": "wHiuZ8ZUXUlS"
      },
      "source": [
        "# Definisikan perusahaan\r\n",
        "perusahaan = Perusahaan('ABC', 'Jl. Jendral Sudirman, Blok 11', '(021) 95205XX')\r\n",
        "# Definisikan nama-nama karyawan\r\n",
        "karyawan_1 = Karyawan('Ani', 25, 8500000, 100000)\r\n",
        "karyawan_2 = Karyawan('Budi', 28, 12000000, 150000)\r\n",
        "karyawan_3 = Karyawan('Cici', 30, 15000000, 200000)\r\n",
        "# Aktifkan karyawan di perusahaan ABC\r\n",
        "perusahaan.aktifkan_karyawan(karyawan_1) \r\n",
        "perusahaan.aktifkan_karyawan(karyawan_2) \r\n",
        "perusahaan.aktifkan_karyawan(karyawan_3)\r\n"
      ],
      "execution_count": 8,
      "outputs": []
    },
    {
      "cell_type": "markdown",
      "metadata": {
        "id": "l0rfAUMqao_V"
      },
      "source": [
        "\r\n",
        "Encapsulation pada Python - Part 2\r\n",
        "\r\n",
        "Pada contoh di atas, terlihat bahwa atribut nama pada setiap objek dapat diakses secara bebas di luar scope dari sebuah class. Agar suatu properti ataupun fungsi dari sebuah class tidak dapat diakses secara bebas di luar scope milik suatu class, aku dapat mendefinisikan access modifier (level akses) saat sebuah atribut/fungsi didefinisikan.\r\n",
        "\r\n",
        "Terdapat 2 macam access modifier dalam Python, yakni.\r\n",
        "\r\n",
        "    1. Public access: dapat aku definisikan dengan secara langsung menuliskan nama dari atribut/ fungsi. Dalam sebuah objek, atribut/fungsi yang bersifat public access dapat diakses di luar scope sebuah class\r\n",
        "    2. Private access: dapat aku definisikan dengan menambahkan double underscore (__) sebelum menuliskan nama dari atribut/fungsi. Dalam sebuah objek, atribut/fungsi yang bersifat private access hanya dapat diakses di dalam scope sebuah class.\r\n",
        "\r\n"
      ]
    },
    {
      "cell_type": "code",
      "metadata": {
        "colab": {
          "base_uri": "https://localhost:8080/",
          "height": 246
        },
        "id": "PV6RohW_bG-f",
        "outputId": "7426aff2-9ee6-4ada-bc9f-5e3311b9346a"
      },
      "source": [
        "# Definisikan class Karyawan\r\n",
        "class Karyawan: \r\n",
        "    nama_perusahaan = 'ABC' \r\n",
        "    __insentif_lembur = 250000\r\n",
        "    def __init__(self, nama, usia, pendapatan): \r\n",
        "        self.__nama = nama\r\n",
        "        self.__usia = usia \r\n",
        "        self.__pendapatan = pendapatan \r\n",
        "        self.__pendapatan_tambahan = 0\r\n",
        "    def lembur(self):\r\n",
        "        self.__pendapatan_tambahan += self.__insentif_lembur \r\n",
        "    def tambahan_proyek(self, insentif_proyek):\r\n",
        "        self.__pendapatan_tambahan +=insentif_proyek \r\n",
        "    def total_pendapatan(self):\r\n",
        "        return self.__pendapatan + self.__pendapatan_tambahan\r\n",
        "# Buat objek karyawan bernama Aksara\r\n",
        "aksara = Karyawan('Aksara', 25, 8500000)\r\n",
        "# Akses ke attribute class Karyawan\r\n",
        "print(aksara.__class__.___)\r\n",
        "# Akan menimbulkan error ketika di run\r\n",
        "print(aksara.___)"
      ],
      "execution_count": 9,
      "outputs": [
        {
          "output_type": "error",
          "ename": "AttributeError",
          "evalue": "ignored",
          "traceback": [
            "\u001b[0;31m---------------------------------------------------------------------------\u001b[0m",
            "\u001b[0;31mAttributeError\u001b[0m                            Traceback (most recent call last)",
            "\u001b[0;32m<ipython-input-9-baa223d1edec>\u001b[0m in \u001b[0;36m<module>\u001b[0;34m()\u001b[0m\n\u001b[1;32m     17\u001b[0m \u001b[0maksara\u001b[0m \u001b[0;34m=\u001b[0m \u001b[0mKaryawan\u001b[0m\u001b[0;34m(\u001b[0m\u001b[0;34m'Aksara'\u001b[0m\u001b[0;34m,\u001b[0m \u001b[0;36m25\u001b[0m\u001b[0;34m,\u001b[0m \u001b[0;36m8500000\u001b[0m\u001b[0;34m)\u001b[0m\u001b[0;34m\u001b[0m\u001b[0;34m\u001b[0m\u001b[0m\n\u001b[1;32m     18\u001b[0m \u001b[0;31m# Akses ke attribute class Karyawan\u001b[0m\u001b[0;34m\u001b[0m\u001b[0;34m\u001b[0m\u001b[0;34m\u001b[0m\u001b[0m\n\u001b[0;32m---> 19\u001b[0;31m \u001b[0mprint\u001b[0m\u001b[0;34m(\u001b[0m\u001b[0maksara\u001b[0m\u001b[0;34m.\u001b[0m\u001b[0m__class__\u001b[0m\u001b[0;34m.\u001b[0m\u001b[0m___\u001b[0m\u001b[0;34m)\u001b[0m\u001b[0;34m\u001b[0m\u001b[0;34m\u001b[0m\u001b[0m\n\u001b[0m\u001b[1;32m     20\u001b[0m \u001b[0;31m# Akan menimbulkan error ketika di run\u001b[0m\u001b[0;34m\u001b[0m\u001b[0;34m\u001b[0m\u001b[0;34m\u001b[0m\u001b[0m\n\u001b[1;32m     21\u001b[0m \u001b[0mprint\u001b[0m\u001b[0;34m(\u001b[0m\u001b[0maksara\u001b[0m\u001b[0;34m.\u001b[0m\u001b[0m___\u001b[0m\u001b[0;34m)\u001b[0m\u001b[0;34m\u001b[0m\u001b[0;34m\u001b[0m\u001b[0m\n",
            "\u001b[0;31mAttributeError\u001b[0m: type object 'Karyawan' has no attribute '___'"
          ]
        }
      ]
    },
    {
      "cell_type": "markdown",
      "metadata": {
        "id": "pCbi_-2cePw0"
      },
      "source": [
        "akan menyebabkan error yang menyatakan bahwa objek Karyawan tidak memiliki atribut  __nama."
      ]
    },
    {
      "cell_type": "markdown",
      "metadata": {
        "id": "kPK1xjU_eWE7"
      },
      "source": [
        "Quiz"
      ]
    },
    {
      "cell_type": "code",
      "metadata": {
        "colab": {
          "base_uri": "https://localhost:8080/",
          "height": 246
        },
        "id": "WMz4y9XueYs4",
        "outputId": "5d49c054-8554-43ae-ed85-ea11726b625c"
      },
      "source": [
        "class Karyawan:\r\n",
        "    nama_perusahaan = 'ABC'\r\n",
        "    __insentif_lembur = 250000\r\n",
        "    def __init__(self, nama, usia, pendapatan):\r\n",
        "        self.__nama = nama\r\n",
        "        self.__usia = usia\r\n",
        "        self.__pendapatan = pendapatan\r\n",
        "        self.__pendapatan_tambahan = 0\r\n",
        "    def lembur(self):\r\n",
        "        self.__pendapatan_tambahan += self.__insentif_lembur\r\n",
        "    def tambahan_proyek(self, insentif_proyek):\r\n",
        "        self.__pendapatan_tambahan += insentif_proyek\r\n",
        "    def total_pendapatan(self):\r\n",
        "        return self.__pendapatan + self.__pendapatan_tambahan\r\n",
        "\r\n",
        "aksara = Karyawan('Aksara', 25, 8500000)\r\n",
        "aksara.tambahan_proyek(aksara.__insentif_lembur)\r\n",
        "aksara.lembur()\r\n",
        "aksara.lembur() \r\n",
        "print(aksara.total_pendapatan())"
      ],
      "execution_count": 10,
      "outputs": [
        {
          "output_type": "error",
          "ename": "AttributeError",
          "evalue": "ignored",
          "traceback": [
            "\u001b[0;31m---------------------------------------------------------------------------\u001b[0m",
            "\u001b[0;31mAttributeError\u001b[0m                            Traceback (most recent call last)",
            "\u001b[0;32m<ipython-input-10-1b563901a66e>\u001b[0m in \u001b[0;36m<module>\u001b[0;34m()\u001b[0m\n\u001b[1;32m     15\u001b[0m \u001b[0;34m\u001b[0m\u001b[0m\n\u001b[1;32m     16\u001b[0m \u001b[0maksara\u001b[0m \u001b[0;34m=\u001b[0m \u001b[0mKaryawan\u001b[0m\u001b[0;34m(\u001b[0m\u001b[0;34m'Aksara'\u001b[0m\u001b[0;34m,\u001b[0m \u001b[0;36m25\u001b[0m\u001b[0;34m,\u001b[0m \u001b[0;36m8500000\u001b[0m\u001b[0;34m)\u001b[0m\u001b[0;34m\u001b[0m\u001b[0;34m\u001b[0m\u001b[0m\n\u001b[0;32m---> 17\u001b[0;31m \u001b[0maksara\u001b[0m\u001b[0;34m.\u001b[0m\u001b[0mtambahan_proyek\u001b[0m\u001b[0;34m(\u001b[0m\u001b[0maksara\u001b[0m\u001b[0;34m.\u001b[0m\u001b[0m__insentif_lembur\u001b[0m\u001b[0;34m)\u001b[0m\u001b[0;34m\u001b[0m\u001b[0;34m\u001b[0m\u001b[0m\n\u001b[0m\u001b[1;32m     18\u001b[0m \u001b[0maksara\u001b[0m\u001b[0;34m.\u001b[0m\u001b[0mlembur\u001b[0m\u001b[0;34m(\u001b[0m\u001b[0;34m)\u001b[0m\u001b[0;34m\u001b[0m\u001b[0;34m\u001b[0m\u001b[0m\n\u001b[1;32m     19\u001b[0m \u001b[0maksara\u001b[0m\u001b[0;34m.\u001b[0m\u001b[0mlembur\u001b[0m\u001b[0;34m(\u001b[0m\u001b[0;34m)\u001b[0m\u001b[0;34m\u001b[0m\u001b[0;34m\u001b[0m\u001b[0m\n",
            "\u001b[0;31mAttributeError\u001b[0m: 'Karyawan' object has no attribute '__insentif_lembur'"
          ]
        }
      ]
    },
    {
      "cell_type": "markdown",
      "metadata": {
        "id": "WpEQDY73egs6"
      },
      "source": [
        "output dari potongan kode di atas.\r\n",
        "Potongan kode gagal dijalankan"
      ]
    },
    {
      "cell_type": "markdown",
      "metadata": {
        "id": "lUI5G6B-ek4K"
      },
      "source": [
        "Inheritance pada Python – Part 1\r\n",
        "\r\n",
        "Inheritance adalah salah satu mekanisme di konsep OO yang mengizinkan aku untuk mendefinisikan sebuah class baru berdasarkan class yang sebelumnya telah dideklarasikan.\r\n",
        "\r\n",
        "Melalui konsep inheritance, sebuah class baru dapat memiliki atribut dan fungsi pada class yang sebelumnya telah didefinisikan. Pada konsep inheritance, atribut/fungsi yang akan diwariskan hanyalah atribut/fungsi dengan access modifier public, atribut/fungsi dengan access modifier private tidak akan diturunkan."
      ]
    },
    {
      "cell_type": "code",
      "metadata": {
        "colab": {
          "base_uri": "https://localhost:8080/"
        },
        "id": "GkEHIc6oe-Xs",
        "outputId": "bd2f2f6d-8401-45c8-e2c8-db55f2b61a4b"
      },
      "source": [
        "# Definisikan class Karyawan (sebagai base class)\r\n",
        "class Karyawan: \r\n",
        "    nama_perusahaan = 'ABC' \r\n",
        "    insentif_lembur = 250000\r\n",
        "    def __init__(self, nama, usia, pendapatan): \r\n",
        "        self.nama = nama\r\n",
        "        self.usia = usia \r\n",
        "        self.pendapatan = pendapatan \r\n",
        "        self.pendapatan_tambahan = 0\r\n",
        "    def lembur(self):\r\n",
        "        self.pendapatan_tambahan += self.insentif_lembur \r\n",
        "    def tambahan_proyek(self, insentif_proyek):\r\n",
        "        self.pendapatan_tambahan += insentif_proyek \r\n",
        "    def total_pendapatan(self):\r\n",
        "        return self.pendapatan + self.pendapatan_tambahan\r\n",
        "# Buat class turunan (sebagai inherit class) dari class karyawan, \r\n",
        "# yaitu class AnalisData\r\n",
        "class AnalisData(Karyawan):\r\n",
        "    def __init__(self, nama, usia, pendapatan):\r\n",
        "    # melakukan pemanggilan konstruktur class Karyawan \r\n",
        "        super().__init__(nama,usia,pendapatan)\r\n",
        "# Buat kembali class turunan (sebagai inherit class) dari class karyawan,  \r\n",
        "# yaitu class IlmuwanData\r\n",
        "class IlmuwanData(Karyawan):\r\n",
        "    def __init__(self, nama, usia, pendapatan):\r\n",
        "        # melakukan pemanggilan konstruktur class Karyawan \r\n",
        "        super().__init__(nama,usia,pendapatan)\r\n",
        "# Buat objek karyawan yang bekerja sebagai AnalisData\r\n",
        "aksara = AnalisData('Aksara', 25, 8500000)\r\n",
        "aksara.lembur()\r\n",
        "print(aksara.total_pendapatan())\r\n",
        "# Buat objek karyawan yang bekerja sebagai IlmuwanData\r\n",
        "senja = IlmuwanData('Senja', 28, 13000000)\r\n",
        "senja.tambahan_proyek(2000000)\r\n",
        "print(senja.total_pendapatan())"
      ],
      "execution_count": 12,
      "outputs": [
        {
          "output_type": "stream",
          "text": [
            "8750000\n",
            "15000000\n"
          ],
          "name": "stdout"
        }
      ]
    },
    {
      "cell_type": "markdown",
      "metadata": {
        "id": "N6l4a0l7fZyf"
      },
      "source": [
        "Inheritance pada Python – Part 2\r\n",
        "\r\n",
        "Pada bagian pertama aku telah mempelajari bagaimana child class mewarisi fungsi/atribut dari parent class dengan menggunakan fungsi super(). Melalui konsep inheritance, child class dapat memodifikasi atribut/ fungsi yang diwarisi oleh sebuah parent class dengan mendefinisikan ulang atribut/ fungsi menggunakan nama yang sama. "
      ]
    },
    {
      "cell_type": "code",
      "metadata": {
        "colab": {
          "base_uri": "https://localhost:8080/"
        },
        "id": "d7y9mDncfc46",
        "outputId": "5ec2e0e3-a4f5-4fe9-fc6f-25295213a612"
      },
      "source": [
        "# Definisikan class Karyawan (sebagai base class)\r\n",
        "class Karyawan: \r\n",
        "    nama_perusahaan = 'ABC' \r\n",
        "    insentif_lembur = 250000\r\n",
        "    def __init__(self, nama, usia, pendapatan): \r\n",
        "        self.nama = nama\r\n",
        "        self.usia = usia \r\n",
        "        self.pendapatan = pendapatan \r\n",
        "        self.pendapatan_tambahan = 0\r\n",
        "    def lembur(self):\r\n",
        "        self.pendapatan_tambahan += self.insentif_lembur \r\n",
        "    def tambahan_proyek(self, insentif_proyek):\r\n",
        "        self.pendapatan_tambahan += insentif_proyek \r\n",
        "    def total_pendapatan(self):\r\n",
        "        return self.pendapatan + self.pendapatan_tambahan\r\n",
        "# Buat class turunan (sebagai inherit class) dari class karyawan, \r\n",
        "# yaitu class AnalisData\r\n",
        "class AnalisData(Karyawan):\r\n",
        "    def __init__(self, nama, usia, pendapatan):\r\n",
        "    # melakukan pemanggilan konstruktur class Karyawan \r\n",
        "        super().__init__(nama,usia,pendapatan)\r\n",
        "# Buat kembali class turunan (sebagai inherit class) dari class karyawan,  \r\n",
        "# yaitu class IlmuwanData\r\n",
        "class IlmuwanData(Karyawan):\r\n",
        "    # mengubah atribut insentif_lembur yang digunakan pada fungsi lembur()\r\n",
        "    insentif_lembur = 500000\r\n",
        "    def __init__(self, nama, usia, pendapatan):\r\n",
        "        super().__init__(nama,usia,pendapatan)\r\n",
        "# Buat objek karyawan yang bekerja sebagai AnalisData\r\n",
        "aksara = AnalisData('Aksara', 25, 8500000)\r\n",
        "aksara.lembur()\r\n",
        "print(aksara.total_pendapatan())\r\n",
        "# Buat objek karyawan yang bekerja sebagai IlmuwanData\r\n",
        "senja = IlmuwanData('Senja', 28, 13000000)\r\n",
        "senja.lembur()\r\n",
        "print(senja.total_pendapatan())"
      ],
      "execution_count": 13,
      "outputs": [
        {
          "output_type": "stream",
          "text": [
            "8750000\n",
            "13500000\n"
          ],
          "name": "stdout"
        }
      ]
    },
    {
      "cell_type": "code",
      "metadata": {
        "colab": {
          "base_uri": "https://localhost:8080/"
        },
        "id": "4KAJa8g3g6hT",
        "outputId": "78272327-0001-40c5-a5ab-c7311e1f4634"
      },
      "source": [
        "class Burung:\r\n",
        "    def __init__(self, nama):\r\n",
        "        self.nama = nama\r\n",
        "    def fly(self):\r\n",
        "        print(nama + ' sedang terbang')\r\n",
        "\r\n",
        "class Ayam(Burung):\r\n",
        "    def fly(self):\r\n",
        "        print(self.nama + ' tidak bisa terbang')\r\n",
        "\r\n",
        "anak_ayam = Ayam('Si Jago')\r\n",
        "anak_ayam.fly()"
      ],
      "execution_count": 19,
      "outputs": [
        {
          "output_type": "stream",
          "text": [
            "Si Jago tidak bisa terbang\n"
          ],
          "name": "stdout"
        }
      ]
    },
    {
      "cell_type": "markdown",
      "metadata": {
        "id": "DbnZvK8QibvF"
      },
      "source": [
        "Polymorphism pada Python - Part 1\r\n",
        "\r\n",
        "Selain dapat mendefinisikan ulang nilai dari atribut yang diwarisi oleh parent class seperti pada contoh di atas, aku juga dapat juga dapat mendefinisikan ulang fungsi yang telah diwarisi oleh parent class.\r\n",
        "\r\n",
        "Saat aku mendefinisikan kembali fungsi yang telah diwarisi oleh parent class, secara tidak langsung aku telah menerapkan salah satu mekanisme yang secara khusus pada paradigma OO disebut dengan istilah polymorphism."
      ]
    },
    {
      "cell_type": "code",
      "metadata": {
        "colab": {
          "base_uri": "https://localhost:8080/"
        },
        "id": "wYPmAsySiiZG",
        "outputId": "5de976fb-abe6-41f0-adb4-fa769a95da25"
      },
      "source": [
        "# Definisikan class Karyawan (sebagai base class)\r\n",
        "class Karyawan: \r\n",
        "    nama_perusahaan = 'ABC' \r\n",
        "    insentif_lembur = 250000\r\n",
        "    def __init__(self, nama, usia, pendapatan): \r\n",
        "        self.nama = nama\r\n",
        "        self.usia = usia \r\n",
        "        self.pendapatan = pendapatan \r\n",
        "        self.pendapatan_tambahan = 0\r\n",
        "    def lembur(self):\r\n",
        "        self.pendapatan_tambahan += self.insentif_lembur \r\n",
        "    def tambahan_proyek(self, insentif_proyek):\r\n",
        "        self.pendapatan_tambahan += insentif_proyek \r\n",
        "    def total_pendapatan(self):\r\n",
        "        return self.pendapatan + self.pendapatan_tambahan\r\n",
        "# Buat class turunan (sebagai inherit class) dari class karyawan, \r\n",
        "# yaitu class AnalisData\r\n",
        "class AnalisData(Karyawan):\r\n",
        "    def __init__(self, nama, usia, pendapatan):\r\n",
        "    # melakukan pemanggilan konstruktur class Karyawan \r\n",
        "        super().__init__(nama, usia, pendapatan)\r\n",
        "    # menerapkan polymorphism dengan mendefinisikan kembali fungsi \r\n",
        "    # lembur() pada class AnalisData \r\n",
        "    def lembur(self):\r\n",
        "        # pendapatan tambahan pada class AnalisData sebesar\r\n",
        "        # 10 % dari pendapatannya.\r\n",
        "        self.pendapatan_tambahan += int(self.pendapatan *0.1)\r\n",
        "# Buat objek karyawan yang bekerja sebagai AnalisData\r\n",
        "aksara = AnalisData('Aksara', 25, 8500000)\r\n",
        "aksara.lembur()\r\n",
        "print(aksara.total_pendapatan())"
      ],
      "execution_count": 20,
      "outputs": [
        {
          "output_type": "stream",
          "text": [
            "9350000\n"
          ],
          "name": "stdout"
        }
      ]
    },
    {
      "cell_type": "markdown",
      "metadata": {
        "id": "uL1h4XGKi0aq"
      },
      "source": [
        "Polymorphism pada Python - Part 2\r\n",
        "\r\n",
        "Pada konsep inheritance, melalui fungsi super(), selain dapat mengakses constructor milik parent class, child class juga dapat mengakses atribut/fungsi yang dimiliki oleh parent class."
      ]
    },
    {
      "cell_type": "code",
      "metadata": {
        "colab": {
          "base_uri": "https://localhost:8080/"
        },
        "id": "15WKVgKni4Dj",
        "outputId": "4d77190c-b6e1-4d15-d493-693ec8a71658"
      },
      "source": [
        "# Definisikan class Karyawan (sebagai base class)\r\n",
        "class Karyawan: \r\n",
        "    nama_perusahaan = 'ABC' \r\n",
        "    insentif_lembur = 250000\r\n",
        "    def __init__(self, nama, usia, pendapatan): \r\n",
        "        self.nama = nama\r\n",
        "        self.usia = usia \r\n",
        "        self.pendapatan = pendapatan \r\n",
        "        self.pendapatan_tambahan = 0\r\n",
        "    def lembur(self):\r\n",
        "        self.pendapatan_tambahan += self.insentif_lembur \r\n",
        "    def tambahan_proyek(self, insentif_proyek):\r\n",
        "        self.pendapatan_tambahan += insentif_proyek \r\n",
        "    def total_pendapatan(self):\r\n",
        "        return self.pendapatan + self.pendapatan_tambahan\r\n",
        "# Buat class turunan (sebagai inherit class) dari class karyawan, \r\n",
        "# yaitu class AnalisData\r\n",
        "class AnalisData(Karyawan):\r\n",
        "    def __init__(self, nama, usia, pendapatan): \r\n",
        "        super().__init__ (nama, usia, pendapatan)\r\n",
        "    # mendefinisikan kembali fungsi lembur() pada class AnalisData \r\n",
        "    def lembur(self):\r\n",
        "        # memanggil fungsi lembur pada class Karyawan \r\n",
        "        super().lembur()\r\n",
        "        # pendapatan tambahan pada class AnalisData sebesar\r\n",
        "        # 5 % dari pendapatannya.\r\n",
        "        self.pendapatan_tambahan += int(self.pendapatan \r\n",
        "\t\t\t\t\t\t\t\t\t * 0.05)\r\n",
        "# Buat objek karyawan yang bekerja sebagai AnalisData\r\n",
        "aksara = AnalisData('Aksara', 25, 8500000)\r\n",
        "aksara.lembur()\r\n",
        "print(aksara.total_pendapatan())"
      ],
      "execution_count": 21,
      "outputs": [
        {
          "output_type": "stream",
          "text": [
            "9175000\n"
          ],
          "name": "stdout"
        }
      ]
    },
    {
      "cell_type": "markdown",
      "metadata": {
        "id": "XvIri2GvjDH7"
      },
      "source": [
        "Tugas Praktek\r\n",
        "\r\n",
        "Aku tak pernah membayangkan diriku benar-benar mengerjakan program untuk kebutuhan perusahaan. Seperti sekarang, aku sedang mengerjakan rikues untuk memenuhi penghitungan pembayaran fee karyawan lepas. \r\n",
        "\r\n",
        "Tapi, tak apa. Sejak program yang terakhir berhasil, aku sedikit lebih percaya diri untuk menjawab tantangan baru.\r\n",
        "\r\n",
        "Sembari menyeruput kopi hangat, aku mulai memasukkan informasi yang cukup untuk membuat class Tenaga Lepas, berisi nama, usia, dan pendapatan selama bergabung di sebuah proyek. Lalu, apa lagi ya?\r\n",
        "\r\n",
        "“Nja, mau nanya. Kalau karyawan lepas, insentif tambahannya dari uang lembur juga?”\r\n",
        "\r\n",
        "“Engga, Aksara. Di kantor kita, karyawan lepas dapat insentif dari proyek yang dikerjakan. Kalau hasilnya sukses bisa dapat 1% dari nilai proyek.”"
      ]
    },
    {
      "cell_type": "code",
      "metadata": {
        "id": "-oxJ2njxjRr9"
      },
      "source": [
        "# Definisikan class Karyawan\r\n",
        "class Karyawan:\r\n",
        "    def __init__(self, nama, usia, pendapatan, insentif_lembur): \r\n",
        "        self.nama = nama\r\n",
        "        self.usia = usia \r\n",
        "        self.pendapatan = pendapatan \r\n",
        "        self.pendapatan_tambahan = 0\r\n",
        "        self.insentif_lembur = insentif_lembur \r\n",
        "    def lembur(self):\r\n",
        "        self.pendapatan_tambahan += self.insentif_lembur \r\n",
        "    def tambahan_proyek(self,jumlah_tambahan):\r\n",
        "        self.pendapatan_tambahan += jumlah_tambahan \r\n",
        "    def total_pendapatan(self):\r\n",
        "        return self.pendapatan + self.pendapatan_tambahan\r\n",
        "# Definisikan class TenagaLepas sebagai child class dari\r\n",
        "# class Karyawan\r\n",
        "class TenagaLepas(Karyawan):\r\n",
        "    def __init__(self, nama, usia, pendapatan):\r\n",
        "        super().__init__(nama, usia, pendapatan, 0)\r\n",
        "    def tambahan_proyek(self, nilai_proyek):\r\n",
        "        self.pendapatan_tambahan += nilai_proyek * 0.01"
      ],
      "execution_count": 23,
      "outputs": []
    },
    {
      "cell_type": "markdown",
      "metadata": {
        "id": "X_kidiFyjiqC"
      },
      "source": [
        "Tugas Praktek\r\n",
        "\r\n",
        "Di luar sudah menggelap. Gerobak nasi goreng yang biasanya menunggu di depan kantor tiap pukul tujuh sudah tampak. Aku masih saja larut dalam pekerjaan.\r\n",
        "\r\n",
        "“Masih di sini, Aksara? Belum pulang?” tegur Senja yang baru saja keluar dari ruangan.\r\n",
        "\r\n",
        "“Masih ngurusin proyek Tenaga Lepas. Ini baru dapat rikues lagi untuk nambahin class yang merepresentasikan masing-masing pekerjaan di divisi ini.”\r\n",
        "\r\n",
        "“Hmm, kamu pakai konsep inherintance saja, akan lebih mudah,” saran Senja sebelum pulang. Sejujurnya, aku juga mau pulang. Teringat kasur di rumah yang siap untuk rebahan. Kalau begitu, pekerjaan ini harus cepat diselesaikan.\r\n",
        "\r\n",
        "Di divisiku ada empat bidang pekerjaan, mulai dari analisis data, ilmuwan data, pembersih data, dan dokumenter teknis. Setiap peran punya sistem penerimaan fee yang berbeda. Ini yang bikin rumit. Misalnya, ilmuwan data akan mendapat insentif tambahan sebesar 10% dari proyek yang dikerjakan, dan dokumenter teknis adalah satu-satunya peran yang tidak menerima insentif dari proyek."
      ]
    },
    {
      "cell_type": "code",
      "metadata": {
        "id": "EIX7bHpAjmie"
      },
      "source": [
        "# Definisikan class Karyawan sebagai parent class\r\n",
        "class Karyawan:\r\n",
        "    def __init__(self, nama, usia, pendapatan, insentif_lembur): \r\n",
        "        self.nama = nama\r\n",
        "        self.usia = usia \r\n",
        "        self.pendapatan = pendapatan \r\n",
        "        self.pendapatan_tambahan = 0\r\n",
        "        self.insentif_lembur = insentif_lembur \r\n",
        "    def lembur(self):\r\n",
        "        self.pendapatan_tambahan += self.insentif_lembur \r\n",
        "    def tambahan_proyek(self,jumlah_tambahan):\r\n",
        "        self.pendapatan_tambahan += jumlah_tambahan \r\n",
        "    def total_pendapatan(self):\r\n",
        "        return self.pendapatan + self.pendapatan_tambahan\r\n",
        "# Definisikan class TenagaLepas sebagai child class dari\r\n",
        "# class Karyawan\r\n",
        "class TenagaLepas(Karyawan):\r\n",
        "    def __init__(self, nama, usia, pendapatan):\r\n",
        "        super().__init__(nama, usia, pendapatan, 0)\r\n",
        "    def tambahan_proyek(self, nilai_proyek):\r\n",
        "        self.pendapatan_tambahan += nilai_proyek * 0.01\r\n",
        "# Definisikan class AnalisData sebagai child class dari\r\n",
        "# class Karyawan\r\n",
        "class AnalisData(Karyawan): \r\n",
        "    pass\r\n",
        "# Definisikan class IlmuwanData sebagai child class dari\r\n",
        "# class Karyawan\r\n",
        "class IlmuwanData(Karyawan):\r\n",
        "    def tambahan_proyek(self, nilai_proyek): \r\n",
        "        self.pendapatan_tambahan += 0.1 * nilai_proyek\r\n",
        "# Definisikan class PembersihData sebagai child class dari\r\n",
        "# class TenagaLepas\r\n",
        "class PembersihData(TenagaLepas): \r\n",
        "    pass\r\n",
        "# Definisikan class DokumenterTeknis sebagai child class dari\r\n",
        "# class TenagaLepas\r\n",
        "class DokumenterTeknis(TenagaLepas):\r\n",
        "    def tambahan_proyek(self, jumlah_tambahan): \r\n",
        "        return"
      ],
      "execution_count": 25,
      "outputs": []
    },
    {
      "cell_type": "markdown",
      "metadata": {
        "id": "9l-43eITj06y"
      },
      "source": [
        "Tugas Praktek\r\n",
        "\r\n",
        "Perusahaan ABC memiliki 3 orang karyawan baru seperti yang diberikan dalam tabel berikut:\r\n",
        "![image.png](data:image/png;base64,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)"
      ]
    },
    {
      "cell_type": "code",
      "metadata": {
        "colab": {
          "base_uri": "https://localhost:8080/"
        },
        "id": "ayognLekkAFm",
        "outputId": "9aa99d16-7b53-43f5-b2b6-16fe4cd447aa"
      },
      "source": [
        "class Karyawan: \r\n",
        "    nama_perusahaan = 'ABC' \r\n",
        "    insentif_lembur = 250000\r\n",
        "    # usia akan di-set nilainya menjadi 21 saat tidak\r\n",
        "    # dispesifikasikan dan pendapatan akan di-set nilainya\r\n",
        "    # menjadi 5000000 saat tidak dispesifikasikan\r\n",
        "    def __init__(self, nama, usia=21, pendapatan=5000000): \r\n",
        "        self.nama = nama\r\n",
        "        self.usia = usia \r\n",
        "        self.pendapatan = pendapatan \r\n",
        "        self.pendapatan_tambahan = 0\r\n",
        "    def lembur(self):\r\n",
        "        self.pendapatan_tambahan += self.insentif_lembur \r\n",
        "    def tambahan_proyek(self, insentif_proyek):\r\n",
        "        self.pendapatan_tambahan += insentif_proyek \r\n",
        "    def total_pendapatan(self):\r\n",
        "        return self.pendapatan + self.pendapatan_tambahan\r\n",
        "# Karyawan baru pertama yang bernama Budi\r\n",
        "karyawan_baru1 = Karyawan('Budi')\r\n",
        "print(karyawan_baru1.nama)\r\n",
        "print(karyawan_baru1.usia)\r\n",
        "print(karyawan_baru1.total_pendapatan())\r\n",
        "# Karyawan baru ke-2 yang bernama Didi, umur 25\r\n",
        "karyawan_baru2 = Karyawan('Didi', 25)\r\n",
        "print(karyawan_baru2.nama)\r\n",
        "print(karyawan_baru2.usia)\r\n",
        "print(karyawan_baru2.total_pendapatan())\r\n",
        "# Karyawan baru ke-3 yang bernama Hadi, pendapatan 8000000\r\n",
        "karyawan_baru3 = Karyawan('Hadi', pendapatan=8000000)\r\n",
        "print(karyawan_baru3.nama)\r\n",
        "print(karyawan_baru3.usia)\r\n",
        "print(karyawan_baru3.total_pendapatan())"
      ],
      "execution_count": 27,
      "outputs": [
        {
          "output_type": "stream",
          "text": [
            "Budi\n",
            "21\n",
            "5000000\n",
            "Didi\n",
            "25\n",
            "5000000\n",
            "Hadi\n",
            "21\n",
            "8000000\n"
          ],
          "name": "stdout"
        }
      ]
    },
    {
      "cell_type": "markdown",
      "metadata": {
        "id": "QXOEY4BskTqw"
      },
      "source": [
        "\r\n",
        "Studi Kasus dari Senja\r\n",
        "\r\n",
        "Di perusahaan ini, seorang analis data yang masuk umumnya berusia 21, memiliki pendapatan senilai 6.500.000 dan insentif lembur senilai 100.000. Kemudian, untuk seorang ilmuwan data yang masuk umumnya berusia 25, memiliki pendapatan senilai 12.000.000, dan insentif lembur senilai 150.000. Di sisi lain, untuk tenaga lepas, hanya terdapat pendapatan umum senilai 4000000 untuk pembersih data dan 2500000 untuk dokumenter teknis. \r\n",
        "\r\n",
        "Berikut adalah data perusahaan beserta detail karyawan yang bekerja.\r\n",
        "\r\n",
        "Nama Perusahaan: ABC\r\n",
        "\r\n",
        "Alamat                  : Jl. Jendral Sudirman, Blok 11\r\n",
        "\r\n",
        "Telepon                 : (021) 95812XX\r\n",
        "\r\n",
        "![image.png](data:image/png;base64,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)\r\n",
        "\r\n",
        "“Dengan kasus ini, berarti di akhir aku harus mencetak total pengeluaran perusahaan untuk menguji kelancaranku dalam menerapkan OOP dengan Python nih,” gumamku sambil berkutat pada baris-baris code di code editor.\r\n",
        "Tugas:\r\n",
        "\r\n",
        "    1. Simulasikan dengan program yang telah dibuat.\r\n",
        "    2. Cetak total pengeluaran yang dimiliki perusahaan untuk menguji fungsionalitas konsep dan teknik polymorphism yang diterapkan.\r\n"
      ]
    },
    {
      "cell_type": "code",
      "metadata": {
        "colab": {
          "base_uri": "https://localhost:8080/"
        },
        "id": "H6JOJRCxkkhv",
        "outputId": "57876e0e-3bd1-4027-e748-e51a0416ea98"
      },
      "source": [
        "# Definisikan class Karyawan sebagai parent class\r\n",
        "class Karyawan:\r\n",
        "    def __init__(self, nama, usia, pendapatan, insentif_lembur):\r\n",
        "        self.nama = nama\r\n",
        "        self.usia = usia \r\n",
        "        self.pendapatan = pendapatan \r\n",
        "        self.pendapatan_tambahan = 0\r\n",
        "        self.insentif_lembur = insentif_lembur \r\n",
        "    def lembur(self):\r\n",
        "        self.pendapatan_tambahan += self.insentif_lembur \r\n",
        "    def tambahan_proyek(self,jumlah_tambahan):\r\n",
        "        self.pendapatan_tambahan += jumlah_tambahan \r\n",
        "    def total_pendapatan(self):\r\n",
        "        return self.pendapatan + self.pendapatan_tambahan \r\n",
        "\r\n",
        "# Definisikan class TenagaLepas sebagai child class dari class Karyawan \r\n",
        "class TenagaLepas(Karyawan):\r\n",
        "    def __init__(self, nama, usia, pendapatan): \r\n",
        "        super().__init__(nama, usia, pendapatan, 0)\r\n",
        "    def tambahan_proyek(self, nilai_proyek): \r\n",
        "        self.pendapatan_tambahan += nilai_proyek * 0.01\r\n",
        "\r\n",
        "# Definisikan class AnalisData sebagai child class dari class Karyawan \r\n",
        "class AnalisData(Karyawan):\r\n",
        "    def __init__(self, nama, usia = 21, pendapatan = 6500000, \r\n",
        "                 insentif_lembur = 100000):\r\n",
        "        super().__init__(nama, usia, pendapatan, insentif_lembur) \r\n",
        "\r\n",
        "# Definisikan class IlmuwanData sebagai child class dari class Karyawan\r\n",
        "class IlmuwanData(Karyawan):\r\n",
        "    def __init__(self, nama, usia = 25, pendapatan = 12000000, \r\n",
        "                 insentif_lembur = 150000):\r\n",
        "        super().__init__(nama, usia, pendapatan,insentif_lembur) \r\n",
        "    def tambahan_proyek(self, nilai_proyek):\r\n",
        "        self.pendapatan_tambahan += 0.1 * nilai_proyek \r\n",
        "\r\n",
        "# Definisikan class PembersihData sebagai child class dari class TenagaLepas\r\n",
        "class PembersihData(TenagaLepas):\r\n",
        "    def __init__(self, nama, usia, pendapatan = 4000000): \r\n",
        "        super().__init__(nama, usia, pendapatan)\r\n",
        "\r\n",
        "# Definisikan class DokumenterTeknis sebagai child class dari class TenagaLepas\r\n",
        "class DokumenterTeknis(TenagaLepas):\r\n",
        "    def __init__(self, nama, usia, pendapatan = 2500000): \r\n",
        "        super().__init__(nama, usia, pendapatan)\r\n",
        "        def tambahan_proyek(self, jumlah_tambahan): \r\n",
        "            return\r\n",
        "\r\n",
        "# Definisikan class Perusahaan \r\n",
        "class Perusahaan:\r\n",
        "    def __init__(self, nama, alamat, nomor_telepon): \r\n",
        "        self.nama = nama\r\n",
        "        self.alamat = alamat \r\n",
        "        self.nomor_telepon = nomor_telepon \r\n",
        "        self.list_karyawan = []\r\n",
        "    def aktifkan_karyawan(self, karyawan): \r\n",
        "        self.list_karyawan.append(karyawan)\r\n",
        "    def nonaktifkan_karyawan(self, nama_karyawan): \r\n",
        "        karyawan_nonaktif = None\r\n",
        "        for karyawan in self.list_karyawan:\r\n",
        "            if karyawan.nama == nama_karyawan: \r\n",
        "                karyawan_nonaktif = karyawan \r\n",
        "                break\r\n",
        "        if karyawan_nonaktif is not None: \r\n",
        "            self.list_karyawan.remove(karyawan_nonaktif)\r\n",
        "    def total_pengeluaran(self): \r\n",
        "        pengeluaran = 0\r\n",
        "        for karyawan in self.list_karyawan:\r\n",
        "            pengeluaran += karyawan.total_pendapatan() \r\n",
        "        return pengeluaran\r\n",
        "    def cari_karyawan(self, nama_karyawan): \r\n",
        "        for karyawan in self.list_karyawan:\r\n",
        "            if karyawan.nama == nama_karyawan: \r\n",
        "                return karyawan\r\n",
        "        return None\r\n",
        "\r\n",
        "# Create object karyawan sesuai dengan tugasnya masing-masing\r\n",
        "# seperti yang dinyatakan dalam tabel.\r\n",
        "ani = PembersihData('Ani', 25)\r\n",
        "budi = DokumenterTeknis('Budi', 18)\r\n",
        "cici = IlmuwanData('Cici')\r\n",
        "didi = IlmuwanData('Didi', 32, 20000000)\r\n",
        "efi = AnalisData('Efi')\r\n",
        "febi = AnalisData('Febi', 28, 12000000)\r\n",
        "\r\n",
        "# Create object perusahaan\r\n",
        "perusahaan = Perusahaan('ABC','Jl. Jendral Sudirman, Blok 11', '(021) 95812XX')\r\n",
        "\r\n",
        "# Aktifkan setiap karyawan yang telah didefinisikan\r\n",
        "perusahaan.aktifkan_karyawan(ani)\r\n",
        "perusahaan.aktifkan_karyawan(budi)\r\n",
        "perusahaan.aktifkan_karyawan(cici)\r\n",
        "perusahaan.aktifkan_karyawan(didi)\r\n",
        "perusahaan.aktifkan_karyawan(efi)\r\n",
        "perusahaan.aktifkan_karyawan(febi)\r\n",
        "\r\n",
        "# Cetak keseluruhan total pengeluaran perusahaan\r\n",
        "print(perusahaan.total_pengeluaran())"
      ],
      "execution_count": 28,
      "outputs": [
        {
          "output_type": "stream",
          "text": [
            "57000000\n"
          ],
          "name": "stdout"
        }
      ]
    }
  ]
}