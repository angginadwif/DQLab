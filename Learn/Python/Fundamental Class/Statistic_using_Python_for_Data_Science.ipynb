{
  "nbformat": 4,
  "nbformat_minor": 0,
  "metadata": {
    "colab": {
      "name": "Statistic using Python for Data Science.ipynb",
      "provenance": [],
      "collapsed_sections": []
    },
    "kernelspec": {
      "name": "python3",
      "display_name": "Python 3"
    }
  },
  "cells": [
    {
      "cell_type": "markdown",
      "metadata": {
        "id": "4B2NsiZe68JL"
      },
      "source": [
        "Pengenalan Statistika\r\n",
        "\r\n",
        "Secara definisi, statistika adalah bidang studi yang mempelajari bagaimana mengumpulkan dan menganalisa data. Jika mengambil definisi yang lebih lengkap, maka statistika dapat didefinisikan sebagai ilmu yang mempelajari cara pengumpulan data, menganalisis data untuk mendapatkan kesimpulan informasi sampai dapat dijadikan dasar pembuatan keputusan atau kebijakan.\r\n",
        "\r\n",
        "Di dalam mempelajari statistika, akan mempelajari bagaimana caranya mengorganisir dan membuat kesimpulan dari data. Kegiatan mengorganisir dan membuay kesimpulan dari data disebut sebagai statistika deskriptif. Ada banyak cara bagaimana kita menyimpulkan suatu data, misalnya dengan membuat grafik atau dengan angka, misalnya mengambil suatu rata-rata dari data.\r\n",
        "\r\n",
        "Selanjutnya ketika harus mengambil keputusan dari data yang sudah diolah, kemudian akan menggunakan statistika inferensial sehingga dapat mengambil keputusan yang benar dari data yang juga sudah diolah dengan benar"
      ]
    },
    {
      "cell_type": "markdown",
      "metadata": {
        "id": "eU1krbjs7fmn"
      },
      "source": [
        "Parameter adalah penjelasan atas populasi sedangkan statistik hanya menjelaskan sampel dari populasi. Untuk kasus terkait segmentasi pasar, mengukur revenue dari setiap orang di dalam segmen adalah parameter sedangkan jika kita hanya mengambil 20% dari tiap segmen hal ini dikatakan sebagai statistik."
      ]
    },
    {
      "cell_type": "markdown",
      "metadata": {
        "id": "O6EJR5DO7x4A"
      },
      "source": [
        "Data Kualitatif dan Data Kuantitatif\r\n",
        "\r\n",
        "Terdapat dua kategori data yang terdapat pada populasi atau sampel, yaitu data kualitatif dan data kuantitatif.\r\n",
        "\r\n",
        "Data kualitatif adalah data yang diperoleh dari mengkategorikan atau menjelaskan suatu atribut dari populasi atau sampel. Biasanya disebut juga sebagai data kategorik. Beberapa contoh data kualitatif misalnya warna rambut, golongan darah, nama jalan, nama produk yang digunakan dan lain sebagainya.Biasanya data kualitatif selalu disebutkan dalam bentuk kata ataupun simbol.\r\n",
        "\r\n",
        "Data kuantitatif adalah data yang diperoleh dari ukuran atau hitungan di suatu populasi atau sampel. Data kuantitatif selalu berbentuk angka. Data seperti gaji, berat badan, populasi di suatu negara, dan jumlah pelanggan yang dimiliki suatu e-commerce termasuk data kuantitatif. Data kuantitatif sendiri dapat dibagi menjadi dua yaitu data diskrit dan data kontinu.\r\n",
        "\r\n",
        "Data yang diperoleh dari hasil perhitungan adalah data diskrit: jumlah pelanggan, jumlah produk, dan jumlah telefon yang diterima oleh customer service per harinya adalah beberapa contoh data diskrit.\r\n",
        "\r\n",
        "Data yang diperoleh dari hasil perhitungan namun dapat memuat rasio, desimal, atau bilangan irasional adalah data kontinu: berat badan, tinggi badan, waktu, dan gaji adalah beberapa contoh data kontinu."
      ]
    },
    {
      "cell_type": "markdown",
      "metadata": {
        "id": "AYeFTYRo8NJ0"
      },
      "source": [
        "\r\n",
        "    Skala Nominal\r\n",
        "\r\n",
        "Skala nominal adalah skala yang digunakan untuk mengkategorikan suatu objek pengamatan dengan objek pengamatan lainnya. Sebagai contoh yang termasuk skala nominal seperti gender, kategori barang, ras, status pernikahan dan lain sebagainya\r\n",
        "\r\n",
        "    Skala Ordinal\r\n",
        "\r\n",
        "Skala ordinal adalah skala yang digunakan untuk mengurutkan suatu objek pengamatan dimana suatu titik pengamatan memiliki nilai yang lebih rendah atau tinggi dibanding nilai lainnya. Sebagai contoh yang termasuk skala nominal adalah kelas, jabatan, tingkat pendidikan, dan sebagainya"
      ]
    },
    {
      "cell_type": "markdown",
      "metadata": {
        "id": "HISppbkM8PBQ"
      },
      "source": [
        "\r\n",
        "    Skala Interval\r\n",
        "\r\n",
        "Skala interval adalah skala yang digunakan untuk tidak hanya untuk mengklasifikasikan maupun memberikan tingkatan pada suatu titik pengamatan, namun kita dapat mengukur seberapa besar nilai antara suatu titik pengamatan dengan titik pengamatan lainnya. Beberapa contoh yang termasuk skala interval diantaranya adalah suhu tubuh dan jarak\r\n",
        "\r\n",
        "    Skala Rasio\r\n",
        "\r\n",
        "Skala rasio memiliki kemiripan dengan skala interval, perbedaannya terletak pada nilai 0 pada skala rasio. Berbeda dengan skala interval yang tidak memiliki nilai 0 yang tidak pasti.\r\n"
      ]
    },
    {
      "cell_type": "markdown",
      "metadata": {
        "id": "TAk5JkBs9GYS"
      },
      "source": [
        "Load Library\r\n",
        "\r\n",
        "Biasanya pada awal mula sebelum melakukan pengolahan data kita memanggil library yang diinginkan untuk digunakan dalam analisa data, dalam hal ini kita akan memuat numpy dan pandas.\r\n"
      ]
    },
    {
      "cell_type": "code",
      "metadata": {
        "id": "eDn9fMdF9KMm"
      },
      "source": [
        "# memuat numpy sebagai np\r\n",
        "import numpy as np\r\n",
        " \r\n",
        "# memuat pandas sebagai pd\r\n",
        "import pandas as pd"
      ],
      "execution_count": 1,
      "outputs": []
    },
    {
      "cell_type": "markdown",
      "metadata": {
        "id": "Qjecv4Tn9buP"
      },
      "source": [
        "\r\n",
        "Load Dataset\r\n",
        "\r\n",
        "Pada tahap pertama ketika ingin menganalisa data kita biasanya memuat data yang disimpan di salah satu folder untuk dimuat ke IDE atau interactive notebook seperti Jupyter. Untuk memuat data dalam format csv kita dapat menggunakan method .read_csv() dari pandas"
      ]
    },
    {
      "cell_type": "code",
      "metadata": {
        "id": "i6AVcNCF9dC3"
      },
      "source": [
        "# memuat data bernama 'dataset_statistics.csv' dan memasukkan hasilnya ke dalam 'raw_data'\r\n",
        "raw_data = pd.read_csv(\"https://dqlab-dataset.s3-ap-southeast-1.amazonaws.com/dataset_statistic.csv\", sep=';')"
      ],
      "execution_count": 3,
      "outputs": []
    },
    {
      "cell_type": "markdown",
      "metadata": {
        "id": "VhTFC0ID-j9E"
      },
      "source": [
        "\r\n",
        "Inspeksi Data"
      ]
    },
    {
      "cell_type": "code",
      "metadata": {
        "colab": {
          "base_uri": "https://localhost:8080/"
        },
        "id": "Y1oS3Fl9-lK0",
        "outputId": "05e73a7f-20bd-44e7-f16c-4bdb87fe5e73"
      },
      "source": [
        "print (raw_data)\r\n",
        "# melihat 10 data pada baris pertama\r\n",
        "print (raw_data.head(10))\r\n",
        "\r\n",
        "# melihat 5 data pada baris terakhir\r\n",
        "print (raw_data.tail())\r\n",
        "\r\n"
      ],
      "execution_count": 4,
      "outputs": [
        {
          "output_type": "stream",
          "text": [
            "    ID Pelanggan     Nama  Jenis Kelamin  ...  Jumlah     Total  Tingkat Kepuasan\n",
            "0              1     Arif              1  ...        4   400000                 2\n",
            "1              2     Dian              2  ...        4  1000000                 2\n",
            "2              3    Dinda              2  ...        3   750000                 3\n",
            "3              4    Fajar              1  ...        2   200000                 3\n",
            "4              5      Ika              2  ...        4  1000000                 2\n",
            "5              6    Ilham              1  ...        4   600000                 3\n",
            "6              7    Indra              1  ...        5   750000                 1\n",
            "7              8  Kartika              2  ...        3   900000                 3\n",
            "8              9  Lestari              2  ...        2   600000                 1\n",
            "9             10      Lia              2  ...        5  1500000                 1\n",
            "10            11    Maria              2  ...        4   400000                 3\n",
            "11            12     Maya              2  ...        5   750000                 3\n",
            "12            13     Mila              2  ...        1   200000                 2\n",
            "13            14    Nurul              2  ...        5  1250000                 1\n",
            "14            15    Retno              2  ...        4   800000                 2\n",
            "15            16     Rini              2  ...        4   600000                 1\n",
            "16            17    Rizki              1  ...        5  1000000                 3\n",
            "17            18     Sari              2  ...        2   500000                 1\n",
            "18            19     Tyas              2  ...        4   400000                 3\n",
            "19            20    Wahyu              1  ...        3   600000                 1\n",
            "\n",
            "[20 rows x 9 columns]\n",
            "   ID Pelanggan     Nama  Jenis Kelamin  ...  Jumlah     Total  Tingkat Kepuasan\n",
            "0             1     Arif              1  ...        4   400000                 2\n",
            "1             2     Dian              2  ...        4  1000000                 2\n",
            "2             3    Dinda              2  ...        3   750000                 3\n",
            "3             4    Fajar              1  ...        2   200000                 3\n",
            "4             5      Ika              2  ...        4  1000000                 2\n",
            "5             6    Ilham              1  ...        4   600000                 3\n",
            "6             7    Indra              1  ...        5   750000                 1\n",
            "7             8  Kartika              2  ...        3   900000                 3\n",
            "8             9  Lestari              2  ...        2   600000                 1\n",
            "9            10      Lia              2  ...        5  1500000                 1\n",
            "\n",
            "[10 rows x 9 columns]\n",
            "    ID Pelanggan   Nama  Jenis Kelamin  ...  Jumlah     Total  Tingkat Kepuasan\n",
            "15            16   Rini              2  ...        4   600000                 1\n",
            "16            17  Rizki              1  ...        5  1000000                 3\n",
            "17            18   Sari              2  ...        2   500000                 1\n",
            "18            19   Tyas              2  ...        4   400000                 3\n",
            "19            20  Wahyu              1  ...        3   600000                 1\n",
            "\n",
            "[5 rows x 9 columns]\n"
          ],
          "name": "stdout"
        }
      ]
    },
    {
      "cell_type": "markdown",
      "metadata": {
        "id": "bCl8APlb-zGR"
      },
      "source": [
        "Metode Shape\r\n",
        "\r\n",
        "Berapa banyak baris data dan fitur yang dataset punya?"
      ]
    },
    {
      "cell_type": "code",
      "metadata": {
        "colab": {
          "base_uri": "https://localhost:8080/"
        },
        "id": "QP_jcOB0-0qV",
        "outputId": "21ceac37-d6ca-4bf0-e698-2283ab1089b0"
      },
      "source": [
        "# melihat dimensi dari raw_data\r\n",
        "print (raw_data.shape)\r\n",
        "\r\n",
        "# mengambil jumlah data\r\n",
        "print (raw_data.shape[0])"
      ],
      "execution_count": 5,
      "outputs": [
        {
          "output_type": "stream",
          "text": [
            "(20, 9)\n",
            "20\n"
          ],
          "name": "stdout"
        }
      ]
    },
    {
      "cell_type": "markdown",
      "metadata": {
        "id": "f2Qa2-Ha_UO5"
      },
      "source": [
        "\r\n",
        "Melihat Kolom Dalam Dataset\r\n",
        "\r\n",
        "Kolom apa saja yang terdapat dalam dataset?"
      ]
    },
    {
      "cell_type": "code",
      "metadata": {
        "colab": {
          "base_uri": "https://localhost:8080/"
        },
        "id": "zb9y9uwA_VVD",
        "outputId": "1501d3f1-342c-4a77-fdae-c9ea3dd52ca1"
      },
      "source": [
        "print(raw_data)\r\n",
        "print(raw_data.columns)"
      ],
      "execution_count": 6,
      "outputs": [
        {
          "output_type": "stream",
          "text": [
            "    ID Pelanggan     Nama  Jenis Kelamin  ...  Jumlah     Total  Tingkat Kepuasan\n",
            "0              1     Arif              1  ...        4   400000                 2\n",
            "1              2     Dian              2  ...        4  1000000                 2\n",
            "2              3    Dinda              2  ...        3   750000                 3\n",
            "3              4    Fajar              1  ...        2   200000                 3\n",
            "4              5      Ika              2  ...        4  1000000                 2\n",
            "5              6    Ilham              1  ...        4   600000                 3\n",
            "6              7    Indra              1  ...        5   750000                 1\n",
            "7              8  Kartika              2  ...        3   900000                 3\n",
            "8              9  Lestari              2  ...        2   600000                 1\n",
            "9             10      Lia              2  ...        5  1500000                 1\n",
            "10            11    Maria              2  ...        4   400000                 3\n",
            "11            12     Maya              2  ...        5   750000                 3\n",
            "12            13     Mila              2  ...        1   200000                 2\n",
            "13            14    Nurul              2  ...        5  1250000                 1\n",
            "14            15    Retno              2  ...        4   800000                 2\n",
            "15            16     Rini              2  ...        4   600000                 1\n",
            "16            17    Rizki              1  ...        5  1000000                 3\n",
            "17            18     Sari              2  ...        2   500000                 1\n",
            "18            19     Tyas              2  ...        4   400000                 3\n",
            "19            20    Wahyu              1  ...        3   600000                 1\n",
            "\n",
            "[20 rows x 9 columns]\n",
            "Index(['ID Pelanggan', 'Nama', 'Jenis Kelamin', 'Pendapatan', 'Produk',\n",
            "       'Harga', 'Jumlah ', 'Total', 'Tingkat Kepuasan'],\n",
            "      dtype='object')\n"
          ],
          "name": "stdout"
        }
      ]
    },
    {
      "cell_type": "markdown",
      "metadata": {
        "id": "vKVZX4g4ALcp"
      },
      "source": [
        "Melihat Kolom Dalam Dataset\r\n",
        "\r\n",
        "Kolom apa saja yang terdapat dalam dataset?"
      ]
    },
    {
      "cell_type": "code",
      "metadata": {
        "colab": {
          "base_uri": "https://localhost:8080/"
        },
        "id": "b9Y3gfkkBECG",
        "outputId": "dda648d2-46f6-492b-d0c6-c9168744ea7e"
      },
      "source": [
        "print(raw_data)\r\n",
        "print(raw_data.columns)"
      ],
      "execution_count": 7,
      "outputs": [
        {
          "output_type": "stream",
          "text": [
            "    ID Pelanggan     Nama  Jenis Kelamin  ...  Jumlah     Total  Tingkat Kepuasan\n",
            "0              1     Arif              1  ...        4   400000                 2\n",
            "1              2     Dian              2  ...        4  1000000                 2\n",
            "2              3    Dinda              2  ...        3   750000                 3\n",
            "3              4    Fajar              1  ...        2   200000                 3\n",
            "4              5      Ika              2  ...        4  1000000                 2\n",
            "5              6    Ilham              1  ...        4   600000                 3\n",
            "6              7    Indra              1  ...        5   750000                 1\n",
            "7              8  Kartika              2  ...        3   900000                 3\n",
            "8              9  Lestari              2  ...        2   600000                 1\n",
            "9             10      Lia              2  ...        5  1500000                 1\n",
            "10            11    Maria              2  ...        4   400000                 3\n",
            "11            12     Maya              2  ...        5   750000                 3\n",
            "12            13     Mila              2  ...        1   200000                 2\n",
            "13            14    Nurul              2  ...        5  1250000                 1\n",
            "14            15    Retno              2  ...        4   800000                 2\n",
            "15            16     Rini              2  ...        4   600000                 1\n",
            "16            17    Rizki              1  ...        5  1000000                 3\n",
            "17            18     Sari              2  ...        2   500000                 1\n",
            "18            19     Tyas              2  ...        4   400000                 3\n",
            "19            20    Wahyu              1  ...        3   600000                 1\n",
            "\n",
            "[20 rows x 9 columns]\n",
            "Index(['ID Pelanggan', 'Nama', 'Jenis Kelamin', 'Pendapatan', 'Produk',\n",
            "       'Harga', 'Jumlah ', 'Total', 'Tingkat Kepuasan'],\n",
            "      dtype='object')\n"
          ],
          "name": "stdout"
        }
      ]
    },
    {
      "cell_type": "markdown",
      "metadata": {
        "id": "Hous0jMGBP8U"
      },
      "source": [
        "Metode Isna\r\n",
        "\r\n",
        "Ada berapa banyak data yang hilang dari dataset?"
      ]
    },
    {
      "cell_type": "code",
      "metadata": {
        "colab": {
          "base_uri": "https://localhost:8080/"
        },
        "id": "hMBWuzUQBRqG",
        "outputId": "bf47f284-cbc4-4406-9055-0473068206f2"
      },
      "source": [
        "print (raw_data.isna())\r\n",
        "print (raw_data.isna().sum())"
      ],
      "execution_count": 8,
      "outputs": [
        {
          "output_type": "stream",
          "text": [
            "    ID Pelanggan   Nama  Jenis Kelamin  ...  Jumlah   Total  Tingkat Kepuasan\n",
            "0          False  False          False  ...    False  False             False\n",
            "1          False  False          False  ...    False  False             False\n",
            "2          False  False          False  ...    False  False             False\n",
            "3          False  False          False  ...    False  False             False\n",
            "4          False  False          False  ...    False  False             False\n",
            "5          False  False          False  ...    False  False             False\n",
            "6          False  False          False  ...    False  False             False\n",
            "7          False  False          False  ...    False  False             False\n",
            "8          False  False          False  ...    False  False             False\n",
            "9          False  False          False  ...    False  False             False\n",
            "10         False  False          False  ...    False  False             False\n",
            "11         False  False          False  ...    False  False             False\n",
            "12         False  False          False  ...    False  False             False\n",
            "13         False  False          False  ...    False  False             False\n",
            "14         False  False          False  ...    False  False             False\n",
            "15         False  False          False  ...    False  False             False\n",
            "16         False  False          False  ...    False  False             False\n",
            "17         False  False          False  ...    False  False             False\n",
            "18         False  False          False  ...    False  False             False\n",
            "19         False  False          False  ...    False  False             False\n",
            "\n",
            "[20 rows x 9 columns]\n",
            "ID Pelanggan        0\n",
            "Nama                0\n",
            "Jenis Kelamin       0\n",
            "Pendapatan          0\n",
            "Produk              0\n",
            "Harga               0\n",
            "Jumlah              0\n",
            "Total               0\n",
            "Tingkat Kepuasan    0\n",
            "dtype: int64\n"
          ],
          "name": "stdout"
        }
      ]
    },
    {
      "cell_type": "markdown",
      "metadata": {
        "id": "bnXk89g5Bken"
      },
      "source": [
        "Metode Describe"
      ]
    },
    {
      "cell_type": "code",
      "metadata": {
        "colab": {
          "base_uri": "https://localhost:8080/"
        },
        "id": "aJw-HqfhBl1c",
        "outputId": "2d55a981-1fc2-47c0-ddf2-8c635aa8e73a"
      },
      "source": [
        "print (raw_data.describe())\r\n",
        "\r\n",
        "# Mencari nilai maksimum dari tiap kolom\r\n",
        "raw_data.max()\r\n",
        " \r\n",
        "# Mencari nilai maksimum dari kolom 'Harga'\r\n",
        "raw_data['Harga'].max()\r\n",
        " \r\n",
        "# Mencari nilai minimum dari kolom 'Harga'\r\n",
        "raw_data['Harga'].min()"
      ],
      "execution_count": 9,
      "outputs": [
        {
          "output_type": "stream",
          "text": [
            "       ID Pelanggan  Jenis Kelamin  ...         Total  Tingkat Kepuasan\n",
            "count      20.00000      20.000000  ...  2.000000e+01         20.000000\n",
            "mean       10.50000       1.700000  ...  7.100000e+05          2.050000\n",
            "std         5.91608       0.470162  ...  3.338768e+05          0.887041\n",
            "min         1.00000       1.000000  ...  2.000000e+05          1.000000\n",
            "25%         5.75000       1.000000  ...  4.750000e+05          1.000000\n",
            "50%        10.50000       2.000000  ...  6.750000e+05          2.000000\n",
            "75%        15.25000       2.000000  ...  9.250000e+05          3.000000\n",
            "max        20.00000       2.000000  ...  1.500000e+06          3.000000\n",
            "\n",
            "[8 rows x 7 columns]\n"
          ],
          "name": "stdout"
        },
        {
          "output_type": "execute_result",
          "data": {
            "text/plain": [
              "100000"
            ]
          },
          "metadata": {
            "tags": []
          },
          "execution_count": 9
        }
      ]
    },
    {
      "cell_type": "markdown",
      "metadata": {
        "id": "v6sM6h1VCLql"
      },
      "source": [
        "Metode Sum "
      ]
    },
    {
      "cell_type": "code",
      "metadata": {
        "colab": {
          "base_uri": "https://localhost:8080/"
        },
        "id": "0mhaGD5GCM1-",
        "outputId": "fe167945-42ac-41ff-9eae-964429c2ceb3"
      },
      "source": [
        "# menghitung jumlah dari semua kolom\r\n",
        "print (raw_data.sum())\r\n",
        " \r\n",
        "# menghitung jumlah dari semua kolom bertipe data numerik saja\r\n",
        "raw_data.sum(numeric_only=True)\r\n",
        " \r\n",
        "# menghitung jumlah dari kolom 'Harga' dan 'Pendapatan'\r\n",
        "raw_data[['Harga', 'Pendapatan']].sum()"
      ],
      "execution_count": 10,
      "outputs": [
        {
          "output_type": "stream",
          "text": [
            "ID Pelanggan                                                      210\n",
            "Nama                ArifDianDindaFajarIkaIlhamIndraKartikaLestariL...\n",
            "Jenis Kelamin                                                      34\n",
            "Pendapatan                                                   23200000\n",
            "Produk                                           ADDADBBEEEABCDCBCDAC\n",
            "Harga                                                         3950000\n",
            "Jumlah                                                             73\n",
            "Total                                                        14200000\n",
            "Tingkat Kepuasan                                                   41\n",
            "dtype: object\n"
          ],
          "name": "stdout"
        },
        {
          "output_type": "execute_result",
          "data": {
            "text/plain": [
              "Harga          3950000\n",
              "Pendapatan    23200000\n",
              "dtype: int64"
            ]
          },
          "metadata": {
            "tags": []
          },
          "execution_count": 10
        }
      ]
    },
    {
      "cell_type": "markdown",
      "metadata": {
        "id": "QsvSplPzDWRw"
      },
      "source": [
        "Manipulasi Dataframe - Memilih Kolom dan Baris\r\n",
        "\r\n",
        "Terkadang kita hanya ingin melakukan analisa sebagian kecil dari data atau hanya beberapa kolom saja, untuk itu kita dapat melakukan slice-and-dice pada data yang kita punya."
      ]
    },
    {
      "cell_type": "code",
      "metadata": {
        "colab": {
          "base_uri": "https://localhost:8080/"
        },
        "id": "kA02LSKkDZVR",
        "outputId": "abc39dac-d400-4c5d-a93c-f7584d04eced"
      },
      "source": [
        "# Memilih kolom 'Pendapatan' saja\r\n",
        "print (raw_data['Pendapatan'])\r\n",
        " \r\n",
        "# Memilih kolom 'Jenis Kelamin' dan 'Pendapatan'\r\n",
        "print (raw_data[['Jenis Kelamin', 'Pendapatan']])"
      ],
      "execution_count": 11,
      "outputs": [
        {
          "output_type": "stream",
          "text": [
            "0      600000\n",
            "1     1200000\n",
            "2      950000\n",
            "3      400000\n",
            "4     1200000\n",
            "5      800000\n",
            "6      950000\n",
            "7     1100000\n",
            "8      800000\n",
            "9     1700000\n",
            "10     600000\n",
            "11     950000\n",
            "12     400000\n",
            "13    6450000\n",
            "14    1000000\n",
            "15     800000\n",
            "16    1200000\n",
            "17     700000\n",
            "18     600000\n",
            "19     800000\n",
            "Name: Pendapatan, dtype: int64\n",
            "    Jenis Kelamin  Pendapatan\n",
            "0               1      600000\n",
            "1               2     1200000\n",
            "2               2      950000\n",
            "3               1      400000\n",
            "4               2     1200000\n",
            "5               1      800000\n",
            "6               1      950000\n",
            "7               2     1100000\n",
            "8               2      800000\n",
            "9               2     1700000\n",
            "10              2      600000\n",
            "11              2      950000\n",
            "12              2      400000\n",
            "13              2     6450000\n",
            "14              2     1000000\n",
            "15              2      800000\n",
            "16              1     1200000\n",
            "17              2      700000\n",
            "18              2      600000\n",
            "19              1      800000\n"
          ],
          "name": "stdout"
        }
      ]
    },
    {
      "cell_type": "markdown",
      "metadata": {
        "id": "6ZBNX5KcDkXM"
      },
      "source": [
        "Metode Loc\r\n",
        "Untuk memilih baris, kita dapat menggunakan [m:n] untuk mengambil baris data ke-m sampai ke-(n-1) atau bisa juga menggunakan method loc untuk pemilihan baris yang lebih spesifik."
      ]
    },
    {
      "cell_type": "code",
      "metadata": {
        "colab": {
          "base_uri": "https://localhost:8080/"
        },
        "id": "v0W4aGx7DmDc",
        "outputId": "e0d63377-9d4e-491b-d8eb-0119a6241aa8"
      },
      "source": [
        "# mengambil data dari baris ke-0 sampai baris ke-(10-1) atau baris ke-9\r\n",
        "print(raw_data[:10])\r\n",
        " \r\n",
        "# mengambil data dari baris ke-3 sampai baris ke-(5-1) atau baris ke-4\r\n",
        "print(raw_data[3:5])\r\n",
        " \r\n",
        "# mengambil data pada baris ke-1, ke-3 dan ke-10\r\n",
        "print(raw_data.loc[[1,3,10]])\r\n",
        "\r\n",
        "# Mengambil kolom 'Jenis Kelamin' dan 'Pendapatan' dan ambil baris ke-1 sampai ke-9\r\n",
        "print(raw_data[['Jenis Kelamin', 'Pendapatan']][1:10])\r\n",
        " \r\n",
        "# Mengambil kolom 'Harga' dan 'Tingkat Kepuasan' dan ambil baris ke-1, ke-10 dan ke-15\r\n",
        "print(raw_data[['Harga', 'Tingkat Kepuasan']].loc[[1,10,15]])"
      ],
      "execution_count": 14,
      "outputs": [
        {
          "output_type": "stream",
          "text": [
            "   ID Pelanggan     Nama  Jenis Kelamin  ...  Jumlah     Total  Tingkat Kepuasan\n",
            "0             1     Arif              1  ...        4   400000                 2\n",
            "1             2     Dian              2  ...        4  1000000                 2\n",
            "2             3    Dinda              2  ...        3   750000                 3\n",
            "3             4    Fajar              1  ...        2   200000                 3\n",
            "4             5      Ika              2  ...        4  1000000                 2\n",
            "5             6    Ilham              1  ...        4   600000                 3\n",
            "6             7    Indra              1  ...        5   750000                 1\n",
            "7             8  Kartika              2  ...        3   900000                 3\n",
            "8             9  Lestari              2  ...        2   600000                 1\n",
            "9            10      Lia              2  ...        5  1500000                 1\n",
            "\n",
            "[10 rows x 9 columns]\n",
            "   ID Pelanggan   Nama  Jenis Kelamin  ...  Jumlah     Total  Tingkat Kepuasan\n",
            "3             4  Fajar              1  ...        2   200000                 3\n",
            "4             5    Ika              2  ...        4  1000000                 2\n",
            "\n",
            "[2 rows x 9 columns]\n",
            "    ID Pelanggan   Nama  Jenis Kelamin  ...  Jumlah     Total  Tingkat Kepuasan\n",
            "1              2   Dian              2  ...        4  1000000                 2\n",
            "3              4  Fajar              1  ...        2   200000                 3\n",
            "10            11  Maria              2  ...        4   400000                 3\n",
            "\n",
            "[3 rows x 9 columns]\n",
            "   Jenis Kelamin  Pendapatan\n",
            "1              2     1200000\n",
            "2              2      950000\n",
            "3              1      400000\n",
            "4              2     1200000\n",
            "5              1      800000\n",
            "6              1      950000\n",
            "7              2     1100000\n",
            "8              2      800000\n",
            "9              2     1700000\n",
            "     Harga  Tingkat Kepuasan\n",
            "1   250000                 2\n",
            "10  100000                 3\n",
            "15  150000                 1\n"
          ],
          "name": "stdout"
        }
      ]
    },
    {
      "cell_type": "markdown",
      "metadata": {
        "id": "HnGN7GkgFpL4"
      },
      "source": [
        "\r\n",
        "Rata-rata (Mean)"
      ]
    },
    {
      "cell_type": "code",
      "metadata": {
        "colab": {
          "base_uri": "https://localhost:8080/"
        },
        "id": "zjRDLzb-FrHW",
        "outputId": "54ac995a-0888-46fd-b78a-2e82c93efff7"
      },
      "source": [
        "# mengambil hanya data untuk produk 'A'\r\n",
        "produk_A = raw_data[raw_data['Produk'] == 'A']\r\n",
        " \r\n",
        "# menghitung rerata pendapatan menggunakan method .mean pada objek pandas DataFrame\r\n",
        "print (produk_A['Pendapatan'].mean())\r\n",
        " \r\n",
        "# menghitung rerata pendapatan menggunakan method .mean pada objek pandas DataFrame dengan numpy\r\n",
        "print (np.mean(produk_A['Pendapatan']))"
      ],
      "execution_count": 16,
      "outputs": [
        {
          "output_type": "stream",
          "text": [
            "550000.0\n",
            "550000.0\n"
          ],
          "name": "stdout"
        }
      ]
    },
    {
      "cell_type": "markdown",
      "metadata": {
        "id": "nd91MTDiGpvU"
      },
      "source": [
        "Median"
      ]
    },
    {
      "cell_type": "code",
      "metadata": {
        "colab": {
          "base_uri": "https://localhost:8080/"
        },
        "id": "zJDtaZfzGue_",
        "outputId": "0b067208-310c-4836-aa22-bea9f2c7228c"
      },
      "source": [
        "print (raw_data)\r\n",
        "# Hitung median dari pendapatan menggunakan pandas\r\n",
        "print (produk_A['Pendapatan'].median())\r\n",
        " \r\n",
        "# Hitung median dari pendapatan menggunakan numpy\r\n",
        "print (np.median(produk_A['Pendapatan']))\r\n",
        "\t   \r\n",
        "\r\n",
        "\t   "
      ],
      "execution_count": 17,
      "outputs": [
        {
          "output_type": "stream",
          "text": [
            "    ID Pelanggan     Nama  Jenis Kelamin  ...  Jumlah     Total  Tingkat Kepuasan\n",
            "0              1     Arif              1  ...        4   400000                 2\n",
            "1              2     Dian              2  ...        4  1000000                 2\n",
            "2              3    Dinda              2  ...        3   750000                 3\n",
            "3              4    Fajar              1  ...        2   200000                 3\n",
            "4              5      Ika              2  ...        4  1000000                 2\n",
            "5              6    Ilham              1  ...        4   600000                 3\n",
            "6              7    Indra              1  ...        5   750000                 1\n",
            "7              8  Kartika              2  ...        3   900000                 3\n",
            "8              9  Lestari              2  ...        2   600000                 1\n",
            "9             10      Lia              2  ...        5  1500000                 1\n",
            "10            11    Maria              2  ...        4   400000                 3\n",
            "11            12     Maya              2  ...        5   750000                 3\n",
            "12            13     Mila              2  ...        1   200000                 2\n",
            "13            14    Nurul              2  ...        5  1250000                 1\n",
            "14            15    Retno              2  ...        4   800000                 2\n",
            "15            16     Rini              2  ...        4   600000                 1\n",
            "16            17    Rizki              1  ...        5  1000000                 3\n",
            "17            18     Sari              2  ...        2   500000                 1\n",
            "18            19     Tyas              2  ...        4   400000                 3\n",
            "19            20    Wahyu              1  ...        3   600000                 1\n",
            "\n",
            "[20 rows x 9 columns]\n",
            "600000.0\n",
            "600000.0\n"
          ],
          "name": "stdout"
        }
      ]
    },
    {
      "cell_type": "markdown",
      "metadata": {
        "id": "uAS6qdIdHpfs"
      },
      "source": [
        "modus"
      ]
    },
    {
      "cell_type": "code",
      "metadata": {
        "colab": {
          "base_uri": "https://localhost:8080/"
        },
        "id": "RDxBkmS7HrAE",
        "outputId": "b7191d5f-bba4-45c9-87f0-f11d875d7769"
      },
      "source": [
        "# Melihat jumlah dari masing-masing produk\r\n",
        "print(raw_data['Produk'].value_counts())"
      ],
      "execution_count": 19,
      "outputs": [
        {
          "output_type": "stream",
          "text": [
            "D    5\n",
            "A    4\n",
            "B    4\n",
            "C    4\n",
            "E    3\n",
            "Name: Produk, dtype: int64\n"
          ],
          "name": "stdout"
        }
      ]
    },
    {
      "cell_type": "markdown",
      "metadata": {
        "id": "dkLQottfH6KC"
      },
      "source": [
        "Kuantil\r\n",
        "\r\n",
        "Kuantil adalah nilai-nilai data yang membagi data yang telah diurutkan sebelumnya menjadi beberapa bagian yang sama besar ukurannya. Beberapa ukuran fraktil ini diantaranya adalah:\r\n",
        "\r\n",
        "   1.  Kuartil: Adalah kuantil yang membagi data menjadi empat bagian sama besar. Kuartil ke-2 dari adalah median dari data tersebut.\r\n",
        "   2.  Desil: Adalah kuantil yang membagi data menjadi 10 bagian sama besar.\r\n",
        "    Persentil: Adalah kuantil yang membagi data menjadi 100 bagian sama besar.\r\n"
      ]
    },
    {
      "cell_type": "code",
      "metadata": {
        "colab": {
          "base_uri": "https://localhost:8080/"
        },
        "id": "X3KR8bJ0H9SN",
        "outputId": "4cafde65-03fd-42b3-c661-7abd1121a8a2"
      },
      "source": [
        "# mencari median atau 50% dari data menggunakan pandas\r\n",
        "print(raw_data['Pendapatan'].quantile(q = 0.5))\r\n",
        " \r\n",
        "# mencari median atau 50% dari data menggunakan pandas\r\n",
        "print(np.quantile(raw_data['Pendapatan'], q=0.5))"
      ],
      "execution_count": 20,
      "outputs": [
        {
          "output_type": "stream",
          "text": [
            "875000.0\n",
            "875000.0\n"
          ],
          "name": "stdout"
        }
      ]
    },
    {
      "cell_type": "markdown",
      "metadata": {
        "id": "oJVr32ZlJCZH"
      },
      "source": [
        "\r\n",
        "Agregasi Data dengan method .agg()\r\n",
        "\r\n",
        "Ada kalanya kita ingin menghitung sekaligus beberapa ukuran, misalnya menghitung nilai mean sekaligus menghitung nilai median. Kita dapat melakukan kedua hal tersebut dengan menggunakan method .agg() pada objek pandas DataFrame"
      ]
    },
    {
      "cell_type": "code",
      "metadata": {
        "colab": {
          "base_uri": "https://localhost:8080/"
        },
        "id": "2sd_lAoNJ0J1",
        "outputId": "0194f9c6-eee4-4673-8fef-fb5dc41029df"
      },
      "source": [
        "# menghitung rerata dan median 'Pendapatan' dan 'Harga'\r\n",
        "print(raw_data[['Pendapatan', 'Harga']].agg([np.mean, np.median]))\r\n",
        " \r\n",
        "# menghitung rerata dan median Pendapatan dan Harga dari tiap produk\r\n",
        "print(raw_data[['Pendapatan', 'Harga', 'Produk']].groupby('Produk').agg([np.mean, np.median]))"
      ],
      "execution_count": 23,
      "outputs": [
        {
          "output_type": "stream",
          "text": [
            "        Pendapatan     Harga\n",
            "mean     1160000.0  197500.0\n",
            "median    875000.0  200000.0\n",
            "       Pendapatan            Harga        \n",
            "             mean   median    mean  median\n",
            "Produk                                    \n",
            "A          550000   600000  100000  100000\n",
            "B          875000   875000  150000  150000\n",
            "C          850000   900000  200000  200000\n",
            "D         2100000  1200000  250000  250000\n",
            "E         1200000  1100000  300000  300000\n"
          ],
          "name": "stdout"
        }
      ]
    },
    {
      "cell_type": "markdown",
      "metadata": {
        "id": "f6q2zpryLMWD"
      },
      "source": [
        "Ukuran Sebaran (Measures of Dispersion)\r\n",
        "\r\n",
        "Ukuran sebaran (measure of dispersion) adalah statistika deskriptif yang digunakan untuk membantu kita memahami sebaran titik data di dalam sebuah sampel ataupun populasi.\r\n",
        "\r\n",
        "Terdapat beberapa ukuran sebaran yang biasanya digunakan tergantung pada jenis atau tipe datanya, yaitu:\r\n",
        "\r\n",
        "    Tipe Data Nominal dan Ordinal\r\n",
        "        Proporsi Kategori (Categorical Proportion)\r\n",
        "        Persen Proporsi (Percent Proportion)\r\n",
        "        Rasio Variasi (Variation Ratio)\r\n",
        "    Tipe Data Interval dan Rasio\r\n",
        "        Rentang (Range)\r\n",
        "        Variansi (Variance)\r\n",
        "        Deviasi Baku (Standard Deviation)\r\n"
      ]
    },
    {
      "cell_type": "markdown",
      "metadata": {
        "id": "L02rvYcmLTt4"
      },
      "source": [
        "Proporsi Kategori\r\n",
        "\r\n",
        "Proporsi kategori adalah ukuran sebaran yang paling sederhana dari ukuran sebaran pada data nomisal dan ordinal."
      ]
    },
    {
      "cell_type": "code",
      "metadata": {
        "colab": {
          "base_uri": "https://localhost:8080/"
        },
        "id": "MGJZVPacLVSd",
        "outputId": "f3f45c2d-bd2e-49fc-c930-4a14f11b4774"
      },
      "source": [
        "# cari proporsi tiap Produk\r\n",
        "print (raw_data['Produk'].value_counts()/raw_data.shape[0])"
      ],
      "execution_count": 24,
      "outputs": [
        {
          "output_type": "stream",
          "text": [
            "D    0.25\n",
            "A    0.20\n",
            "B    0.20\n",
            "C    0.20\n",
            "E    0.15\n",
            "Name: Produk, dtype: float64\n"
          ],
          "name": "stdout"
        }
      ]
    },
    {
      "cell_type": "markdown",
      "metadata": {
        "id": "2pe5czIhLr4Y"
      },
      "source": [
        "Ukuran Sebaran pada Data Interval dan Rasio\r\n",
        "Rentang (range)\r\n",
        "\r\n",
        "Rentang adalah jarak antara nilai maksimum dengan nilai minimum. Semakin besar jarang antara nilai maksimum dan minimum semakin besar pula sebaran datanya"
      ]
    },
    {
      "cell_type": "code",
      "metadata": {
        "colab": {
          "base_uri": "https://localhost:8080/"
        },
        "id": "BiQbV4gkLtEO",
        "outputId": "ef1609fc-4929-41a2-eca4-b47cca402adc"
      },
      "source": [
        "# Cari nilai rentang dari kolom 'Pendapatan'\r\n",
        "print (raw_data['Pendapatan'].max() - raw_data['Pendapatan'].min())"
      ],
      "execution_count": 26,
      "outputs": [
        {
          "output_type": "stream",
          "text": [
            "6050000\n"
          ],
          "name": "stdout"
        }
      ]
    },
    {
      "cell_type": "markdown",
      "metadata": {
        "id": "JsAA_y4DNuUM"
      },
      "source": [
        "Variansi\r\n",
        "\r\n",
        "Variansi adalah ukuran sebaran pusat yang diperoleh dengan cara menghitung jarak antara tiap titik data pada sampel atau populasi dengan nilai mean."
      ]
    },
    {
      "cell_type": "code",
      "metadata": {
        "colab": {
          "base_uri": "https://localhost:8080/"
        },
        "id": "trapNaXnNxYZ",
        "outputId": "6f21b5e8-51c9-43e1-89e5-8bdd9084854a"
      },
      "source": [
        "# menghitung variansi umur menggunakan method .var() dari pandas\r\n",
        "print (raw_data['Pendapatan'].var())\r\n",
        " \r\n",
        "# menghitung variansi umur menggunakan method .var() dari numpy\r\n",
        "print (np.var(raw_data['Pendapatan']))\r\n",
        "\r\n",
        "# mengatur variansi populasi dengan method `.var()` dari pandas\r\n",
        "print (raw_data['Pendapatan'].var(ddof=0))"
      ],
      "execution_count": 27,
      "outputs": [
        {
          "output_type": "stream",
          "text": [
            "1645684210526.3157\n",
            "1563400000000.0\n",
            "1563400000000.0\n"
          ],
          "name": "stdout"
        }
      ]
    },
    {
      "cell_type": "markdown",
      "metadata": {
        "id": "1sSg6958OJws"
      },
      "source": [
        "Deviasi Baku (Standard Deviation)\r\n",
        "\r\n",
        "Deviasi baku adalah ukuran sebaran pusat yang diperoleh dengan cara menarik akar kuadrat dari hasil perhitungan variansi. Hal ini dilakukan karena nilai variansi umumnya memiliki nilai yang lebih besar daripada nilai aslinya sebagai efek dari pengkuadratan dan ini menjadikan variansi sulit untuk diinterpretasikan. "
      ]
    },
    {
      "cell_type": "code",
      "metadata": {
        "colab": {
          "base_uri": "https://localhost:8080/"
        },
        "id": "OVa9EUdQONuP",
        "outputId": "aa5a8c48-a1cb-42d3-af44-47aca0aaecfb"
      },
      "source": [
        "# menghitung deviasi baku sampel pendapatan menggunakan method std() dari pandas\r\n",
        "print (raw_data['Pendapatan'].std())\r\n",
        " \r\n",
        "# menghitung deviasi baku sampel pendapatan menggunakan method std() dari numpy\r\n",
        "print (np.std(raw_data['Pendapatan'], ddof = 1))"
      ],
      "execution_count": 28,
      "outputs": [
        {
          "output_type": "stream",
          "text": [
            "1282842.2391417876\n",
            "1282842.2391417876\n"
          ],
          "name": "stdout"
        }
      ]
    },
    {
      "cell_type": "markdown",
      "metadata": {
        "id": "e2FuFFnrOjTT"
      },
      "source": [
        "Korelasi\r\n",
        "\r\n",
        "Korelasi adalah salah satu metode statistika yang dapat digunakan untuk mengukur seberapa besar hubungan antara satu variabel dengan variabel lainnya. Sebagai contoh, misalnya mencari hubungan antara tinggi badan dengan berat badan, mencari hubungan antara gender dengan penghasilan dan masih banyak aplikasi penggunaan korelasi.\r\n",
        "\r\n",
        "Terdapat beberapa metode yang dapat digunakan untuk menghitung korelasi antara sepasang variabel tergantung tipe dari sepasang variabel tersebut. Diantaranya adalah:\r\n",
        "\r\n",
        "    1. Korelasi Pearson\r\n",
        "    2. Korelasi Spearman\r\n",
        "    3. Korelasi Kendall\r\n"
      ]
    },
    {
      "cell_type": "markdown",
      "metadata": {
        "id": "nXyuiDA-PEWB"
      },
      "source": [
        "Menghitung Korelasi\r\n",
        "\r\n",
        "Untuk menghitung korelasi antara kedua variabel, kita dapat menggunakan method .corr() dari pandas \r\n"
      ]
    },
    {
      "cell_type": "code",
      "metadata": {
        "colab": {
          "base_uri": "https://localhost:8080/"
        },
        "id": "0YdDq2U2PKOm",
        "outputId": "a10ea0d5-89f1-4eab-b6b5-29fcb65cd328"
      },
      "source": [
        "# menghitung korelasi dari setiap pasang variabel pada raw_data\r\n",
        "print (raw_data.corr())\r\n",
        "\r\n",
        "# mencari korelasi 'kendall' untuk tiap pasang variabel\r\n",
        "print (raw_data.corr(method='kendall'))\r\n",
        " \r\n",
        "# mencari korelasi 'spearman' untuk tiap pasang variabel\r\n",
        "print (raw_data.corr(method='spearman'))"
      ],
      "execution_count": 29,
      "outputs": [
        {
          "output_type": "stream",
          "text": [
            "                  ID Pelanggan  Jenis Kelamin  ...     Total  Tingkat Kepuasan\n",
            "ID Pelanggan          1.000000       0.151375  ... -0.039968         -0.245717\n",
            "Jenis Kelamin         0.151375       1.000000  ...  0.238051         -0.088339\n",
            "Pendapatan            0.110958       0.192849  ...  0.592044         -0.312663\n",
            "Harga                -0.028707       0.457555  ...  0.645455         -0.380798\n",
            "Jumlah                0.011289      -0.104168  ...  0.636097          0.017568\n",
            "Total                -0.039968       0.238051  ...  1.000000         -0.268345\n",
            "Tingkat Kepuasan     -0.245717      -0.088339  ... -0.268345          1.000000\n",
            "\n",
            "[7 rows x 7 columns]\n",
            "                  ID Pelanggan  Jenis Kelamin  ...     Total  Tingkat Kepuasan\n",
            "ID Pelanggan          1.000000       0.126650  ... -0.065998         -0.183817\n",
            "Jenis Kelamin         0.126650       1.000000  ...  0.190245         -0.085796\n",
            "Pendapatan           -0.054998       0.190245  ...  0.988506         -0.165588\n",
            "Harga                -0.005753       0.415339  ...  0.535078         -0.325659\n",
            "Jumlah                0.024016      -0.090299  ...  0.501925         -0.028923\n",
            "Total                -0.065998       0.190245  ...  1.000000         -0.165588\n",
            "Tingkat Kepuasan     -0.183817      -0.085796  ... -0.165588          1.000000\n",
            "\n",
            "[7 rows x 7 columns]\n",
            "                  ID Pelanggan  Jenis Kelamin  ...     Total  Tingkat Kepuasan\n",
            "ID Pelanggan          1.000000       0.151375  ... -0.069779         -0.238890\n",
            "Jenis Kelamin         0.151375       1.000000  ...  0.219508         -0.090784\n",
            "Pendapatan           -0.063711       0.219508  ...  0.998470         -0.192463\n",
            "Harga                -0.039149       0.463635  ...  0.646194         -0.378933\n",
            "Jumlah                0.046356      -0.098864  ...  0.607110         -0.023874\n",
            "Total                -0.069779       0.219508  ...  1.000000         -0.192463\n",
            "Tingkat Kepuasan     -0.238890      -0.090784  ... -0.192463          1.000000\n",
            "\n",
            "[7 rows x 7 columns]\n"
          ],
          "name": "stdout"
        }
      ]
    }
  ]
}