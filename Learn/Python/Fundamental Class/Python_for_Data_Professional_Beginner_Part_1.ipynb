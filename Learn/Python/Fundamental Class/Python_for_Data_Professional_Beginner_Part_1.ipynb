{
  "nbformat": 4,
  "nbformat_minor": 0,
  "metadata": {
    "colab": {
      "name": " Python for Data Professional Beginner - Part 1.ipynb",
      "provenance": [],
      "collapsed_sections": []
    },
    "kernelspec": {
      "name": "python3",
      "display_name": "Python 3"
    }
  },
  "cells": [
    {
      "cell_type": "code",
      "metadata": {
        "id": "XOcak9_TYz4_"
      },
      "source": [
        "Program pertama: \"Hello World\"\r\n",
        "\r\n",
        "Setelah memahami teori-teori fundamental terkait dengan \"Apa dan Mengapa Python?\"\r\n",
        "aku diminta membuat sebuah program sederhana dengan Python.\r\n",
        "\r\n",
        "Fungsi Python yang akan pertama kali aku pelajari adalah fungsi print().\r\n",
        "Dengan fungsi print(), aku dapat menampilkan pesan ke layar pengguna."
      ],
      "execution_count": null,
      "outputs": []
    },
    {
      "cell_type": "code",
      "metadata": {
        "colab": {
          "base_uri": "https://localhost:8080/"
        },
        "id": "ZW5mBW9YZbYj",
        "outputId": "960101b3-105d-4570-b46f-2ec01ffcadfb"
      },
      "source": [
        "print(\"Hello World!\")\t\t"
      ],
      "execution_count": 1,
      "outputs": [
        {
          "output_type": "stream",
          "text": [
            "Hello World!\n"
          ],
          "name": "stdout"
        }
      ]
    },
    {
      "cell_type": "markdown",
      "metadata": {
        "id": "3wcYoM40Zk-s"
      },
      "source": [
        "\r\n",
        "Program Pertamaku\r\n",
        "\r\n",
        "Keren! Aku baru tahu kalau Python memiliki fungsi print() yang berguna untuk menampilkan pesan ke layar pengguna."
      ]
    },
    {
      "cell_type": "code",
      "metadata": {
        "colab": {
          "base_uri": "https://localhost:8080/"
        },
        "id": "6SLL93RzZs8n",
        "outputId": "f2d77087-cf7b-4769-d713-e24eb157dbce"
      },
      "source": [
        "print(\"Halo Dunia\")\r\n",
        "print(\"Riset Bahasa Python\")"
      ],
      "execution_count": 2,
      "outputs": [
        {
          "output_type": "stream",
          "text": [
            "Halo Dunia\n",
            "Riset Bahasa Python\n"
          ],
          "name": "stdout"
        }
      ]
    },
    {
      "cell_type": "markdown",
      "metadata": {
        "id": "VbmXos3aZ0OT"
      },
      "source": [
        "Struktur Program Python - Part 1\r\n",
        "\r\n",
        "Setelah berhasil membuat program sederhana menggunakan Python, aku diminta Senja untuk belajar struktur dari sebuah program Python. "
      ]
    },
    {
      "cell_type": "code",
      "metadata": {
        "colab": {
          "base_uri": "https://localhost:8080/"
        },
        "id": "_eGKrqsxZ1eQ",
        "outputId": "db919f6c-1ad5-4647-ba9d-80ba46de69d3"
      },
      "source": [
        "# Statement\r\n",
        "print(\"Belajar Python Menyenangkan\") \r\n",
        "print(\"Halo Dunia\")\r\n",
        "print(\"Hello World!\")\r\n",
        "# Variables & Literals\r\n",
        "bilangan1 = 5\r\n",
        "bilangan2 = 10\r\n",
        "kalimat1 = \"Belajar Bahasa Python\"\r\n",
        "# Operators\r\n",
        "print(bilangan1 + bilangan2)"
      ],
      "execution_count": 3,
      "outputs": [
        {
          "output_type": "stream",
          "text": [
            "Belajar Python Menyenangkan\n",
            "Halo Dunia\n",
            "Hello World!\n",
            "15\n"
          ],
          "name": "stdout"
        }
      ]
    },
    {
      "cell_type": "markdown",
      "metadata": {
        "id": "gI82lFbhcPOi"
      },
      "source": [
        "Tugas Praktek\r\n",
        " \r\n",
        "\r\n",
        "Deklarasi variable bilangan1 dengan 20, dan bilangan2 dengan 10 dan tampilkan hasil pengurangan bilangan1 & bilangan 2.\r\n"
      ]
    },
    {
      "cell_type": "code",
      "metadata": {
        "colab": {
          "base_uri": "https://localhost:8080/"
        },
        "id": "a3BFh8xmcqML",
        "outputId": "a6846ed1-2abc-4aa1-9123-a593444f4a3e"
      },
      "source": [
        "bilangan1  = 20\r\n",
        "bilangan2\t= 10\r\n",
        "print(bilangan1 - bilangan2)"
      ],
      "execution_count": 4,
      "outputs": [
        {
          "output_type": "stream",
          "text": [
            "10\n"
          ],
          "name": "stdout"
        }
      ]
    },
    {
      "cell_type": "markdown",
      "metadata": {
        "id": "dPPt89UxcvDx"
      },
      "source": [
        "\r\n",
        "Tugas:\r\n",
        "\r\n",
        "   1. Aku diminta menghitung harga_setelah_potongan dan harga_final dengan mengalikan harga_setelah_potongan dengan angka 1.1 karena jumlah PPN sebesar 10% (100% + 10% = 110% atau 1.1)\r\n",
        "   2. Aku menggunakan variabel harga_asli dengan nilai 20000 dan variabel potongan dengan nilai 2000.\r\n",
        "\r\n"
      ]
    },
    {
      "cell_type": "code",
      "metadata": {
        "colab": {
          "base_uri": "https://localhost:8080/"
        },
        "id": "PxJ4Hufuc9MY",
        "outputId": "b4885e3f-58df-4063-b525-6eaec51c51e3"
      },
      "source": [
        "harga_asli = 20000\r\n",
        "potongan = 2000\r\n",
        "harga_setelah_potongan = harga_asli - potongan\r\n",
        "harga_final = harga_setelah_potongan * 1.1\r\n",
        "print(harga_final)"
      ],
      "execution_count": 5,
      "outputs": [
        {
          "output_type": "stream",
          "text": [
            "19800.0\n"
          ],
          "name": "stdout"
        }
      ]
    },
    {
      "cell_type": "markdown",
      "metadata": {
        "id": "zszZ8jmUdXiA"
      },
      "source": [
        "Python Variables\r\n",
        "\r\n",
        "Setelah mengetahui konsep sederhana dari sebuah variabel. Aku diminta mencoba mendeklarasikan beberapa variabel dalam bentuk teks ataupun bilangan, dan melakukan operasi melibatkan sekumpulan variabel. \r\n",
        "\r\n",
        "Pada bagian ini, aku akan mengkaji variabel dan tipe data secara lebih detil. Pada pertemuan sebelumnya aku berhasil mendeklarasikan variabel dengan menggunakan ekspresi seperti:\r\n",
        "\r\n",
        " ![image.png](data:image/png;base64,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)\r\n",
        "\r\n",
        "Tips:\r\n",
        "\r\n",
        "Dalam mendeklarasikan sebuah variabel, berilah nama yang mewakili isi dari variabel tersebut. Sebagai contoh :\r\n",
        "![image.png](data:image/png;base64,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)\r\n",
        "\r\n",
        " "
      ]
    },
    {
      "cell_type": "markdown",
      "metadata": {
        "id": "P6uhO8eUdpBG"
      },
      "source": [
        "Aturan Penamaan Python Variables\r\n",
        "\r\n",
        "Penamaan suatu variabel pada python dapat dikatakan valid selama memenuhi aturan-aturan berikut:\r\n",
        "\r\n",
        "  1. Nama dari sebuah variabel harus dimulai dengan huruf (a-z, A-Z) atau karakter garis bawah underscore (_) dan tidak dapat dimulai dengan angka (0-9).\r\n",
        "  2. Variabel hanya boleh mengandung karakter alfabet dan bilangan dan underscore (a-z, A-Z, 0-9, _)\r\n",
        "  3. Variabel bersifat case-sensitive yang mengartikan bahwa variabel TINGGI, tinggi, dan Tinggi merujuk pada tiga variabel berbeda.\r\n",
        "\r\n",
        "Kemudian, selain dapat mendeklarasikan nilai dari suatu variabel secara baris per baris, aku juga dapat mendeklarasikan beberapa variabel dalam satu baris dengan menggunakan ekspresi seperti:\r\n",
        "\r\n",
        "![image.png](data:image/png;base64,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)"
      ]
    },
    {
      "cell_type": "markdown",
      "metadata": {
        "id": "u1J-Xl2Xd9Hu"
      },
      "source": [
        "Tipe Data Dasar: Null, Boolean, Numeric dan Text\r\n",
        "\r\n",
        "1. Null Type: Tipe data null dalam Python digunakan untuk menyimpan nilai kosong atau tidak ada yang dinyatakan dengan None.\r\n",
        "\r\n",
        "2. Boolean Type: Tipe data boolean atau bool digunakan untuk menyimpan nilai kebenaran (True, False) dari suatu ekspresi logika.\r\n",
        "\r\n",
        "3. Numeric Type: Tipe data yang digunakan untuk menyimpan data berupa angka. Terdapat dua macam tipe data numeric, yaitu int untuk menyimpan bilangan bulat (e.g.: 0, 1, 2, 404, -500, -1000) dan float untuk menyimpan bilangan riil (e.g.: 0.5, 1.01, 2.05, 4.04)\r\n",
        "\r\n",
        "4. Text Type: Pada Python, tipe data string (str) digunakan untuk menyimpan data teks. Tipe data string dimulai dengan tanda kutip (baik kutip satu/ dua) dan diakhir dengan tanda kutip. Contoh: \"Teks\", \"Contoh teks menggunakan Python\", dan 'Teks pada Python'."
      ]
    },
    {
      "cell_type": "markdown",
      "metadata": {
        "id": "iJua9Xq4eJ46"
      },
      "source": [
        "Sequence Type – Part 1\r\n",
        "\r\n",
        "Tipe data ini digunakan untuk menampung sekumpulan data secara terorganisir.\r\n",
        "List dan tuple merupakan bentuk dari tipe data sequence.\r\n",
        "Pada part 1 ini, aku akan mempelajari tipe data list terlebih dahulu.\r\n",
        "\r\n",
        "Tipe data list diawali dengan tanda kurung siku buka ( [ ), memisahkan setiap elemen di dalamnya dengan tanda koma ( , ) dan ditutup dengan kurung siku tutup ( ] )."
      ]
    },
    {
      "cell_type": "code",
      "metadata": {
        "colab": {
          "base_uri": "https://localhost:8080/"
        },
        "id": "Uw1-g3rneWbd",
        "outputId": "4e6b628a-0103-487c-bf8f-82fed1d3c67d"
      },
      "source": [
        "contoh_list = [1, 'dua', 3, 4.0, 5]\r\n",
        "print(contoh_list[0]) # Akan menghasilkan output 1\r\n",
        "print(contoh_list[3]) # Akan menghasilkan output 4.0\r\n",
        "contoh_list = [1, 'dua', 3, 4.0, 5]\r\n",
        "contoh_list[3] = 'empat'\r\n",
        "print(contoh_list[3]) # Akan menghasilkan output empat"
      ],
      "execution_count": 6,
      "outputs": [
        {
          "output_type": "stream",
          "text": [
            "1\n",
            "4.0\n",
            "empat\n"
          ],
          "name": "stdout"
        }
      ]
    },
    {
      "cell_type": "markdown",
      "metadata": {
        "id": "2KWXqLKvecIZ"
      },
      "source": [
        "Sequence Type – Part 2\r\n",
        "\r\n",
        "Setelah mempelajari tipe data list. Aku mempelajari tipe data tuple. Tipe data tuple juga berfungsi untuk menampung sekumpulan data. Tipe data tuple diawali dengan tanda kurung buka ( ( ), memisahkan setiap elemen di dalamnya dengan tanda koma ( , ) dan ditutup dengan tanda kurung tutup ( ) )"
      ]
    },
    {
      "cell_type": "code",
      "metadata": {
        "colab": {
          "base_uri": "https://localhost:8080/",
          "height": 227
        },
        "id": "pk45POjCedPm",
        "outputId": "2fd86d59-2386-4c00-828d-7eb721218776"
      },
      "source": [
        "contoh_tuple = ('Januari', 'Februari', 'Maret', 'April')\r\n",
        "print(contoh_tuple[0]) # Akan Menghasilkan output Januari\r\n",
        "contoh_tuple = ('Juni', 'Juli', 'Agustus', 'September')\r\n",
        "contoh_tuple[0] = 'Desember'"
      ],
      "execution_count": 7,
      "outputs": [
        {
          "output_type": "stream",
          "text": [
            "Januari\n"
          ],
          "name": "stdout"
        },
        {
          "output_type": "error",
          "ename": "TypeError",
          "evalue": "ignored",
          "traceback": [
            "\u001b[0;31m---------------------------------------------------------------------------\u001b[0m",
            "\u001b[0;31mTypeError\u001b[0m                                 Traceback (most recent call last)",
            "\u001b[0;32m<ipython-input-7-0ae1837868c9>\u001b[0m in \u001b[0;36m<module>\u001b[0;34m()\u001b[0m\n\u001b[1;32m      2\u001b[0m \u001b[0mprint\u001b[0m\u001b[0;34m(\u001b[0m\u001b[0mcontoh_tuple\u001b[0m\u001b[0;34m[\u001b[0m\u001b[0;36m0\u001b[0m\u001b[0;34m]\u001b[0m\u001b[0;34m)\u001b[0m \u001b[0;31m# Akan Menghasilkan output Januari\u001b[0m\u001b[0;34m\u001b[0m\u001b[0;34m\u001b[0m\u001b[0m\n\u001b[1;32m      3\u001b[0m \u001b[0mcontoh_tuple\u001b[0m \u001b[0;34m=\u001b[0m \u001b[0;34m(\u001b[0m\u001b[0;34m'Juni'\u001b[0m\u001b[0;34m,\u001b[0m \u001b[0;34m'Juli'\u001b[0m\u001b[0;34m,\u001b[0m \u001b[0;34m'Agustus'\u001b[0m\u001b[0;34m,\u001b[0m \u001b[0;34m'September'\u001b[0m\u001b[0;34m)\u001b[0m\u001b[0;34m\u001b[0m\u001b[0;34m\u001b[0m\u001b[0m\n\u001b[0;32m----> 4\u001b[0;31m \u001b[0mcontoh_tuple\u001b[0m\u001b[0;34m[\u001b[0m\u001b[0;36m0\u001b[0m\u001b[0;34m]\u001b[0m \u001b[0;34m=\u001b[0m \u001b[0;34m'Desember'\u001b[0m\u001b[0;34m\u001b[0m\u001b[0;34m\u001b[0m\u001b[0m\n\u001b[0m",
            "\u001b[0;31mTypeError\u001b[0m: 'tuple' object does not support item assignment"
          ]
        }
      ]
    },
    {
      "cell_type": "markdown",
      "metadata": {
        "id": "re38G3F4ekW-"
      },
      "source": [
        "\r\n",
        "Set Type\r\n",
        "\r\n",
        "Serupa dengan tipe data sequence, tipe data set digunakan untuk menampung sekumpulan data dengan tipe lainnya. Terdapat dua jenis dari tipe data set yaitu, set dan frozenset.\r\n",
        "\r\n",
        "Tipe data set diawali dengan tanda kurung buka kurawal ( { ), memisahkan setiap elemen di dalamnya dengan tanda koma ( , ) dan ditutup dengan tanda kurung tutup ( } ). Namun, berbeda dengan tipe data sequence, seperti list, tipe data objek tidak mengizinkan adanya elemen dengan nilai yang sama dan tidak memperdulikan urutan dari elemen."
      ]
    },
    {
      "cell_type": "code",
      "metadata": {
        "colab": {
          "base_uri": "https://localhost:8080/"
        },
        "id": "aVMkfeIKe0io",
        "outputId": "10f993e4-06f3-44ef-f322-6f36fd9b87ca"
      },
      "source": [
        "contoh_list = ['Dewi', 'Budi', 'Cici', 'Linda', 'Cici'] \r\n",
        "print(contoh_list)\r\n",
        "contoh_set = {'Dewi', 'Budi', 'Cici', 'Linda', 'Cici'} \r\n",
        "print(contoh_set)\r\n",
        "contoh_frozen_set = ({'Dewi', 'Budi', 'Cici', 'Linda', 'Cici'}) \r\n",
        "print(contoh_frozen_set)"
      ],
      "execution_count": 8,
      "outputs": [
        {
          "output_type": "stream",
          "text": [
            "['Dewi', 'Budi', 'Cici', 'Linda', 'Cici']\n",
            "{'Linda', 'Cici', 'Dewi', 'Budi'}\n",
            "{'Linda', 'Cici', 'Dewi', 'Budi'}\n"
          ],
          "name": "stdout"
        }
      ]
    },
    {
      "cell_type": "markdown",
      "metadata": {
        "id": "RDYp30utfQvO"
      },
      "source": [
        "Mapping Type\r\n",
        "\r\n",
        "Tipe data mapping dapat digunakan untuk memetakan sebuah nilai ke nilai lainnya. Dalam Python, tipe data mapping disebut dengan istilah dictionary. Tipe data dictionary dapat dideklarasikan dengan diawali oleh tanda kurung buka kurawal ( { ), memisahkan setiap elemen di dalamnya dengan tanda koma ( , ) dan ditutup dengan tanda kurung tutup ( } )."
      ]
    },
    {
      "cell_type": "code",
      "metadata": {
        "colab": {
          "base_uri": "https://localhost:8080/"
        },
        "id": "f_bp-KsUfbiW",
        "outputId": "7a328b21-3c30-4fb9-9d31-332765718061"
      },
      "source": [
        "person = {'nama': 'John Doe', 'pekerjaan': 'Programmer'}\r\n",
        "print(person['nama'])\r\n",
        "print(person['pekerjaan'])"
      ],
      "execution_count": 9,
      "outputs": [
        {
          "output_type": "stream",
          "text": [
            "John Doe\n",
            "Programmer\n"
          ],
          "name": "stdout"
        }
      ]
    },
    {
      "cell_type": "markdown",
      "metadata": {
        "id": "uabmA2XqffT5"
      },
      "source": [
        "Tugas Praktek\r\n",
        "\r\n",
        "Ternyata seru juga! Aku jadi berniat mengembangkan program kalkulator potongan harga ini untuk beberapa barang sekaligus agar lebih fungsional. Kalau begitu aku perlu rapikan dulu informasi setiap barang di tabel ini.\r\n",
        "\r\n",
        "“Lalu, aku tinggal merepresentasikan semuanya ke tipe data dictionary, dengan begitu akan lebih mudah mengolahnya,” gumamku.\r\n",
        "Aku pun mulai mendeklarasikan variabel sepatu, baju, dan celana untuk menampung informasi barang ke dalam live code editor.\r\n",
        "\r\n",
        "![image.png](data:image/png;base64,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)"
      ]
    },
    {
      "cell_type": "code",
      "metadata": {
        "id": "l7CA86BmftJZ"
      },
      "source": [
        "sepatu = {\"nama\": \"Sepatu Niko\" , \"Harga\": 150000, \"diskon\": 30000 }\r\n",
        "baju = {\"nama\": \"Baju Unikloh\", \"Harga\": 80000, \"Diskon\": 8000 }\r\n",
        "celana = {\"nama\": \"Celana Lepis\", \"Harga\": 200000, \"Diskon\": 60000 }"
      ],
      "execution_count": 12,
      "outputs": []
    },
    {
      "cell_type": "markdown",
      "metadata": {
        "id": "h2gl8U85f8PL"
      },
      "source": [
        "Tugas Praktek\r\n",
        "\r\n",
        "Setelah berhasil merepresentasikan setiap barang ke dalam tipe data dictionary dengan variabel nama, harga, dan diskon, langkahku selanjutnya adalah: mendeklarasikan list dengan nama daftar_belanja yang berisi data sepatu, baju, dan celana.\r\n"
      ]
    },
    {
      "cell_type": "code",
      "metadata": {
        "id": "sGaP3qzEf-Gc"
      },
      "source": [
        "sepatu = {\"nama\": \"Sepatu Niko\", \"harga\": 150000, \"diskon\": 30000} \r\n",
        "baju = {\"nama\": \"Baju Unikloh\", \"harga\": 80000, \"diskon\": 8000} \r\n",
        "celana = {\"nama\": \"Celana Lepis\", \"harga\": 200000, \"diskon\": 60000} \r\n",
        "daftar_belanja = [sepatu, baju, celana]"
      ],
      "execution_count": 14,
      "outputs": []
    },
    {
      "cell_type": "markdown",
      "metadata": {
        "id": "X5L60vUEgK4s"
      },
      "source": [
        "Tugas Praktek\r\n",
        "\r\n",
        "Dengan data yang aku miliki, aku bisa menghitung total harga jual dengan potongan harga dengan pajak sebesar 10% dari nilai jual.\r\n",
        "\r\n",
        "Untungnya Senja memberikan beberapa tips untuk menyelesaikan tugas ini:\r\n",
        "\r\n",
        "    Tips 1. # Data yang dinyatakan ke dalam dictionary\r\n",
        "    Tips 2. # Hitung harga masing-masing data setelah dikurangi diskon\r\n",
        "    Tips 3. # Hitung harga total\r\n",
        "    Tips 4. # Hitung harga kena pajak\r\n",
        "    Tips 5. # Cetak total_harga + total_pajak\r\n",
        "\r\n",
        " "
      ]
    },
    {
      "cell_type": "code",
      "metadata": {
        "colab": {
          "base_uri": "https://localhost:8080/"
        },
        "id": "Gg1xdgH5gMYA",
        "outputId": "359fd371-b21b-429d-911d-001153f5acf5"
      },
      "source": [
        "# Data yang dinyatakan ke dalam dictionary\r\n",
        "sepatu = {\"nama\": \"Sepatu Niko\", \"harga\": 150000, \"diskon\": 30000} \r\n",
        "baju = {\"nama\": \"Baju Unikloh\", \"harga\": 80000, \"diskon\": 8000} \r\n",
        "celana = {\"nama\": \"Celana Lepis\", \"harga\": 200000, \"diskon\": 60000}\r\n",
        "# Hitunglah harga masing-masing data setelah dikurangi diskon\r\n",
        "harga_sepatu = sepatu[\"harga\"] - sepatu[\"diskon\"] \r\n",
        "harga_baju = baju[\"harga\"] - baju[\"diskon\"]\r\n",
        "harga_celana = celana[\"harga\"] - celana[\"diskon\"]\r\n",
        "# Hitung harga total\r\n",
        "total_harga = harga_sepatu + harga_baju  + harga_celana\r\n",
        "# Hitung harga kena pajak\r\n",
        "total_pajak = total_harga * 0.1\r\n",
        "# Cetak total_harga + total_pajak\r\n",
        "print(total_harga + total_pajak)"
      ],
      "execution_count": 15,
      "outputs": [
        {
          "output_type": "stream",
          "text": [
            "365200.0\n"
          ],
          "name": "stdout"
        }
      ]
    },
    {
      "cell_type": "markdown",
      "metadata": {
        "id": "ZtZbkNwQgVlw"
      },
      "source": [
        "Nilai Prioritas Operator dalam Python – Part 1\r\n",
        "\r\n",
        "Setelah mempelajari berbagai operator dalam bahasa pemrograman Python, tentunya aku juga ingin agar dapat menuliskan operasi-operasi variabel yang bersifat ekspresif dan ringkas."
      ]
    },
    {
      "cell_type": "code",
      "metadata": {
        "colab": {
          "base_uri": "https://localhost:8080/"
        },
        "id": "4U_-Otqagv34",
        "outputId": "eb9b60a5-bcd6-4483-d151-cbed0c280e8b"
      },
      "source": [
        "# Kode awal\r\n",
        "total_harga = 150000\r\n",
        "potongan_harga = 0.3\r\n",
        "pajak = 0.1 # pajak dalam persen ~ 10%\r\n",
        "harga_bayar = 1 - 0.3 # baris pertama\r\n",
        "harga_bayar *= total_harga # baris kedua\r\n",
        "pajak_bayar = pajak * harga_bayar # baris ketiga\r\n",
        "harga_bayar += pajak_bayar # baris ke-4\r\n",
        "print(\"Kode awal - harga_bayar=\", harga_bayar)\r\n",
        "# Penyederhanaan baris kode dengan menerapkan prioritas operator\r\n",
        "total_harga = 150000\r\n",
        "potongan_harga = 0.3\r\n",
        "pajak = 0.1 # pajak dalam persen ~ 10%\r\n",
        "harga_bayar = (1-0.3) * total_harga #baris pertama \r\n",
        "harga_bayar += harga_bayar * pajak # baris kedua\r\n",
        "print(\"Penyederhanaan kode - harga_bayar=\", harga_bayar)"
      ],
      "execution_count": 16,
      "outputs": [
        {
          "output_type": "stream",
          "text": [
            "Kode awal - harga_bayar= 115500.0\n",
            "Penyederhanaan kode - harga_bayar= 115500.0\n"
          ],
          "name": "stdout"
        }
      ]
    },
    {
      "cell_type": "markdown",
      "metadata": {
        "id": "HFlyjcVwhIBc"
      },
      "source": [
        "Tugas Praktek\r\n",
        "\r\n",
        "Kenapa tidak terpikirkan olehku ya? Harusnya aku tidak perlu mendeklarasikan variabel total_pajak dan aku bisa langsung menampung hasil perhitungan akhir saat mendeklarasikan variabel total_harga. Jadi, kodeku akan berjalan jika aku menambahkan setiap harga barang yang telah dipotong diskon sebelum menghitung pajak."
      ]
    },
    {
      "cell_type": "code",
      "metadata": {
        "colab": {
          "base_uri": "https://localhost:8080/"
        },
        "id": "SIIIm72XhRLJ",
        "outputId": "3bc63b0a-71aa-4b7c-c154-ce8b4367735b"
      },
      "source": [
        "sepatu = { \"nama\" : \"Sepatu Niko\", \"harga\": 150000, \"diskon\": 30000 }\r\n",
        "baju = { \"nama\" : \"Baju Unikloh\", \"harga\": 80000, \"diskon\": 8000 }\r\n",
        "celana = { \"nama\" : \"Celana Lepis\", \"harga\": 200000, \"diskon\": 60000 }\r\n",
        "harga_sepatu = sepatu[\"harga\"] - sepatu[\"diskon\"]\r\n",
        "harga_baju = baju[\"harga\"] - baju[\"diskon\"]\r\n",
        "harga_celana = celana[\"harga\"] - celana[\"diskon\"]\r\n",
        "total_harga = (harga_sepatu + harga_baju + harga_celana) * 1.1 \r\n",
        "print(total_harga)"
      ],
      "execution_count": 17,
      "outputs": [
        {
          "output_type": "stream",
          "text": [
            "365200.00000000006\n"
          ],
          "name": "stdout"
        }
      ]
    },
    {
      "cell_type": "markdown",
      "metadata": {
        "id": "mYPvvu2vhkVm"
      },
      "source": [
        "Tugas Praktek\r\n",
        "\r\n",
        "![image.png](data:image/png;base64,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)"
      ]
    },
    {
      "cell_type": "code",
      "metadata": {
        "colab": {
          "base_uri": "https://localhost:8080/"
        },
        "id": "EBNMqjyriYAi",
        "outputId": "95997d48-7fa6-4d39-cd82-db4bcda3d58d"
      },
      "source": [
        "tagihan_ke = 'Mr. Yoyo'\r\n",
        "warehousing = { 'harga_harian': 1000000, 'total_hari':15 } \r\n",
        "cleansing = { 'harga_harian': 1500000, 'total_hari':10 } \r\n",
        "integration = { 'harga_harian':2000000, 'total_hari':15 } \r\n",
        "transform = { 'harga_harian':2500000, 'total_hari':10 }\r\n",
        "sub_warehousing = warehousing['harga_harian'] * warehousing['total_hari'] \r\n",
        "sub_cleansing = cleansing['harga_harian'] * cleansing['total_hari']\r\n",
        "sub_integration = integration['harga_harian'] * integration['total_hari']\r\n",
        "sub_transform = transform['harga_harian'] * transform['total_hari']\r\n",
        "total_harga = sub_warehousing + sub_cleansing + sub_integration + sub_transform \r\n",
        "print(\"Tagihan kepada:\") \r\n",
        "print(tagihan_ke)\r\n",
        "print(\"Selamat pagi, anda harus membayar tagihan sebesar:\") \r\n",
        "print(total_harga)"
      ],
      "execution_count": 18,
      "outputs": [
        {
          "output_type": "stream",
          "text": [
            "Tagihan kepada:\n",
            "Mr. Yoyo\n",
            "Selamat pagi, anda harus membayar tagihan sebesar:\n",
            "85000000\n"
          ],
          "name": "stdout"
        }
      ]
    },
    {
      "cell_type": "markdown",
      "metadata": {
        "id": "ZytAlUMainal"
      },
      "source": [
        "Tugas Praktek\r\n",
        "\r\n",
        "Tolong masukkan variabel keterangan waktu tersebut di kodemu. Lalu, diatur dengan detail berikut:\r\n",
        "\r\n",
        "    Diatas jam 07 malam adalah salam 'selamat malam'\r\n",
        "    Diatas jam 05 sore adalah salam 'selamat sore'\r\n",
        "    Diatas jam 12 siang, adalah 'selamat siang'\r\n",
        "    dan selain itu 'selamat pagi'\r\n",
        "\r\n",
        "“Oh, oke. Paham,” sahutku sembari merevisi. Saran yang bagus, kedepannya aku harus berpikir kritis.\r\n",
        "\r\n",
        " "
      ]
    },
    {
      "cell_type": "code",
      "metadata": {
        "colab": {
          "base_uri": "https://localhost:8080/"
        },
        "id": "BnG2bXrFivOr",
        "outputId": "67026034-ed48-4932-e07a-bf65f0bcb9e4"
      },
      "source": [
        "jam = 17\r\n",
        "tagihan_ke = 'Mr. Yoyo'\r\n",
        "warehousing = { 'harga_harian': 1000000, 'total_hari':15 } \r\n",
        "cleansing = { 'harga_harian': 1500000, 'total_hari':10 } \r\n",
        "integration = { 'harga_harian':2000000, 'total_hari':15 } \r\n",
        "transform = { 'harga_harian':2500000, 'total_hari':10 }\r\n",
        "sub_warehousing = warehousing['harga_harian']*warehousing['total_hari'] \r\n",
        "sub_cleansing = cleansing['harga_harian']*cleansing['total_hari'] \r\n",
        "sub_integration = integration['harga_harian']*integration['total_hari'] \r\n",
        "sub_transform = transform['harga_harian']*transform['total_hari']\r\n",
        "total_harga = sub_warehousing+sub_cleansing+sub_integration+sub_transform\r\n",
        "print(\"Tagihan kepada:\")\r\n",
        "print(tagihan_ke)\r\n",
        "if jam > 19:\r\n",
        "    print(\"Selamat malam, anda harus membayar tagihan sebesar:\")\r\n",
        "elif jam > 17:\r\n",
        "    print(\"Selamat sore, anda harus membayar tagihan sebesar:\") \r\n",
        "elif jam > 12:\r\n",
        "    print(\"Selamat siang, anda harus membayar tagihan sebesar:\")\r\n",
        "else:\r\n",
        "    print(\"Selamat pagi, anda harus membayar tagihan sebesar:\") \r\n",
        "print(total_harga)"
      ],
      "execution_count": 19,
      "outputs": [
        {
          "output_type": "stream",
          "text": [
            "Tagihan kepada:\n",
            "Mr. Yoyo\n",
            "Selamat siang, anda harus membayar tagihan sebesar:\n",
            "85000000\n"
          ],
          "name": "stdout"
        }
      ]
    },
    {
      "cell_type": "markdown",
      "metadata": {
        "id": "llusKU2ai-tx"
      },
      "source": [
        "Python while loops – Part 1\r\n",
        "\r\n",
        "aku belajar bahwa statement while akan terus menjalankan aksi di dalamnya, selama kondisi yang dituliskan di samping kanan statemen while terus terpenuhi. Melalui penambahan nilai i sebagai salah satu aksi dalam statemen while, saat nilai i = 4, kondisi dari statemen while tidak akan terpenuhi dan eksekusi program akan dilanjutkan keperintah print(total_tagihan)."
      ]
    },
    {
      "cell_type": "code",
      "metadata": {
        "colab": {
          "base_uri": "https://localhost:8080/"
        },
        "id": "93Dc6yHejE_p",
        "outputId": "1b27026f-a382-4fcf-a454-e30593fa42aa"
      },
      "source": [
        "# Tagihan\r\n",
        "tagihan = [50000, 75000, 125000, 300000, 200000]\r\n",
        "# Tanpa menggunakan while loop\r\n",
        "total_tagihan = tagihan[0] + tagihan[1] + tagihan[2] + tagihan[3] + tagihan[4]\r\n",
        "print(total_tagihan)\r\n",
        "# Dengan menggunakan while loop\r\n",
        "i = 0 # sebuah variabel untuk mengakses setiap elemen tagihan satu per satu\r\n",
        "jumlah_tagihan = len(tagihan) # panjang (jumlah elemen dalam) list tagihan\r\n",
        "total_tagihan = 0 # mula-mula, set total_tagihan ke 0\r\n",
        "while i < jumlah_tagihan: # selama nilai i kurang dari jumlah_tagihan\r\n",
        "    total_tagihan += tagihan[i] # tambahkan tagihan[i] ke total_tagihan\r\n",
        "    i += 1 # tambahkan nilai i dengan 1 untuk memproses tagihan selanjutnya.\r\n",
        "print(total_tagihan)"
      ],
      "execution_count": 20,
      "outputs": [
        {
          "output_type": "stream",
          "text": [
            "750000\n",
            "750000\n"
          ],
          "name": "stdout"
        }
      ]
    },
    {
      "cell_type": "markdown",
      "metadata": {
        "id": "ju3FUTACjV0n"
      },
      "source": [
        "Python while loops – Part 2\r\n",
        "\r\n",
        "Dalam sebuah struktur kontrol pengulangan, aku dapat menggunakan perintah break untuk keluar dari struktur pengulangan dan perintah continue untuk melanjutkan proses pengulangan berikutnya. "
      ]
    },
    {
      "cell_type": "code",
      "metadata": {
        "colab": {
          "base_uri": "https://localhost:8080/"
        },
        "id": "7fe0m4gRjcVr",
        "outputId": "b7c6320c-a73d-4cbf-e7fb-f39f3a58dcc2"
      },
      "source": [
        "tagihan = [50000, 75000, -150000, 125000, 300000, -50000, 200000]\r\n",
        "i = 0\r\n",
        "jumlah_tagihan = len(tagihan)\r\n",
        "total_tagihan = 0\r\n",
        "while i < jumlah_tagihan:\r\n",
        "    # jika terdapat tagihan ke-i yang bernilai minus (di bawah nol),\r\n",
        "    # pengulangan akan dihentikan\r\n",
        "    if tagihan[i] < 0:\r\n",
        "        total_tagihan = -1\r\n",
        "        print(\"terdapat angka minus dalam tagihan, perhitungan dihentikan!\")\r\n",
        "        break\r\n",
        "    total_tagihan += tagihan[i]\r\n",
        "    i += 1\r\n",
        "print(total_tagihan)"
      ],
      "execution_count": 21,
      "outputs": [
        {
          "output_type": "stream",
          "text": [
            "terdapat angka minus dalam tagihan, perhitungan dihentikan!\n",
            "-1\n"
          ],
          "name": "stdout"
        }
      ]
    },
    {
      "cell_type": "markdown",
      "metadata": {
        "id": "zLGEGYolkHCZ"
      },
      "source": [
        "Python while loops – Part 3\r\n"
      ]
    },
    {
      "cell_type": "code",
      "metadata": {
        "colab": {
          "base_uri": "https://localhost:8080/"
        },
        "id": "WFzNa0dQkNNZ",
        "outputId": "c828ca76-b6ac-4482-e9b5-9d360991dad9"
      },
      "source": [
        "tagihan = [50000, 75000, -150000, 125000, 300000, -50000, 200000]\r\n",
        "i = 0\r\n",
        "jumlah_tagihan = len(tagihan)\r\n",
        "total_tagihan = 0\r\n",
        "while i < jumlah_tagihan:\r\n",
        "    # jika terdapat tagihan ke-i yang bernilai minus (di bawah nol),\r\n",
        "    # abaikan tagihan ke-i dan lanjutkan ke tagihan berikutnya\r\n",
        "    if tagihan[i] < 0:\r\n",
        "        i += 1\r\n",
        "        continue\r\n",
        "    total_tagihan += tagihan [i]\r\n",
        "    i += 1\r\n",
        "print(total_tagihan)"
      ],
      "execution_count": 22,
      "outputs": [
        {
          "output_type": "stream",
          "text": [
            "750000\n"
          ],
          "name": "stdout"
        }
      ]
    },
    {
      "cell_type": "markdown",
      "metadata": {
        "id": "KQGrLV7_kbuS"
      },
      "source": [
        "Python for loops – Part 1"
      ]
    },
    {
      "cell_type": "code",
      "metadata": {
        "colab": {
          "base_uri": "https://localhost:8080/"
        },
        "id": "IPUKtZ_okdnH",
        "outputId": "aad08df4-a4fc-413f-b5f1-f2e6c4b5777f"
      },
      "source": [
        "list_tagihan = [50000, 75000, -150000, 125000, 300000, -50000, 200000]\r\n",
        "total_tagihan = 0\r\n",
        "for tagihan in list_tagihan: # untuk setiap tagihan dalam list_tagihan\r\n",
        "    total_tagihan += tagihan # tambahkan tagihan ke total_tagihan\r\n",
        "print(total_tagihan)"
      ],
      "execution_count": 23,
      "outputs": [
        {
          "output_type": "stream",
          "text": [
            "550000\n"
          ],
          "name": "stdout"
        }
      ]
    },
    {
      "cell_type": "markdown",
      "metadata": {
        "id": "h1I3s4M9khlu"
      },
      "source": [
        "Python for loops – Part 2\r\n",
        "\r\n",
        "Serupa dengan struktur pengulangan while, aku juga dapat memanfaatkan statement break dan continue di dalamnya."
      ]
    },
    {
      "cell_type": "code",
      "metadata": {
        "colab": {
          "base_uri": "https://localhost:8080/"
        },
        "id": "2HH5P3duko9t",
        "outputId": "c83e5497-fd92-49a8-d62d-516ddb9c7807"
      },
      "source": [
        "list_tagihan = [50000, 75000, -150000, 125000, 300000, -50000, 200000]\r\n",
        "total_tagihan = 0\r\n",
        "for tagihan in list_tagihan:\r\n",
        "    if tagihan < 0:\r\n",
        "        print(\"terdapat angka minus dalam tagihan, perhitungan dihentikan!\")\r\n",
        "        break\r\n",
        "    total_tagihan += tagihan\r\n",
        "print(total_tagihan)"
      ],
      "execution_count": 24,
      "outputs": [
        {
          "output_type": "stream",
          "text": [
            "terdapat angka minus dalam tagihan, perhitungan dihentikan!\n",
            "125000\n"
          ],
          "name": "stdout"
        }
      ]
    },
    {
      "cell_type": "markdown",
      "metadata": {
        "id": "o7XrNuL0kyIL"
      },
      "source": [
        "Python for loops – Part 3\r\n",
        "\r\n",
        "Ternyata, aku belajar bahwa ada istilah nested loops, yaitu pengulangan bersarang. Dengan nested loops, aku dapat mengkombinasikan (menambahkan) struktur pengulangan lain di dalamnya."
      ]
    },
    {
      "cell_type": "code",
      "metadata": {
        "id": "lMahQSU1kzZe"
      },
      "source": [
        "list_daerah = ['Malang', 'Palembang', 'Medan']\r\n",
        "list_buah = ['Apel', 'Duku', 'Jeruk']\r\n",
        "for nama_daerah in list_daerah:\r\n",
        "    for nama_buah in list_buah:\r\n",
        "        print(nama_buah+\" \"+nama_daerah)"
      ],
      "execution_count": null,
      "outputs": []
    },
    {
      "cell_type": "markdown",
      "metadata": {
        "id": "miQjBNDYk68Z"
      },
      "source": [
        "Tugas Praktek\r\n",
        "\r\n",
        "Aku di informasikan Senja bahwa manajemen cukup puas dengan hasil kalkulator potongan harga dan pajak yang aku kembangkan dan aku diberikan kepercayaan lebih untuk membuat program baru.\r\n",
        "\r\n",
        "Dalam program kali ini, aku diminta untuk menghitung total pengeluaran dan pemasukan perusahaan.\r\n",
        "\r\n",
        "Senja pun mengingatkan akan ada penghitungan cash flow."
      ]
    },
    {
      "cell_type": "code",
      "metadata": {
        "colab": {
          "base_uri": "https://localhost:8080/"
        },
        "id": "lx-16s-dk80Y",
        "outputId": "bd4178f8-2f40-4552-ef75-505a1694fbe0"
      },
      "source": [
        "list_cash_flow = [\r\n",
        "2500000, 5000000, -1000000, -2500000, 5000000, 10000000,\r\n",
        "-5000000, 7500000, 10000000, -1500000, 25000000, -2500000\r\n",
        "]\r\n",
        "total_pengeluaran, total_pemasukan = 0, 0\r\n",
        "for dana in list_cash_flow:\r\n",
        "    if dana > 0:\r\n",
        "        total_pemasukan += dana\r\n",
        "    else:\r\n",
        "        total_pengeluaran += dana\r\n",
        "total_pengeluaran *= -1\r\n",
        "print(total_pengeluaran) \r\n",
        "print(total_pemasukan)"
      ],
      "execution_count": 25,
      "outputs": [
        {
          "output_type": "stream",
          "text": [
            "12500000\n",
            "65000000\n"
          ],
          "name": "stdout"
        }
      ]
    },
    {
      "cell_type": "markdown",
      "metadata": {
        "id": "HD2bp7t0lP32"
      },
      "source": [
        "Ekspedisi Pamanku\r\n",
        "\r\n",
        "Aku menyambar ponsel di meja dan membuka pesan singkat dari paman tempo hari yang menjelaskan jika paman harus mengeluarkan uang sebesar 1,5 juta per mobil dalam sehari. Tapi, beliau selalu kebingungan total pengeluaran per bulan karena adanya aturan ganjil-genap yang membuat pengoperasian mobil yang berbeda.\r\n",
        "\r\n",
        "“Kalau begitu, aku akan masukkan variabel jumlah_hari berisi jumlah hari dalam sebulan dan variabel list_plat_nomor berisi seluruh nomor plat mobil milik paman,” gumamku sendiri. Kalau seperti ini paman hanya perlu mengganti variabel jumlah_hari atau modifikasi variabel list_plat_nomor untuk melacak total pengeluaran paman selama sebulan. Ide Cemerlang!"
      ]
    },
    {
      "cell_type": "code",
      "metadata": {
        "colab": {
          "base_uri": "https://localhost:8080/"
        },
        "id": "9ayaUMK_lR1a",
        "outputId": "5d9ead92-8980-428b-a610-b575bf3062b2"
      },
      "source": [
        "# Data\r\n",
        "uang_jalan = 1500000\r\n",
        "jumlah_hari = 31\r\n",
        "list_plat_nomor = [8993, 2198, 2501, 2735, 3772, 4837, 9152]\r\n",
        "# Pengecekan kendaraan dengan nomor pelat ganjil atau genap \r\n",
        "# Deklarasikan kendaraan_genap dan kendaraan_ganjil = 0\r\n",
        "kendaraan_genap = 0\r\n",
        "kendaraan_ganjil = 0\r\n",
        "for plat_nomor in list_plat_nomor:\r\n",
        "    if plat_nomor % 2 == 0:\r\n",
        "        kendaraan_genap += 1\r\n",
        "    else:\r\n",
        "        kendaraan_ganjil +=1\r\n",
        "# Total pengeluaran untuk kendaraan dengan nomor pelat ganjil \r\n",
        "# dan genap dalam 1 bulan\r\n",
        "i = 1\r\n",
        "total_pengeluaran = 0\r\n",
        "while i <= jumlah_hari:\r\n",
        "    if i % 2 == 0:\r\n",
        "        total_pengeluaran += (kendaraan_genap * uang_jalan)\r\n",
        "    else:\r\n",
        "       total_pengeluaran += (kendaraan_ganjil * uang_jalan)\r\n",
        "    i += 1\r\n",
        "# Cetak total pengeluaran\r\n",
        "print(total_pengeluaran)"
      ],
      "execution_count": 26,
      "outputs": [
        {
          "output_type": "stream",
          "text": [
            "163500000\n"
          ],
          "name": "stdout"
        }
      ]
    },
    {
      "cell_type": "markdown",
      "metadata": {
        "id": "Gg3TXVKFliYU"
      },
      "source": [
        "Hasil Belajarku\r\n",
        "\r\n",
        "Wah senangnya! Aku telah berhasil menyelesaikan pelajaran Python pertamaku, Python for Data Professional Beginner - Part 1.\r\n",
        "Selain membabat habis materi dari Senja, aku berhasil menyelesaikan latihan, dan membantu Pamanku.\r\n",
        "\r\n",
        "Dari materi yang telah aku pelajari dan praktekkan, aku telah mempelajari:\r\n",
        "\r\n",
        "    1. Alasan Python secara luas digunakan dalam komputasi saintifik, web, ranah data (data domain).\r\n",
        "   2.  Konstruksi dari struktur bahasa pemrograman Python.\r\n",
        "   3.  Teknik mempraktekkan penggunaan tipe data pada Python.\r\n",
        "   4.  Teknik mempraktekkan penggunaan jenis-jenis operator pada Python.\r\n",
        "   5.  Teknik mempraktekkan penggunaan pengkondisian untuk pengambilan keputusan dan perulangan pada Python.\r\n",
        "    6. Program Python untuk penyelesaian kasus bisnis sederhana.\r\n"
      ]
    }
  ]
}