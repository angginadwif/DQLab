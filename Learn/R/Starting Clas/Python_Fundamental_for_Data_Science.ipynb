{
  "nbformat": 4,
  "nbformat_minor": 0,
  "metadata": {
    "colab": {
      "name": "Python Fundamental for Data Science.ipynb",
      "provenance": []
    },
    "kernelspec": {
      "name": "python3",
      "display_name": "Python 3"
    }
  },
  "cells": [
    {
      "cell_type": "markdown",
      "metadata": {
        "id": "EzAu0g2PRwvq"
      },
      "source": [
        "Pendahuluan Tentang Python\r\n",
        "Python merupakan bahasa pemrograman yag diciptakan pada tahun 1991 oleh Guido van Russom, seorang matematikawan.\r\n",
        "\r\n",
        "Python mulai beranjak naik dan populer. Pada beberapa survey terkait bahasa pemrograman yang sering dicari di google, Python berhasil melonjak tajam bahkan mengungguli Java. Bahkan dari insight developer survey dari stackoverflow pada tahun 2018, Python berhasil naik pada TOP 10 programming language yang paling dicari menggungguli seniornya, C, PHP, dan C#. Python merupakan programming language yang memiliki peningkatan pencarian yang sangat tajam dalam setahun terakhir. Python mengklaim dirinya adalah programming language dengan perkembangan tercepat. Selain dari perkembangan library yang semakin kuat, kontributor dari python juga sangat banyak yang akhirnya membuat python menjadi salah satu programming language yang solid dan berkembang pesat.\r\n",
        "\r\n",
        "Python sendiri berguna dalam berbagai aspek :\r\n",
        "\r\n",
        "1. Web Development (Server – Side)\r\n",
        "2. Software Development\r\n",
        "3. Mathematics\r\n",
        "4. Scripting\r\n",
        "5. Data Science\r\n",
        "6. Bisa mengelola Big Data dan Rumus matematika yang complex\r\n",
        "7. Cocok untuk riset dan rapid prototype suatu product dan launch hingga produksi\r\n",
        "8. CRUD sebuah file dan database\r\n",
        "\r\n",
        "Kepopuleran python sendiri sekarang ada pada track data science. Banyaknya library dan framework seperti scikit-learn dan tensorflow membuat para pecinta data mining, AI, dan Machine learning menyukai python dalam pengembangan riset dan penelitian mereka. Berkembangnya dunia data science didunia ini juga salah satu alasan kenapa python menjadi begitu populer sekarang."
      ]
    },
    {
      "cell_type": "markdown",
      "metadata": {
        "id": "r3_hlV2gSFcd"
      },
      "source": [
        "Code Hello World\r\n",
        "Struktur code pada Python relatif sangat sederhana dan tidak terlalu rumit seperti pada Java ataupun C. Selain karena memang mudah dibaca, python juga termasuk pada high level programming language. Sebagai contoh, cobalah ketik coding pada Code Editor dengan perintah berikut untuk mengeluarkan kata-kata yang diperintahkan."
      ]
    },
    {
      "cell_type": "markdown",
      "metadata": {
        "id": "iIPgk3sC2DyA"
      },
      "source": [
        "Tugas Praktek\r\n",
        "1. Tampilkan hasil perhitungan (10*2+5) pada baris pertama.\r\n",
        "2. tampilkan teks \"Academy DQLab\" pada baris kedua.\r\n",
        "3. Klik tombol  untuk melanjutkan.\r\n",
        " "
      ]
    },
    {
      "cell_type": "code",
      "metadata": {
        "colab": {
          "base_uri": "https://localhost:8080/"
        },
        "id": "AYoGVnju2OJB",
        "outputId": "595e7e5c-0a3a-4307-e170-8e46fc82d769"
      },
      "source": [
        "print(10*2+5)\r\n",
        "print(\"AcademyDQLab\")"
      ],
      "execution_count": 1,
      "outputs": [
        {
          "output_type": "stream",
          "text": [
            "25\n",
            "AcademyDQLab\n"
          ],
          "name": "stdout"
        }
      ]
    },
    {
      "cell_type": "markdown",
      "metadata": {
        "id": "Ya-XKLiO2oUJ"
      },
      "source": [
        "Melakukan Comment Pada Python\r\n",
        "\r\n",
        "Pada suatu kegiatan membuat code, penting sekali bagi para penulis codenya untuk memberikan sebuah dokumentasi pada penulisan codenya. Mengapa hal itu sangat penting? Sederhana, jika codenya sudah lebih dari ribuan baris dan ada beberapa bagian yang perlu diperbaiki karena suatu perubahan, para penulis code cukup melihat dokumentasinya dan tidak perlu membaca dan memahami seluruh isi code dari awal. Nah, salah satu metode yang biasa digunakan adalah menggunakan comment. Sama dengan Bahasa R, python juga menggunakan tanda “#” untuk melakukan comment pada script."
      ]
    },
    {
      "cell_type": "markdown",
      "metadata": {
        "id": "qOGNGm9i2riw"
      },
      "source": [
        "Tugas Praktek\r\n",
        "\r\n",
        "Berikan keterangan untuk setiap baris program dengan perintah comment:\r\n",
        "print(10*2+5) #fungsi matematika\r\n",
        "print(\"Academy DQLab\") #fungsi mencetak kalimat"
      ]
    },
    {
      "cell_type": "code",
      "metadata": {
        "colab": {
          "base_uri": "https://localhost:8080/"
        },
        "id": "GdquVavQ2xzn",
        "outputId": "a9416747-aeb6-4660-877f-c9fe19820f2d"
      },
      "source": [
        "print(10*2+5) #fungsi matematika\r\n",
        "print(\"Academy DQLab\") #fungsi mencetak kalimat"
      ],
      "execution_count": 2,
      "outputs": [
        {
          "output_type": "stream",
          "text": [
            "25\n",
            "Academy DQLab\n"
          ],
          "name": "stdout"
        }
      ]
    },
    {
      "cell_type": "markdown",
      "metadata": {
        "id": "7WKg3Ahq3F_y"
      },
      "source": [
        "Printing Data Type"
      ]
    },
    {
      "cell_type": "code",
      "metadata": {
        "colab": {
          "base_uri": "https://localhost:8080/"
        },
        "id": "tqqreE8-3HWV",
        "outputId": "4318ad5c-819d-449e-f3c8-9728834b464b"
      },
      "source": [
        "var_string=\"Belajar Python DQLAB\"\r\n",
        "var_int=10\r\n",
        "var_float=3.14\r\n",
        "var_list=[1,2,3,4]\r\n",
        "var_tuple=(\"satu\", \"dua\", \"tiga\")\r\n",
        "var_dict={\"nama\":\"Ali\",'umur':20}\r\n",
        "\r\n",
        "print(var_string)\r\n",
        "print(var_int)\r\n",
        "print(var_float)\r\n",
        "print(var_list)\r\n",
        "print(var_tuple)\r\n",
        "print(var_dict)\r\n",
        "\r\n",
        "print(type(var_string))\r\n",
        "print(type(var_int))\r\n",
        "print(type(var_float))\r\n",
        "print(type(var_list))\r\n",
        "print(type(var_tuple))\r\n",
        "print(type(var_dict))"
      ],
      "execution_count": 3,
      "outputs": [
        {
          "output_type": "stream",
          "text": [
            "Belajar Python DQLAB\n",
            "10\n",
            "3.14\n",
            "[1, 2, 3, 4]\n",
            "('satu', 'dua', 'tiga')\n",
            "{'nama': 'Ali', 'umur': 20}\n",
            "<class 'str'>\n",
            "<class 'int'>\n",
            "<class 'float'>\n",
            "<class 'list'>\n",
            "<class 'tuple'>\n",
            "<class 'dict'>\n"
          ],
          "name": "stdout"
        }
      ]
    },
    {
      "cell_type": "markdown",
      "metadata": {
        "id": "b0R5_AGA4ELK"
      },
      "source": [
        "Dalam membuat suatu keputusan biasanya pasti ada sebuah pilihan. Untuk mewujudkan suatu kerangka berpikir pada suatu pilihan pada bahasa pemrograman biasanya kita menggunakan konsep IF, ELSE. Pada python sebenarnya hampir sama dan tidak ada perbedaan yang terlalu signifikan. Perbedaanya mungkin ada pada\r\n",
        "\r\n",
        "Pada praktek kali ini akan dibagi menjadi 3 bagian :\r\n",
        "\r\n",
        "1. Menggunakan IF yang jika direpresentasikan dengan kata – kata, (Jika, sesuatu memenuhi suatu kondisi, maka lakukan A, jika tidak, tidak terjadi apa-apa)\r\n",
        "2. Menggunakan IF dan ELSE yang jika direpresentasikan dengan kata – kata, (Jika, sesuatu memenuhi suatu kondisi, maka lakukan A, jika tidak, lakukan B)\r\n",
        "3. Menggunakan IF, ELIF dan ELSE. ELIF sendiri sebenarnya sama persis dengan ELSE IF. Namun, pada python disingkat menjadi ELSE IF. (Jika, sesuatu memenuhi suatu kondisi, maka lakukan A, jika tidak, lakukan pengecekan pada kondisi berikutnya, jika memenuhi lakukan B, jika tidak maka lakukan C)"
      ]
    },
    {
      "cell_type": "markdown",
      "metadata": {
        "id": "BVFX-vdu4fWE"
      },
      "source": [
        "IF Statement"
      ]
    },
    {
      "cell_type": "code",
      "metadata": {
        "colab": {
          "base_uri": "https://localhost:8080/"
        },
        "id": "7c9CCepp4hrb",
        "outputId": "e68ef286-27cc-4f6e-f11e-c2d83690199d"
      },
      "source": [
        "i = 5 #inisialisasi variable i yang memiliki nilai 10\r\n",
        "\r\n",
        "if(i==10): #pengecekan nilai i apakah sama dengan nilai 10\r\n",
        "\tprint(\"ini adalah angka10\") #jika true maka akan mecetak kalimat ini\r\n",
        "else:\r\n",
        "\tprint(\"bukan angka 10\") #jika FALSE akan mencetak kalimat ini"
      ],
      "execution_count": 8,
      "outputs": [
        {
          "output_type": "stream",
          "text": [
            "bukan angka 10\n"
          ],
          "name": "stdout"
        }
      ]
    },
    {
      "cell_type": "markdown",
      "metadata": {
        "id": "ZmoLHNQZ9HgI"
      },
      "source": [
        "IF … ELIF … ELSE …."
      ]
    },
    {
      "cell_type": "code",
      "metadata": {
        "colab": {
          "base_uri": "https://localhost:8080/"
        },
        "id": "J7UOOUXI9I4g",
        "outputId": "ec084475-3b80-4dfd-d5ee-e008f1225f83"
      },
      "source": [
        "i=3\r\n",
        "\r\n",
        "if(i==5):\r\n",
        "\tprint(\"ini adalah angka 5\")\r\n",
        "elif(i>5):\r\n",
        "\tprint(\"lebih besar dari 5\")\r\n",
        "else:\r\n",
        "\tprint(\"lebih kecil dari 5\")"
      ],
      "execution_count": 9,
      "outputs": [
        {
          "output_type": "stream",
          "text": [
            "lebih kecil dari 5\n"
          ],
          "name": "stdout"
        }
      ]
    },
    {
      "cell_type": "markdown",
      "metadata": {
        "id": "ovuruMVq9fA_"
      },
      "source": [
        "NESTED IF"
      ]
    },
    {
      "cell_type": "code",
      "metadata": {
        "colab": {
          "base_uri": "https://localhost:8080/"
        },
        "id": "GDVjZGTtA6u4",
        "outputId": "1bc0a16d-58a4-4d61-936b-2fd2fa0daac8"
      },
      "source": [
        "num = float(input(\"Enter a number: \"))\r\n",
        "if num >= 0:\r\n",
        "    if num == 0:\r\n",
        "        print(\"Zero\")\r\n",
        "    else:\r\n",
        "        print(\"Positive number\")\r\n",
        "else:\r\n",
        "    print(\"Negative number\")"
      ],
      "execution_count": 12,
      "outputs": [
        {
          "output_type": "stream",
          "text": [
            "Enter a number: 3\n",
            "Positive number\n"
          ],
          "name": "stdout"
        }
      ]
    },
    {
      "cell_type": "markdown",
      "metadata": {
        "id": "t9Xy2dS_CYP9"
      },
      "source": [
        "Praktek Operasi Matematika"
      ]
    },
    {
      "cell_type": "code",
      "metadata": {
        "colab": {
          "base_uri": "https://localhost:8080/"
        },
        "id": "L4K_dRZFCZSt",
        "outputId": "a03ac510-fa56-436a-a2c0-b857592f8f0f"
      },
      "source": [
        "a=10\r\n",
        "b=5\r\n",
        "selisih = a-b\r\n",
        "jumlah = a+b\r\n",
        "kali = a*b\r\n",
        "bagi = a/b\r\n",
        "print(\"Hasil penjumlahan a dan b adalah\", jumlah)\r\n",
        "print(\"Selisih a dan b adalah :\",selisih)\r\n",
        "print(\"Hasil perkalian a dan b adalah:\",kali)\r\n",
        "print(\"Hasil pembagian a dan b adalah :\",bagi)"
      ],
      "execution_count": 13,
      "outputs": [
        {
          "output_type": "stream",
          "text": [
            "Hasil penjumlahan a dan b adalah 15\n",
            "Selisih a dan b adalah : 5\n",
            "Hasil perkalian a dan b adalah: 50\n",
            "Hasil pembagian a dan b adalah : 2.0\n"
          ],
          "name": "stdout"
        }
      ]
    },
    {
      "cell_type": "markdown",
      "metadata": {
        "id": "3XMhpRI7CoDn"
      },
      "source": [
        "Operasi modulus"
      ]
    },
    {
      "cell_type": "code",
      "metadata": {
        "colab": {
          "base_uri": "https://localhost:8080/"
        },
        "id": "dcHNWGswCpBZ",
        "outputId": "0be9be10-a64b-48e6-f593-23a2d6bdca79"
      },
      "source": [
        "c=10\r\n",
        "d=3\r\n",
        "\r\n",
        "modulus=c%d\r\n",
        "print(\"Hasil modulus\",modulus)"
      ],
      "execution_count": 14,
      "outputs": [
        {
          "output_type": "stream",
          "text": [
            "Hasil modulus 1\n"
          ],
          "name": "stdout"
        }
      ]
    },
    {
      "cell_type": "markdown",
      "metadata": {
        "id": "Ldt3b21oC5ZJ"
      },
      "source": [
        "Tugas Mid Praktek\r\n",
        "Buatlah sebuah program yang bisa menentukan suatu nilai pada variable itu genap atau ganjil! Lakukan percobaan dengan langkah berikut:\r\n",
        "\r\n",
        "1. Buat variabel dengan nama “angka” isi dengan nilai 10\r\n",
        "2. Ganti bagian … dengan perhitungan untuk menentukan angka modulus 2 bernilai 0.\r\n",
        " Cek apakah benar dia bernilai genap maka keluarkan \"angka termasuk bilangan genap\", jika sudah ganti nilai variable angka dengan nilai 5 cek lagi apakah dia bernilai ganjil dan keluarkan \"angka termasuk bilangan ganjil\"."
      ]
    },
    {
      "cell_type": "code",
      "metadata": {
        "colab": {
          "base_uri": "https://localhost:8080/"
        },
        "id": "UiOU-5hBDGMn",
        "outputId": "4e23c570-2e1c-44e0-a814-ec459d161652"
      },
      "source": [
        "angka=5\r\n",
        "\r\n",
        "if(angka % 2==0):\r\n",
        "    print(\"angka termasuk bilangan genap\")\r\n",
        "else:\r\n",
        "    print(\"angka termasuk bilangan ganjil\")"
      ],
      "execution_count": 15,
      "outputs": [
        {
          "output_type": "stream",
          "text": [
            "angka termasuk bilangan ganjil\n"
          ],
          "name": "stdout"
        }
      ]
    },
    {
      "cell_type": "markdown",
      "metadata": {
        "id": "WFLPs_DMDv4E"
      },
      "source": [
        "PERULANGAN\r\n",
        "\r\n",
        "Perulangan atau looping merupakan salah satu elemen atau fungsi yang bisa dikatakan sangat menunjang untuk kebutuhan programming dan data science.\r\n",
        "\r\n",
        "Tidak mungkin jika kita harus memproses 1000x eksekusi code, kita harus menulis ulang kode tersebut sebanyak 1000x juga.\r\n",
        "\r\n",
        "Selain tidak bersifat scalable, efisiensi akan mempengaruhi performa dari program yang kita buat. Seperti pada umumnya pada python juga memiliki fungsi for dan while untuk melakukan looping. Logikanya hampir sama, namun hanya berbeda dalam penulisannya jika Anda sudah terbiasa dengan C ataupun Java.\r\n",
        "\r\n"
      ]
    },
    {
      "cell_type": "markdown",
      "metadata": {
        "id": "Q4bGrH8QD6sf"
      },
      "source": [
        "while"
      ]
    },
    {
      "cell_type": "code",
      "metadata": {
        "colab": {
          "base_uri": "https://localhost:8080/"
        },
        "id": "crlev4_nD-VG",
        "outputId": "2f009eca-d0c2-419b-d38f-96936c839129"
      },
      "source": [
        "j=0 #nilai awal j =0\r\n",
        "\r\n",
        "while j<6: #ketika j kurang dari 6 lakukan perulangan, jika tidak stop perulangan\r\n",
        "\tprint(\"Ini adalah perulangan ke -\",j) #lakukan perintah ini ketika perulangan \r\n",
        "\tj=j+1 #setiap kali diakhir perulangan update nilai dengan ditambah 1"
      ],
      "execution_count": 16,
      "outputs": [
        {
          "output_type": "stream",
          "text": [
            "Ini adalah perulangan ke - 0\n",
            "Ini adalah perulangan ke - 1\n",
            "Ini adalah perulangan ke - 2\n",
            "Ini adalah perulangan ke - 3\n",
            "Ini adalah perulangan ke - 4\n",
            "Ini adalah perulangan ke - 5\n"
          ],
          "name": "stdout"
        }
      ]
    },
    {
      "cell_type": "markdown",
      "metadata": {
        "id": "gPcO9Zg5EVfs"
      },
      "source": [
        "for (1)"
      ]
    },
    {
      "cell_type": "code",
      "metadata": {
        "colab": {
          "base_uri": "https://localhost:8080/"
        },
        "id": "if2dMzVDEW0j",
        "outputId": "e66c6948-bdeb-4f2a-9ef6-b1ab7469ba75"
      },
      "source": [
        "for i in range (1,6): #perulangan for sebagai inisialisasi dari angka 1 hingga angka yang lebih kecil daripada 6.\r\n",
        "\r\n",
        "\tprint(\"Ini adalah perulangan ke -\",i) #perintah jika looping akan \t\ttetap berjalan\r\n"
      ],
      "execution_count": 17,
      "outputs": [
        {
          "output_type": "stream",
          "text": [
            "Ini adalah perulangan ke - 1\n",
            "Ini adalah perulangan ke - 2\n",
            "Ini adalah perulangan ke - 3\n",
            "Ini adalah perulangan ke - 4\n",
            "Ini adalah perulangan ke - 5\n"
          ],
          "name": "stdout"
        }
      ]
    },
    {
      "cell_type": "markdown",
      "metadata": {
        "id": "7CEChrH7EphE"
      },
      "source": [
        "for (2) with access element\r\n",
        "\r\n",
        "Tugas Praktek\r\n",
        "Buatlah sebuah program yang bisa mengeluarkan angka 1 sampai 10.\r\n",
        "Tampilan akan menunjukan \"Angka ganjil 1\" untuk angka ganjil dan \"Angka genap 2\" untuk angka genap. (Menggunakan looping for)"
      ]
    },
    {
      "cell_type": "code",
      "metadata": {
        "colab": {
          "base_uri": "https://localhost:8080/"
        },
        "id": "jhgXd5bfE7F-",
        "outputId": "c0a68851-ab30-4616-cdf6-cf9bc7925fe8"
      },
      "source": [
        "for i in range (1,11):\r\n",
        "    if(i%2==0):\r\n",
        "        print(\"Angka genap\",i)\r\n",
        "    else:\r\n",
        "         print(\"Angka ganjil\",i)"
      ],
      "execution_count": 20,
      "outputs": [
        {
          "output_type": "stream",
          "text": [
            "Angka ganjil 1\n",
            "Angka genap 2\n",
            "Angka ganjil 3\n",
            "Angka genap 4\n",
            "Angka ganjil 5\n",
            "Angka genap 6\n",
            "Angka ganjil 7\n",
            "Angka genap 8\n",
            "Angka ganjil 9\n",
            "Angka genap 10\n"
          ],
          "name": "stdout"
        }
      ]
    },
    {
      "cell_type": "markdown",
      "metadata": {
        "id": "shgweJHpGDGI"
      },
      "source": [
        "Membuat fungsi sendiri\r\n",
        "\r\n",
        "Fungsi pada Python, dibuat dengan kata kunci def  kemudian diikuti dengan nama fungsinya."
      ]
    },
    {
      "cell_type": "code",
      "metadata": {
        "colab": {
          "base_uri": "https://localhost:8080/"
        },
        "id": "3cbKYn9dGHcN",
        "outputId": "9a907b70-8533-4d22-8ac9-de694cef94b9"
      },
      "source": [
        "# Membuat Fungsi\r\n",
        "def salam():\r\n",
        "\tprint(\"Hello, Selamat Pagi\")\r\n",
        "\r\n",
        "# pemanggilan fungsi\r\n",
        "salam()"
      ],
      "execution_count": 22,
      "outputs": [
        {
          "output_type": "stream",
          "text": [
            "Hello, Selamat Pagi\n"
          ],
          "name": "stdout"
        }
      ]
    },
    {
      "cell_type": "markdown",
      "metadata": {
        "id": "TSy0hxcuGvLp"
      },
      "source": [
        "Parameter pada fungsi\r\n",
        "\r\n",
        "Sekarang, bagaimana kalau kita ingin memberikan input nilai ke dalam fungsi? Kita bisa menggunakan parameter. Parameter adalah variabel yang menampung nilai untuk diproses kedalam suatu fungsi."
      ]
    },
    {
      "cell_type": "code",
      "metadata": {
        "colab": {
          "base_uri": "https://localhost:8080/"
        },
        "id": "DJZN1VFmGy47",
        "outputId": "cdb359a2-f246-419f-fbf0-0c5820218640"
      },
      "source": [
        "def luas_segitiga(alas, tinggi): #alas dan tinggi merupakan parameter yang masuk\r\n",
        "    luas = (alas * tinggi) / 2\r\n",
        "    print(\"Luas segitiga: %f\" % luas);\r\n",
        "\r\n",
        "# Pemanggilan fungsi\r\n",
        "##4 dan 6 merupakan parameter yang diinputkan kedalam fungsi luas segitiga\r\n",
        "luas_segitiga(4, 6) "
      ],
      "execution_count": 24,
      "outputs": [
        {
          "output_type": "stream",
          "text": [
            "Luas segitiga: 12.000000\n"
          ],
          "name": "stdout"
        }
      ]
    },
    {
      "cell_type": "markdown",
      "metadata": {
        "id": "sX-BpclBHiLK"
      },
      "source": [
        "Fungsi dengan Return Value\r\n",
        "\r\n",
        "Fungsi yang tidak mengembalikan nilai biasanya disebut dengan prosedur. Namun, kadang kita butuh hasil proses dari fungsi untuk digunakan pada proses berikutnya. Maka fungsi harus mengembalikan nilai dari hasil pemrosesannya. Cara mengembalikan nilai adalah menggunakan kata kunci return lalu diikuti dengan nilai atau variabel yang akan dikembalikan."
      ]
    },
    {
      "cell_type": "code",
      "metadata": {
        "colab": {
          "base_uri": "https://localhost:8080/"
        },
        "id": "b241uuvcHl0h",
        "outputId": "6c8b7d89-0b35-4ab7-9985-13dc758a586c"
      },
      "source": [
        "def luas_segitiga(alas, tinggi): #alas dan tinggi merupakan parameter yang masuk\r\n",
        "    luas = (alas * tinggi) / 2\r\n",
        "    return luas\r\n",
        "\r\n",
        "\r\n",
        "# Pemanggilan fungsi\r\n",
        "##4 dan 6 merupakan parameter yang diinputkan kedalam fungsi luas segitiga \r\n",
        "print(\"Luas segitiga: %d\" % luas_segitiga(4, 6))\t\t"
      ],
      "execution_count": 25,
      "outputs": [
        {
          "output_type": "stream",
          "text": [
            "Luas segitiga: 12\n"
          ],
          "name": "stdout"
        }
      ]
    },
    {
      "cell_type": "markdown",
      "metadata": {
        "id": "JpyVbMmbIJxG"
      },
      "source": [
        "Import Package dan Menggunakan modul"
      ]
    },
    {
      "cell_type": "code",
      "metadata": {
        "colab": {
          "base_uri": "https://localhost:8080/"
        },
        "id": "YZTntk2wILQT",
        "outputId": "0cd4ca7c-c4d1-4d18-943f-1c21ae13d58c"
      },
      "source": [
        "import math\r\n",
        "print(\"Nilai pi adalah:\", math.pi) #math.pi merupakan sintak untuk memanggil fungsi"
      ],
      "execution_count": 26,
      "outputs": [
        {
          "output_type": "stream",
          "text": [
            "Nilai pi adalah: 3.141592653589793\n"
          ],
          "name": "stdout"
        }
      ]
    },
    {
      "cell_type": "markdown",
      "metadata": {
        "id": "Wna9ww7eIV6W"
      },
      "source": [
        "Import dengan Module Rename atau Alias"
      ]
    },
    {
      "cell_type": "code",
      "metadata": {
        "colab": {
          "base_uri": "https://localhost:8080/"
        },
        "id": "VOLrZ_xUJEhW",
        "outputId": "88bb4eab-d0ff-431e-ab25-59fb574d4429"
      },
      "source": [
        "import math as m\t#menggunakan m sebagai module rename atau alias\r\n",
        "print(\"Nilai pi adalah:\", m.pi) #m.pi merupakan sintak untuk memanggil fungsi"
      ],
      "execution_count": 27,
      "outputs": [
        {
          "output_type": "stream",
          "text": [
            "Nilai pi adalah: 3.141592653589793\n"
          ],
          "name": "stdout"
        }
      ]
    },
    {
      "cell_type": "markdown",
      "metadata": {
        "id": "3xIsVhFqKUDj"
      },
      "source": [
        "Import Sebagian Fungsi\r\n",
        "\r\n",
        "Pada suatu module tidak bisa dipungkiri terdiri dari puluhan bahkan ribuan fungsi. Namun, yang kita butuhkan hanya 1 atau 2 fungsi saja. Untuk meminimalisir ketidakefisienan suatu program dalam load suatu module bisa dilakukan import module namun hanya beberapa fungsi saja yang kita import kedalam code. Format (from module_name import function_name)"
      ]
    },
    {
      "cell_type": "code",
      "metadata": {
        "colab": {
          "base_uri": "https://localhost:8080/"
        },
        "id": "fqKnjlesKevO",
        "outputId": "c17454ff-d08d-476d-e5f7-7f7f41eb3a5d"
      },
      "source": [
        "from math import pi\r\n",
        "print(\"nilai pi adalah\", pi)"
      ],
      "execution_count": 28,
      "outputs": [
        {
          "output_type": "stream",
          "text": [
            "nilai pi adalah 3.141592653589793\n"
          ],
          "name": "stdout"
        }
      ]
    },
    {
      "cell_type": "markdown",
      "metadata": {
        "id": "TS9F_YQHK0if"
      },
      "source": [
        "Import Semua isi Moduls\r\n",
        "\r\n",
        "Namun, jika memang yang dibutuhkan banyak, semisal lebih dari 10 atau bahkan ratusan fungsi, bisa dilakukan import semuanya dengan menggunakan format from module_name import *. Tanda * disini menunjukan semua fungsi diimport kedalam code."
      ]
    },
    {
      "cell_type": "code",
      "metadata": {
        "colab": {
          "base_uri": "https://localhost:8080/"
        },
        "id": "3BvIsev6K3RI",
        "outputId": "1136343d-faf7-425c-dcec-a8d4f23f78fa"
      },
      "source": [
        "from math import *\r\n",
        "print(\"Nilai e adalah :\", e)"
      ],
      "execution_count": 31,
      "outputs": [
        {
          "output_type": "stream",
          "text": [
            "Nilai e adalah : 2.718281828459045\n"
          ],
          "name": "stdout"
        }
      ]
    },
    {
      "cell_type": "markdown",
      "metadata": {
        "id": "AvwjE5YJLJdE"
      },
      "source": [
        "CSV atau comma separated value adalah salah satu tipe file yang digunakan secara luas di dunia programming. Tidak hanya itu CSV pun sering digunakan dalam pengolahan informasi yang dihasilkan spreadsheet untuk diproses lebih lanjut melalui mesin analitik. CSV pun dianggap sebagai file yang agnostik karena dapat digunakan oleh berbagai database untuk proses backup data. CSV dianggap sebagai salah satu tipe data yang sering dipakai untuk mengelola data pada proses lanjutan."
      ]
    },
    {
      "cell_type": "markdown",
      "metadata": {
        "id": "iHSLQdgbLslF"
      },
      "source": [
        "Membaca file CSV dengan menggunakan PANDAS\r\n",
        "\r\n",
        "Bagi yang belum familiar, PANDAS merupakan salah satu library yang sangat sering digunakan untuk aplikasi dan implementasi data science. Baik untuk data manipulation, data pre-processing, atau data wrangling. Pada sesi kali ini, kita akan menggunakan PANDAS untuk membaca file dari csv."
      ]
    },
    {
      "cell_type": "code",
      "metadata": {
        "colab": {
          "base_uri": "https://localhost:8080/"
        },
        "id": "kly_y5t7Qi8q",
        "outputId": "c5c4eea7-1ecd-4cbf-d88a-9f28bd8b8572"
      },
      "source": [
        "import pandas as pd\r\n",
        "\r\n",
        "table = pd.read_csv(\"https://academy.dqlab.id/dataset/penduduk_gender_head.csv\")\r\n",
        "table.head()\r\n",
        "print(table)"
      ],
      "execution_count": 33,
      "outputs": [
        {
          "output_type": "stream",
          "text": [
            "    TAHUN         NAMA PROVINSI  ... Unnamed: 16 Unnamed: 17\n",
            "0    2013  PROVINSI DKI JAKARTA  ...         NaN         NaN\n",
            "1    2013  PROVINSI DKI JAKARTA  ...         NaN         NaN\n",
            "2    2013  PROVINSI DKI JAKARTA  ...         NaN         NaN\n",
            "3    2013  PROVINSI DKI JAKARTA  ...         NaN         NaN\n",
            "4    2013  PROVINSI DKI JAKARTA  ...         NaN         NaN\n",
            "5    2013  PROVINSI DKI JAKARTA  ...         NaN         NaN\n",
            "6    2013  PROVINSI DKI JAKARTA  ...         NaN         NaN\n",
            "7    2013  PROVINSI DKI JAKARTA  ...         NaN         NaN\n",
            "8    2013  PROVINSI DKI JAKARTA  ...         NaN         NaN\n",
            "9    2013  PROVINSI DKI JAKARTA  ...         NaN         NaN\n",
            "10   2013  PROVINSI DKI JAKARTA  ...         NaN         NaN\n",
            "11   2013  PROVINSI DKI JAKARTA  ...         NaN         NaN\n",
            "12   2013  PROVINSI DKI JAKARTA  ...         NaN         NaN\n",
            "13   2013  PROVINSI DKI JAKARTA  ...         NaN         NaN\n",
            "14   2013  PROVINSI DKI JAKARTA  ...         NaN         NaN\n",
            "15   2013  PROVINSI DKI JAKARTA  ...         NaN         NaN\n",
            "16   2013  PROVINSI DKI JAKARTA  ...         NaN         NaN\n",
            "17   2013  PROVINSI DKI JAKARTA  ...         NaN         NaN\n",
            "18   2013  PROVINSI DKI JAKARTA  ...         NaN         NaN\n",
            "19   2013  PROVINSI DKI JAKARTA  ...         NaN         NaN\n",
            "20   2013  PROVINSI DKI JAKARTA  ...         NaN         NaN\n",
            "21   2013  PROVINSI DKI JAKARTA  ...         NaN         NaN\n",
            "22   2013  PROVINSI DKI JAKARTA  ...         NaN         NaN\n",
            "23   2013  PROVINSI DKI JAKARTA  ...         NaN         NaN\n",
            "24   2013  PROVINSI DKI JAKARTA  ...         NaN         NaN\n",
            "25   2013  PROVINSI DKI JAKARTA  ...         NaN         NaN\n",
            "26   2013  PROVINSI DKI JAKARTA  ...         NaN         NaN\n",
            "27   2013  PROVINSI DKI JAKARTA  ...         NaN         NaN\n",
            "28   2013  PROVINSI DKI JAKARTA  ...         NaN         NaN\n",
            "29   2013  PROVINSI DKI JAKARTA  ...         NaN         NaN\n",
            "30   2013  PROVINSI DKI JAKARTA  ...         NaN         NaN\n",
            "31   2013  PROVINSI DKI JAKARTA  ...         NaN         NaN\n",
            "32   2013  PROVINSI DKI JAKARTA  ...         NaN         NaN\n",
            "33   2013  PROVINSI DKI JAKARTA  ...         NaN         NaN\n",
            "34   2013  PROVINSI DKI JAKARTA  ...         NaN         NaN\n",
            "35   2013  PROVINSI DKI JAKARTA  ...         NaN         NaN\n",
            "36   2013  PROVINSI DKI JAKARTA  ...         NaN         NaN\n",
            "37   2013  PROVINSI DKI JAKARTA  ...         NaN         NaN\n",
            "38   2013  PROVINSI DKI JAKARTA  ...         NaN         NaN\n",
            "39   2013  PROVINSI DKI JAKARTA  ...         NaN         NaN\n",
            "40   2013  PROVINSI DKI JAKARTA  ...         NaN         NaN\n",
            "41   2013  PROVINSI DKI JAKARTA  ...         NaN         NaN\n",
            "42   2013  PROVINSI DKI JAKARTA  ...         NaN         NaN\n",
            "43   2013  PROVINSI DKI JAKARTA  ...         NaN         NaN\n",
            "\n",
            "[44 rows x 18 columns]\n"
          ],
          "name": "stdout"
        }
      ]
    },
    {
      "cell_type": "markdown",
      "metadata": {
        "id": "Fj_0pmhGRk5v"
      },
      "source": [
        "Bar Chart\r\n",
        "\r\n",
        "Sebelum masuk pada membuat grafik bar, kita akan membahas library yang akan gunakan. Pada Python sangat banyak library untuk visualisasi. Salah satu yang paling sering digunakan adalah matplotlib karena memang sudah lama dan relatif stabil dalam perkembangannya. Maka dari itu, matplotlib dipilih untuk belajar visualisasi pada sesi kali ini. Matplotlib sendiri menyediakan banyak jenis grafik mulai dari scatter/plot, line, bar, dan lain-lain. Pada praktek ini, ada tambahan library selain dengan menggunakan matplotlib dan pandas, kita akan menggunakan numpy. Numpy sendiri pada praktek kali ini digunakan untuk melakukan manipulasi data dari csv untuk memudahkan visualisasi."
      ]
    },
    {
      "cell_type": "code",
      "metadata": {
        "colab": {
          "base_uri": "https://localhost:8080/",
          "height": 265
        },
        "id": "H7_LqPw3RqM4",
        "outputId": "fed9b336-8779-4557-8555-e19f052957c9"
      },
      "source": [
        "import pandas as pd\r\n",
        "import numpy as np\r\n",
        "import matplotlib.pyplot as plt\r\n",
        "\r\n",
        "table = pd.read_csv(\"https://academy.dqlab.id/dataset/penduduk_gender_head.csv\")\r\n",
        "table.head()\r\n",
        "x_label = table['NAMA KELURAHAN']\r\n",
        "plt.bar(x=np.arange(len(x_label)),height=table['LAKI-LAKI WNI'])\r\n",
        "plt.show()"
      ],
      "execution_count": 34,
      "outputs": [
        {
          "output_type": "display_data",
          "data": {
            "image/png": "[encoded data removed]",
            "text/plain": [
              "<Figure size 432x288 with 1 Axes>"
            ]
          },
          "metadata": {
            "tags": [],
            "needs_background": "light"
          }
        }
      ]
    },
    {
      "cell_type": "markdown",
      "metadata": {
        "id": "4Mvrvf5YR41I"
      },
      "source": [
        "Parameter dalam Grafik (Memberikan Nilai Axis dari data CSV)\r\n",
        "\r\n",
        "Jika ditelisik lebih dalam pada CSV, disitu ada nama kelurahan yang merupakan variabel atau seharusnya menjadi nilai AXIS pada grafik ini. Di praktek kali ini, kita akan mencoba bagaimana menempatkan nama kelurahan pada grafik."
      ]
    },
    {
      "cell_type": "code",
      "metadata": {
        "colab": {
          "base_uri": "https://localhost:8080/",
          "height": 330
        },
        "id": "Euo5rdWmR7EC",
        "outputId": "c0a1fff1-4e99-4b36-94c8-6041716c5f72"
      },
      "source": [
        "import pandas as pd\r\n",
        "import numpy as np\r\n",
        "import matplotlib.pyplot as plt\r\n",
        "\r\n",
        "table = pd.read_csv(\"https://academy.dqlab.id/dataset/penduduk_gender_head.csv\")\r\n",
        "table.head()\r\n",
        "\r\n",
        "x_label = table['NAMA KELURAHAN']\r\n",
        "plt.bar(x=np.arange(len(x_label)),height=table['LAKI-LAKI WNI'])\r\n",
        "plt.xticks(np.arange(len(x_label)), table['NAMA KELURAHAN'], rotation=30)\r\n",
        "plt.show()\t"
      ],
      "execution_count": 35,
      "outputs": [
        {
          "output_type": "display_data",
          "data": {
            "image/png": "[encoded data removed]",
            "text/plain": [
              "<Figure size 432x288 with 1 Axes>"
            ]
          },
          "metadata": {
            "tags": [],
            "needs_background": "light"
          }
        }
      ]
    },
    {
      "cell_type": "markdown",
      "metadata": {
        "id": "t2Ig6Jn5SMgo"
      },
      "source": [
        "Menambah Title dan Label pada Grafik\r\n",
        "\r\n",
        "Pada implementasi grafik, penting nyatanya untuk memberikan label pada AXIS dan Ordinat untuk menjelaskan maksud grafik. Pada Praktek kali ini, kita akan mencoba memberikan label dan title pada grafik yang telah dibuat sebelumnya."
      ]
    },
    {
      "cell_type": "code",
      "metadata": {
        "colab": {
          "base_uri": "https://localhost:8080/",
          "height": 418
        },
        "id": "nnnCOp20SPCk",
        "outputId": "2f2ba751-3b1d-47d6-b728-88c3afd5c812"
      },
      "source": [
        "import pandas as pd\r\n",
        "import numpy as np\r\n",
        "import matplotlib.pyplot as plt\r\n",
        "\r\n",
        "\r\n",
        "table = pd.read_csv(\"https://academy.dqlab.id/dataset/penduduk_gender_head.csv\")\r\n",
        "table.head()\r\n",
        "\r\n",
        "x_label = table['NAMA KELURAHAN']\r\n",
        "plt.bar(x=np.arange(len(x_label)),height=table['LAKI-LAKI WNI'])\r\n",
        "plt.xticks(np.arange(len(x_label)), table['NAMA KELURAHAN'], rotation=90)\r\n",
        "plt.xlabel('Keluarahan di Jakarta pusat')\r\n",
        "plt.ylabel('Jumlah Penduduk Laki - Laki')\r\n",
        "plt.title('Persebaran Jumlah Penduduk Laki- Laki di Jakarta Pusat')\r\n",
        "\r\n",
        "plt.show()\t\t\t\t"
      ],
      "execution_count": 36,
      "outputs": [
        {
          "output_type": "display_data",
          "data": {
            "image/png": "[encoded data removed]",
            "text/plain": [
              "<Figure size 432x288 with 1 Axes>"
            ]
          },
          "metadata": {
            "tags": [],
            "needs_background": "light"
          }
        }
      ]
    },
    {
      "cell_type": "markdown",
      "metadata": {
        "id": "JF8RGQDbSrWT"
      },
      "source": [
        "![image.png](data:image/png;base64,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)"
      ]
    }
  ]
}