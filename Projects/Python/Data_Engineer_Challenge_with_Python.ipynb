{
  "nbformat": 4,
  "nbformat_minor": 0,
  "metadata": {
    "colab": {
      "name": " Data Engineer Challenge with Python.ipynb",
      "provenance": [],
      "collapsed_sections": []
    },
    "kernelspec": {
      "name": "python3",
      "display_name": "Python 3"
    }
  },
  "cells": [
    {
      "cell_type": "code",
      "metadata": {
        "id": "gpk3WaRKDmDo"
      },
      "source": [
        "#import library yang dibutuhkan\r\n",
        "import pandas as pd \r\n",
        "import requests\r\n",
        "from bs4 import BeautifulSoup\r\n",
        "\r\n",
        "#buatlah request ke website\r\n",
        "website_url = requests.get('https://id.wikipedia.org/wiki/Demografi_Indonesia').text\r\n",
        "soup = BeautifulSoup(website_url, 'lxml')\r\n",
        "\r\n",
        "#ambil table dengan class 'wikitable sortable'\r\n",
        "my_table = soup.find('table',{'class':'wikitable sortable'})\r\n",
        "\r\n",
        "#cari data dengan tag 'td'\r\n",
        "links = my_table.findAll('td')\r\n",
        "\r\n",
        "#buatlah lists kosong \r\n",
        "kode_bps = []\r\n",
        "nama = []\r\n",
        "ibu_kota = []\r\n",
        "populasi = []\r\n",
        "luas_km = []\r\n",
        "pulau = []\r\n",
        "\r\n",
        "#memasukkan data ke dalam list berdasarkan pola HTML\r\n",
        "for i, link in enumerate(links):\r\n",
        "  if i in range(0, len(links), 9):\r\n",
        "  \tkode_bps.append(link.get_text())\r\n",
        "  if i in range(2, len(links), 9):\r\n",
        "  \tnama.append(link.get_text())\r\n",
        "  if i in range(4, len(links), 9):\r\n",
        "  \tibu_kota.append(link.get_text())\r\n",
        "  if i in range(5, len(links), 9):\r\n",
        "  \tpopulasi.append(link.get_text())\r\n",
        "  if i in range(6, len(links), 9):\r\n",
        "  \tluas_km.append(link.get_text())\r\n",
        "  if i in range(8, len(links), 9):\r\n",
        "  \tpulau.append(link.get_text()[:-1])\r\n",
        "\r\n",
        "#buatlah DataFrame dan masukkan ke CSV\r\n",
        "df = pd.DataFrame()\r\n",
        "df['Kode BPS'] = kode_bps\r\n",
        "df['Nama'] = nama\r\n",
        "df['Ibu Kota'] = ibu_kota\r\n",
        "df['Populasi'] = populasi\r\n",
        "df['Luas km'] = luas_km\r\n",
        "df['Pulau'] = pulau\r\n",
        "df.to_csv('Indonesia_Demography_by_Province.csv', index=False, encoding='utf-8', quoting=1)"
      ],
      "execution_count": 3,
      "outputs": []
    },
    {
      "cell_type": "code",
      "metadata": {
        "colab": {
          "base_uri": "https://localhost:8080/",
          "height": 206
        },
        "id": "1rS54PvYHQoz",
        "outputId": "e0b0b5a9-6836-440f-fab5-f539ec882453"
      },
      "source": [
        "df.head()"
      ],
      "execution_count": 4,
      "outputs": [
        {
          "output_type": "execute_result",
          "data": {
            "text/html": [
              "<div>\n",
              "<style scoped>\n",
              "    .dataframe tbody tr th:only-of-type {\n",
              "        vertical-align: middle;\n",
              "    }\n",
              "\n",
              "    .dataframe tbody tr th {\n",
              "        vertical-align: top;\n",
              "    }\n",
              "\n",
              "    .dataframe thead th {\n",
              "        text-align: right;\n",
              "    }\n",
              "</style>\n",
              "<table border=\"1\" class=\"dataframe\">\n",
              "  <thead>\n",
              "    <tr style=\"text-align: right;\">\n",
              "      <th></th>\n",
              "      <th>Kode BPS</th>\n",
              "      <th>Nama</th>\n",
              "      <th>Ibu Kota</th>\n",
              "      <th>Populasi</th>\n",
              "      <th>Luas km</th>\n",
              "      <th>Pulau</th>\n",
              "    </tr>\n",
              "  </thead>\n",
              "  <tbody>\n",
              "    <tr>\n",
              "      <th>0</th>\n",
              "      <td>11</td>\n",
              "      <td>Aceh</td>\n",
              "      <td>Banda Aceh</td>\n",
              "      <td>4.494.410</td>\n",
              "      <td>56.500,51</td>\n",
              "      <td>Sumatra</td>\n",
              "    </tr>\n",
              "    <tr>\n",
              "      <th>1</th>\n",
              "      <td>12</td>\n",
              "      <td>Sumatra Utara</td>\n",
              "      <td>Medan</td>\n",
              "      <td>12.982.204</td>\n",
              "      <td>72.427,81</td>\n",
              "      <td>Sumatra</td>\n",
              "    </tr>\n",
              "    <tr>\n",
              "      <th>2</th>\n",
              "      <td>13</td>\n",
              "      <td>Sumatra Barat</td>\n",
              "      <td>Padang</td>\n",
              "      <td>4.846.909</td>\n",
              "      <td>42.224,65</td>\n",
              "      <td>Sumatra</td>\n",
              "    </tr>\n",
              "    <tr>\n",
              "      <th>3</th>\n",
              "      <td>14</td>\n",
              "      <td>Riau</td>\n",
              "      <td>Pekanbaru</td>\n",
              "      <td>5.538.367</td>\n",
              "      <td>87.844,23</td>\n",
              "      <td>Sumatra</td>\n",
              "    </tr>\n",
              "    <tr>\n",
              "      <th>4</th>\n",
              "      <td>15</td>\n",
              "      <td>Jambi</td>\n",
              "      <td>Jambi</td>\n",
              "      <td>3.092.265</td>\n",
              "      <td>45.348,49</td>\n",
              "      <td>Sumatra</td>\n",
              "    </tr>\n",
              "  </tbody>\n",
              "</table>\n",
              "</div>"
            ],
            "text/plain": [
              "  Kode BPS           Nama    Ibu Kota    Populasi    Luas km    Pulau\n",
              "0       11           Aceh  Banda Aceh   4.494.410  56.500,51  Sumatra\n",
              "1       12  Sumatra Utara       Medan  12.982.204  72.427,81  Sumatra\n",
              "2       13  Sumatra Barat      Padang   4.846.909  42.224,65  Sumatra\n",
              "3       14           Riau   Pekanbaru   5.538.367  87.844,23  Sumatra\n",
              "4       15          Jambi       Jambi   3.092.265  45.348,49  Sumatra"
            ]
          },
          "metadata": {
            "tags": []
          },
          "execution_count": 4
        }
      ]
    },
    {
      "cell_type": "markdown",
      "metadata": {
        "id": "jufwen8YLCdQ"
      },
      "source": [
        "Function and Regular Expression"
      ]
    },
    {
      "cell_type": "code",
      "metadata": {
        "colab": {
          "base_uri": "https://localhost:8080/"
        },
        "id": "mXtSPVXiLF32",
        "outputId": "cc4a641e-4f9c-4ddc-efe1-42f4ece7227e"
      },
      "source": [
        "#import library yang dibutuhkan\r\n",
        "import re\r\n",
        "\r\n",
        "#function email_check\r\n",
        "def email_check(input):\r\n",
        "\tmatch = re.search('(?=^((?!-).)*$)(?=[^0-9])((?=^((?!\\.\\d).)*$)|(?=.*_))',input)\r\n",
        "\tif match:\r\n",
        "\t\tprint('Pass')\r\n",
        "\telse:\r\n",
        "\t\tprint('Not Pass')\r\n",
        "\r\n",
        "#Masukkan data email ke dalam list\r\n",
        "emails = ['my-name@someemail.com', 'myname@someemail.com','my.name@someemail.com',\r\n",
        "'my.name2019@someemail.com', 'my.name.2019@someemail.com',\r\n",
        "'somename.201903@someemail.com','my_name.201903@someemail.com',\r\n",
        "'201903myname@someemail.com', '201903.myname@someemail.com']\r\n",
        "\r\n",
        "#Looping untuk pengecekan Pass atau Not Pass\r\n",
        "for email in emails :\r\n",
        "\temail_check(email)\r\n",
        "\r\n"
      ],
      "execution_count": 8,
      "outputs": [
        {
          "output_type": "stream",
          "text": [
            "Not Pass\n",
            "Pass\n",
            "Pass\n",
            "Pass\n",
            "Not Pass\n",
            "Not Pass\n",
            "Pass\n",
            "Not Pass\n",
            "Not Pass\n"
          ],
          "name": "stdout"
        }
      ]
    }
  ]
}